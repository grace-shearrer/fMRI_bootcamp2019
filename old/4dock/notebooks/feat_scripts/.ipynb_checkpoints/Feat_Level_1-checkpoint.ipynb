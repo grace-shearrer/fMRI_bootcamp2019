{
 "cells": [
  {
   "cell_type": "markdown",
   "metadata": {
    "slideshow": {
     "slide_type": "slide"
    }
   },
   "source": [
    "# Level 1 FEAT setup!"
   ]
  },
  {
   "cell_type": "markdown",
   "metadata": {
    "slideshow": {
     "slide_type": "slide"
    }
   },
   "source": [
    "## Open up a fresh blank script in your Spyder IDE and save it as make_level1.py\n",
    "For this tutorial you will input all code into this script and periodically commit your changes and push them to github when you see the logo \n",
    "![](https://imageog.flaticon.com/icons/png/512/3/3641.png?size=1200x630f&pad=10,10,10,10&ext=png&bg=FFFFFFFF)"
   ]
  },
  {
   "cell_type": "markdown",
   "metadata": {
    "slideshow": {
     "slide_type": "slide"
    }
   },
   "source": [
    "## As always we are going to start by importing our modules"
   ]
  },
  {
   "cell_type": "code",
   "execution_count": 1,
   "metadata": {
    "collapsed": true
   },
   "outputs": [],
   "source": [
    "import glob\n",
    "import os\n",
    "from subprocess import check_output\n",
    "#import pdb\n",
    "import argparse\n",
    "from IPython.display import Image\n",
    "from IPython.core.display import HTML "
   ]
  },
  {
   "cell_type": "markdown",
   "metadata": {
    "slideshow": {
     "slide_type": "slide"
    }
   },
   "source": [
    "## Lets start by building our two functions. This time we will call the first create_fsf( ) and as always main( )"
   ]
  },
  {
   "cell_type": "markdown",
   "metadata": {
    "slideshow": {
     "slide_type": "fragment"
    }
   },
   "source": [
    "```\n",
    "def create_fsf():\n",
    "```"
   ]
  },
  {
   "cell_type": "markdown",
   "metadata": {
    "slideshow": {
     "slide_type": "fragment"
    }
   },
   "source": [
    "```\n",
    "def main ():\n",
    "```"
   ]
  },
  {
   "cell_type": "markdown",
   "metadata": {
    "slideshow": {
     "slide_type": "fragment"
    }
   },
   "source": [
    "```\n",
    "main()\n",
    "```"
   ]
  },
  {
   "cell_type": "markdown",
   "metadata": {
    "slideshow": {
     "slide_type": "slide"
    }
   },
   "source": [
    "![](https://imageog.flaticon.com/icons/png/512/3/3641.png?size=1200x630f&pad=10,10,10,10&ext=png&bg=FFFFFFFF)"
   ]
  },
  {
   "cell_type": "markdown",
   "metadata": {
    "slideshow": {
     "slide_type": "slide"
    }
   },
   "source": [
    "## Strategy: \n",
    "\n",
    "We are going to use the .fsf file to automate our feat analysis. To do this we are going to need to do the following:\n",
    "1. Decide on our analysis plan (what variables are we using? This should be done before we even try to automate)\n",
    "2. Get a .fsf and find all the variables we are going to automate and which will be hard coded\n",
    "3. Use a dictonary in python to fill in our fsf file\n",
    "4. Make a script to run our new fsf files in parallel"
   ]
  },
  {
   "cell_type": "markdown",
   "metadata": {
    "slideshow": {
     "slide_type": "slide"
    }
   },
   "source": [
    "## 1. Decide on our analysis plan (what variables are we using? This should be done before we even try to automate)\n",
    "\n",
    "Normally this would be set out before you even gathered your data, or if you are doing secondary data analysis, before you dive into the data. You could even do a spiffy pre-reg https://osf.io/\n",
    "\n",
    "Since this is a workshop we are going to pretend we did all that leg work. We are going to use the bart task and look at the difference between CASH trials and the ACCEPT trials and EXPLODE trials. Does this analysis make sense in real life? I don't know, but that doesn't really matter here.\n",
    "\n"
   ]
  },
  {
   "cell_type": "markdown",
   "metadata": {
    "slideshow": {
     "slide_type": "slide"
    }
   },
   "source": [
    "## 2. Get a .fsf and find all the variables we are going to automate and which will be hard coded\n",
    "\n",
    "The easiest way to do this is to fire up the Feat gui and to start a list of variables we are going to hard code and those we are going to fill in through python."
   ]
  },
  {
   "cell_type": "markdown",
   "metadata": {
    "slideshow": {
     "slide_type": "slide"
    }
   },
   "source": [
    "![alt text](https://github.com/grace-shearrer/nibl_workshop/blob/master/feat_data.png?raw=true \"Logo Title Text 1\")"
   ]
  },
  {
   "cell_type": "markdown",
   "metadata": {
    "slideshow": {
     "slide_type": "fragment"
    }
   },
   "source": [
    "We can do a lot of heavy lifting here. \n",
    "Notice my output directory is now just OUTPUT\n",
    "I have variables for the total volumes and the TRs\n",
    "I try to populate as many fields as possible with info from the image "
   ]
  },
  {
   "cell_type": "markdown",
   "metadata": {
    "slideshow": {
     "slide_type": "fragment"
    }
   },
   "source": [
    "![](https://github.com/grace-shearrer/nibl_workshop/blob/master/feat_input.png?raw=true)"
   ]
  },
  {
   "cell_type": "markdown",
   "metadata": {
    "slideshow": {
     "slide_type": "slide"
    }
   },
   "source": [
    "![](https://github.com/grace-shearrer/nibl_workshop/blob/master/feat_prestats.png?raw=true)"
   ]
  },
  {
   "cell_type": "markdown",
   "metadata": {
    "slideshow": {
     "slide_type": "fragment"
    }
   },
   "source": [
    "Alternatively, the pre-stats can almost be completely filled into the GUI once\n",
    "Why would we ever change this between runs/subjects? I can't think of a reason"
   ]
  },
  {
   "cell_type": "markdown",
   "metadata": {
    "slideshow": {
     "slide_type": "slide"
    }
   },
   "source": [
    "## Now to the registration tab, this is big choice point! Are we planning on using data registered elsewhere?"
   ]
  },
  {
   "cell_type": "markdown",
   "metadata": {
    "slideshow": {
     "slide_type": "slide"
    }
   },
   "source": [
    "## Nope gonna register it right here"
   ]
  },
  {
   "cell_type": "markdown",
   "metadata": {
    "slideshow": {
     "slide_type": "fragment"
    }
   },
   "source": [
    "![](https://github.com/grace-shearrer/nibl_workshop/blob/master/feat_reg.png?raw=true)"
   ]
  },
  {
   "cell_type": "markdown",
   "metadata": {
    "slideshow": {
     "slide_type": "fragment"
    }
   },
   "source": [
    "Since we are loading in our anatomical image we are going to create a variable for it. Make sure you have the correct path to your standard space!"
   ]
  },
  {
   "cell_type": "markdown",
   "metadata": {
    "slideshow": {
     "slide_type": "slide"
    }
   },
   "source": [
    "## I'll hand my own registration elsewhere thank you"
   ]
  },
  {
   "cell_type": "markdown",
   "metadata": {
    "slideshow": {
     "slide_type": "fragment"
    }
   },
   "source": [
    "![](https://github.com/grace-shearrer/nibl_workshop/blob/master/feat_noreg.png?raw=true)"
   ]
  },
  {
   "cell_type": "markdown",
   "metadata": {
    "slideshow": {
     "slide_type": "fragment"
    }
   },
   "source": [
    "We probably spent a long time (or computing power) on our custom registration, so let's save time here and use only 6 DOF ;)"
   ]
  },
  {
   "cell_type": "markdown",
   "metadata": {
    "slideshow": {
     "slide_type": "slide"
    }
   },
   "source": [
    "## The heavy lifting: The Stats Tab!"
   ]
  },
  {
   "cell_type": "markdown",
   "metadata": {
    "slideshow": {
     "slide_type": "fragment"
    }
   },
   "source": [
    "![](https://github.com/grace-shearrer/nibl_workshop/blob/master/feat_stats.png?raw=true)"
   ]
  },
  {
   "cell_type": "markdown",
   "metadata": {
    "slideshow": {
     "slide_type": "fragment"
    }
   },
   "source": [
    "Notice we have both the FILM prewhiting tab and the Add additional confounds checked."
   ]
  },
  {
   "cell_type": "markdown",
   "metadata": {
    "slideshow": {
     "slide_type": "fragment"
    }
   },
   "source": [
    "![](https://github.com/grace-shearrer/nibl_workshop/blob/master/feat_conf.png?raw=true)"
   ]
  },
  {
   "cell_type": "markdown",
   "metadata": {
    "slideshow": {
     "slide_type": "slide"
    }
   },
   "source": [
    "![](https://github.com/grace-shearrer/nibl_workshop/blob/master/feat_modelev.png?raw=true)"
   ]
  },
  {
   "cell_type": "markdown",
   "metadata": {
    "slideshow": {
     "slide_type": "fragment"
    }
   },
   "source": [
    "Here we can set a variable for each EVTITLE and the EV itself\n",
    "We just need to make sure they match \n",
    "We can also do this for the motion correction parameters (if we chose not to do it through FEAT)"
   ]
  },
  {
   "cell_type": "markdown",
   "metadata": {
    "slideshow": {
     "slide_type": "slide"
    }
   },
   "source": [
    "![](https://github.com/grace-shearrer/nibl_workshop/blob/master/feat_moco.png?raw=true)"
   ]
  },
  {
   "cell_type": "markdown",
   "metadata": {
    "slideshow": {
     "slide_type": "fragment"
    }
   },
   "source": [
    "Notice for the motion correction I have set the shape to a single column and the convolution to none.\n",
    "#### Concept Check: Why did set the convolution to none?"
   ]
  },
  {
   "cell_type": "markdown",
   "metadata": {
    "slideshow": {
     "slide_type": "slide"
    }
   },
   "source": [
    "![](https://github.com/grace-shearrer/nibl_workshop/blob/master/feat_modelcon.png?raw=true)"
   ]
  },
  {
   "cell_type": "markdown",
   "metadata": {
    "slideshow": {
     "slide_type": "fragment"
    }
   },
   "source": [
    "Here are the fake contrasts we will look at\n",
    "I like to take a screenshot of this as a reference since after this fsl will refer to these by number only\n",
    "#### Future Knowledge: What does fsl call the higher level directories based on our contrasts?"
   ]
  },
  {
   "cell_type": "markdown",
   "metadata": {
    "slideshow": {
     "slide_type": "slide"
    }
   },
   "source": [
    "## Last but not least (ok kinda least): POST STATS"
   ]
  },
  {
   "cell_type": "markdown",
   "metadata": {
    "slideshow": {
     "slide_type": "fragment"
    }
   },
   "source": [
    "![](https://github.com/grace-shearrer/nibl_workshop/blob/master/feat_poststats.png?raw=true)"
   ]
  },
  {
   "cell_type": "markdown",
   "metadata": {
    "slideshow": {
     "slide_type": "fragment"
    }
   },
   "source": [
    "My personal favorite, turn everything off we will come back to this when we do our group level model"
   ]
  },
  {
   "cell_type": "markdown",
   "metadata": {
    "slideshow": {
     "slide_type": "slide"
    }
   },
   "source": [
    "## Great we are done with our one GUI, and if you tend to do similar analyeses maybe the last ever! Click save and save the file as:\n",
    "## Level1_design.fsf\n",
    "The GUI will get mad at you and tell you you are missing a lot of stuff. Just click through.\n",
    "Make sure the .fsf file was generated. We can delete all the other files."
   ]
  },
  {
   "cell_type": "markdown",
   "metadata": {
    "slideshow": {
     "slide_type": "slide"
    }
   },
   "source": [
    "### Let's remind ourselves what we variables we will need to generate\n",
    "1. FUNCRUN = this will be our input image\n",
    "2. NTIMEPOINTS = this is the number of timepoints per image\n",
    "3. TRS = this is the TRs in the nifti\n",
    "4. OUTPUT = what we want to call our output directory, it will be something .feat\n",
    "5. ANAT = this is our T1W image, if we are using FNIRT it needs have skull, if we are using FLIRT we want the defaced (betted)\n",
    "6. CONFOUNDS = this is the confound.txt file generated from fsl_motion_outliers that we should have in our motion assessment directory if our prepro script worked\n",
    "7. EV = this is the path to the explanatory variable text file we want to use (we will have more than 1), each needs to be in the 3 column format\n",
    "8. EVTITLE = this is a useful name for each EV\n",
    "9. MOTCOR = this is the path to the motion parameters we generated in with the preprocessing script"
   ]
  },
  {
   "cell_type": "markdown",
   "metadata": {
    "slideshow": {
     "slide_type": "fragment"
    }
   },
   "source": [
    "### Let's also remember a major choice point\n",
    "Are we using feat to register or no?"
   ]
  },
  {
   "cell_type": "markdown",
   "metadata": {
    "slideshow": {
     "slide_type": "slide"
    }
   },
   "source": [
    "## At this time let's open that .fsf file we just created with our text editor and take a look at our handy work!"
   ]
  },
  {
   "cell_type": "markdown",
   "metadata": {
    "slideshow": {
     "slide_type": "slide"
    }
   },
   "source": [
    "![](https://imageog.flaticon.com/icons/png/512/3/3641.png?size=1200x630f&pad=10,10,10,10&ext=png&bg=FFFFFFFF)"
   ]
  },
  {
   "cell_type": "markdown",
   "metadata": {
    "slideshow": {
     "slide_type": "slide"
    }
   },
   "source": [
    "## Okay now for the actual python part! \n",
    "right now our script looks a little bare"
   ]
  },
  {
   "cell_type": "markdown",
   "metadata": {
    "slideshow": {
     "slide_type": "fragment"
    }
   },
   "source": [
    "```\n",
    "def create_fsf():\n",
    "    \n",
    "def main():\n",
    "    \n",
    "main()\n",
    "```"
   ]
  },
  {
   "cell_type": "markdown",
   "metadata": {
    "slideshow": {
     "slide_type": "slide"
    }
   },
   "source": [
    "## Let's set up some globals\n",
    "### What are we sure we are going to need?\n",
    "1. basedir = this is going to be like second nature, where is our data?\n",
    "2. outdir = where is our output data located, if we are using a bids like structure probably some where with derivative in the directory tree\n",
    "3. Do we want to pass arguments via argparse? YES \n",
    "   * We have multiple tasks so we will want something argument to differentiate task\n",
    "   * We have a lot of potential EVs so we will want something that will take multiple arguments\n",
    "   * We have a serious choice point of to reg or not to reg (shakespeare's got nothing on us)\n",
    "### Give it a try and write your main( ) function"
   ]
  },
  {
   "cell_type": "code",
   "execution_count": null,
   "metadata": {
    "collapsed": true,
    "slideshow": {
     "slide_type": "slide"
    }
   },
   "outputs": [],
   "source": [
    "def main ():\n",
    "  basedir='/Users/gracer/Desktop/data'\n",
    "  outdir=os.path.join(basedir,'derivatives','task')\n",
    "  parser=argparse.ArgumentParser(description='making fsf files')\n",
    "  parser.add_argument('-noreg',dest='NOREG', action='store_true',\n",
    "                        default=False, help='Did you already register your data (using ANTZ maybe)?')\n",
    "  parser.add_argument('-task',dest='TASK',\n",
    "                        default=False, help='which task are we using?')\n",
    "  parser.add_argument('-evs',dest='EV',nargs='+',\n",
    "                        default=False, help='which evs are we using?')\n",
    "\n",
    "  repl_dict={}\n",
    "  args = parser.parse_args()\n",
    "  arglist={}\n",
    "  for a in args._get_kwargs():\n",
    "      arglist[a[0]]=a[1]\n",
    "      print(arglist)\n",
    "  create_fsf(basedir,repl_dict, outdir, arglist)"
   ]
  },
  {
   "cell_type": "markdown",
   "metadata": {
    "slideshow": {
     "slide_type": "fragment"
    }
   },
   "source": [
    "## This is what I came up with does anyone have anything different? There are a lot of ways we could accomplish this"
   ]
  },
  {
   "cell_type": "markdown",
   "metadata": {
    "slideshow": {
     "slide_type": "slide"
    }
   },
   "source": [
    "![](https://imageog.flaticon.com/icons/png/512/3/3641.png?size=1200x630f&pad=10,10,10,10&ext=png&bg=FFFFFFFF)"
   ]
  },
  {
   "cell_type": "markdown",
   "metadata": {
    "slideshow": {
     "slide_type": "slide"
    }
   },
   "source": [
    "## On to the meaty bits! The create_fsf( ) function!"
   ]
  },
  {
   "cell_type": "markdown",
   "metadata": {
    "slideshow": {
     "slide_type": "fragment"
    }
   },
   "source": [
    "## We need to get all the subjects.\n",
    "### Concept Check: What can we use to get all the subjects?"
   ]
  },
  {
   "cell_type": "markdown",
   "metadata": {
    "slideshow": {
     "slide_type": "slide"
    }
   },
   "source": [
    "![](https://i.imgur.com/itVtNcK.gif)"
   ]
  },
  {
   "cell_type": "code",
   "execution_count": 3,
   "metadata": {
    "slideshow": {
     "slide_type": "fragment"
    }
   },
   "outputs": [
    {
     "name": "stdout",
     "output_type": "stream",
     "text": [
      "['', 'Users', 'gracer', 'Desktop', 'data', 'sub-10159', 'func', 'sub-10159_task-bart_bold_brain.nii.gz']\n",
      "['/Users/gracer/Desktop/data/sub-10159/func/sub-10159_task-bart_bold.nii.gz', '/Users/gracer/Desktop/data/sub-10159/func/sub-10159_task-bart_bold_brain.nii.gz', '/Users/gracer/Desktop/data/sub-10159/func/sub-10159_task-bart_bold_brain_mask.nii.gz', '/Users/gracer/Desktop/data/sub-10159/func/sub-10159_task-bart_bold_brain_mcf.nii.gz', '/Users/gracer/Desktop/data/sub-10159/func/sub-10159_task-rest_bold.nii.gz', '/Users/gracer/Desktop/data/sub-10159/func/sub-10159_task-scap_bold.nii.gz', '/Users/gracer/Desktop/data/sub-10159/func/sub-10159_task-stopsignal_bold.nii.gz', '/Users/gracer/Desktop/data/sub-10159/func/sub-10159_task-taskswitch_bold.nii.gz', '/Users/gracer/Desktop/data/sub-10171/func/sub-10171_task-bart_bold.nii.gz', '/Users/gracer/Desktop/data/sub-10171/func/sub-10171_task-bart_bold_brain.nii.gz', '/Users/gracer/Desktop/data/sub-10171/func/sub-10171_task-bart_bold_brain_mask.nii.gz', '/Users/gracer/Desktop/data/sub-10171/func/sub-10171_task-bart_bold_brain_mcf.nii.gz', '/Users/gracer/Desktop/data/sub-10171/func/sub-10171_task-bht_bold.nii.gz', '/Users/gracer/Desktop/data/sub-10171/func/sub-10171_task-rest_bold.nii.gz', '/Users/gracer/Desktop/data/sub-10171/func/sub-10171_task-scap_bold.nii.gz', '/Users/gracer/Desktop/data/sub-10171/func/sub-10171_task-stopsignal_bold.nii.gz', '/Users/gracer/Desktop/data/sub-10171/func/sub-10171_task-taskswitch_bold.nii.gz', '/Users/gracer/Desktop/data/sub-10189/func/sub-10189_task-bart_bold.nii.gz', '/Users/gracer/Desktop/data/sub-10189/func/sub-10189_task-bart_bold_brain.nii.gz', '/Users/gracer/Desktop/data/sub-10189/func/sub-10189_task-bart_bold_brain_mask.nii.gz', '/Users/gracer/Desktop/data/sub-10189/func/sub-10189_task-bart_bold_brain_mcf.nii.gz', '/Users/gracer/Desktop/data/sub-10189/func/sub-10189_task-rest_bold.nii.gz', '/Users/gracer/Desktop/data/sub-10189/func/sub-10189_task-scap_bold.nii.gz', '/Users/gracer/Desktop/data/sub-10189/func/sub-10189_task-stopsignal_bold.nii.gz', '/Users/gracer/Desktop/data/sub-10189/func/sub-10189_task-taskswitch_bold.nii.gz', '/Users/gracer/Desktop/data/sub-10193/func/sub-10193_task-bart_bold.nii.gz', '/Users/gracer/Desktop/data/sub-10193/func/sub-10193_task-bart_bold_brain.nii.gz', '/Users/gracer/Desktop/data/sub-10193/func/sub-10193_task-bart_bold_brain_mask.nii.gz', '/Users/gracer/Desktop/data/sub-10193/func/sub-10193_task-bart_bold_brain_mcf.nii.gz', '/Users/gracer/Desktop/data/sub-10206/func/sub-10206_task-bart_bold.nii.gz', '/Users/gracer/Desktop/data/sub-10206/func/sub-10206_task-bart_bold_brain.nii.gz', '/Users/gracer/Desktop/data/sub-10206/func/sub-10206_task-bart_bold_brain_mask.nii.gz', '/Users/gracer/Desktop/data/sub-10206/func/sub-10206_task-bart_bold_brain_mcf.nii.gz', '/Users/gracer/Desktop/data/sub-10206/func/sub-10206_task-rest_bold.nii.gz', '/Users/gracer/Desktop/data/sub-10206/func/sub-10206_task-scap_bold.nii.gz', '/Users/gracer/Desktop/data/sub-10206/func/sub-10206_task-stopsignal_bold.nii.gz', '/Users/gracer/Desktop/data/sub-10206/func/sub-10206_task-taskswitch_bold.nii.gz', '/Users/gracer/Desktop/data/sub-10217/func/sub-10217_task-bart_bold.nii.gz', '/Users/gracer/Desktop/data/sub-10217/func/sub-10217_task-bart_bold_brain.nii.gz', '/Users/gracer/Desktop/data/sub-10217/func/sub-10217_task-bart_bold_brain_mask.nii.gz', '/Users/gracer/Desktop/data/sub-10217/func/sub-10217_task-bart_bold_brain_mcf.nii.gz', '/Users/gracer/Desktop/data/sub-10217/func/sub-10217_task-rest_bold.nii.gz', '/Users/gracer/Desktop/data/sub-10217/func/sub-10217_task-scap_bold.nii.gz', '/Users/gracer/Desktop/data/sub-10217/func/sub-10217_task-stopsignal_bold.nii.gz', '/Users/gracer/Desktop/data/sub-10217/func/sub-10217_task-taskswitch_bold.nii.gz', '/Users/gracer/Desktop/data/sub-10225/func/sub-10225_task-bart_bold.nii.gz', '/Users/gracer/Desktop/data/sub-10225/func/sub-10225_task-bart_bold_brain.nii.gz', '/Users/gracer/Desktop/data/sub-10225/func/sub-10225_task-bart_bold_brain_mask.nii.gz', '/Users/gracer/Desktop/data/sub-10225/func/sub-10225_task-bart_bold_brain_mcf.nii.gz', '/Users/gracer/Desktop/data/sub-10225/func/sub-10225_task-bht_bold.nii.gz', '/Users/gracer/Desktop/data/sub-10225/func/sub-10225_task-rest_bold.nii.gz', '/Users/gracer/Desktop/data/sub-10225/func/sub-10225_task-scap_bold.nii.gz', '/Users/gracer/Desktop/data/sub-10225/func/sub-10225_task-stopsignal_bold.nii.gz', '/Users/gracer/Desktop/data/sub-10225/func/sub-10225_task-taskswitch_bold.nii.gz', '/Users/gracer/Desktop/data/sub-10227/func/sub-10227_task-bart_bold.nii.gz', '/Users/gracer/Desktop/data/sub-10227/func/sub-10227_task-bart_bold_brain.nii.gz', '/Users/gracer/Desktop/data/sub-10227/func/sub-10227_task-bart_bold_brain_mask.nii.gz', '/Users/gracer/Desktop/data/sub-10227/func/sub-10227_task-bart_bold_brain_mcf.nii.gz', '/Users/gracer/Desktop/data/sub-10227/func/sub-10227_task-rest_bold.nii.gz', '/Users/gracer/Desktop/data/sub-10227/func/sub-10227_task-scap_bold.nii.gz', '/Users/gracer/Desktop/data/sub-10227/func/sub-10227_task-stopsignal_bold.nii.gz', '/Users/gracer/Desktop/data/sub-10227/func/sub-10227_task-taskswitch_bold.nii.gz', '/Users/gracer/Desktop/data/sub-10228/func/sub-10228_task-bart_bold.nii.gz', '/Users/gracer/Desktop/data/sub-10228/func/sub-10228_task-bart_bold_brain.nii.gz', '/Users/gracer/Desktop/data/sub-10228/func/sub-10228_task-bart_bold_brain_mask.nii.gz', '/Users/gracer/Desktop/data/sub-10228/func/sub-10228_task-bart_bold_brain_mcf.nii.gz', '/Users/gracer/Desktop/data/sub-10228/func/sub-10228_task-bht_bold.nii.gz', '/Users/gracer/Desktop/data/sub-10228/func/sub-10228_task-rest_bold.nii.gz', '/Users/gracer/Desktop/data/sub-10228/func/sub-10228_task-scap_bold.nii.gz', '/Users/gracer/Desktop/data/sub-10228/func/sub-10228_task-stopsignal_bold.nii.gz', '/Users/gracer/Desktop/data/sub-10228/func/sub-10228_task-taskswitch_bold.nii.gz', '/Users/gracer/Desktop/data/sub-10235/func/sub-10235_task-bart_bold.nii.gz', '/Users/gracer/Desktop/data/sub-10235/func/sub-10235_task-bart_bold_brain.nii.gz', '/Users/gracer/Desktop/data/sub-10235/func/sub-10235_task-bart_bold_brain_mask.nii.gz', '/Users/gracer/Desktop/data/sub-10235/func/sub-10235_task-bart_bold_brain_mcf.nii.gz', '/Users/gracer/Desktop/data/sub-10235/func/sub-10235_task-rest_bold.nii.gz', '/Users/gracer/Desktop/data/sub-10235/func/sub-10235_task-scap_bold.nii.gz', '/Users/gracer/Desktop/data/sub-10235/func/sub-10235_task-stopsignal_bold.nii.gz', '/Users/gracer/Desktop/data/sub-10235/func/sub-10235_task-taskswitch_bold.nii.gz', '/Users/gracer/Desktop/data/sub-10249/func/sub-10249_task-bart_bold.nii.gz', '/Users/gracer/Desktop/data/sub-10249/func/sub-10249_task-bart_bold_brain.nii.gz', '/Users/gracer/Desktop/data/sub-10249/func/sub-10249_task-bart_bold_brain_mask.nii.gz', '/Users/gracer/Desktop/data/sub-10249/func/sub-10249_task-bart_bold_brain_mcf.nii.gz', '/Users/gracer/Desktop/data/sub-10249/func/sub-10249_task-bht_bold.nii.gz', '/Users/gracer/Desktop/data/sub-10249/func/sub-10249_task-rest_bold.nii.gz', '/Users/gracer/Desktop/data/sub-10249/func/sub-10249_task-scap_bold.nii.gz', '/Users/gracer/Desktop/data/sub-10249/func/sub-10249_task-stopsignal_bold.nii.gz', '/Users/gracer/Desktop/data/sub-10249/func/sub-10249_task-taskswitch_bold.nii.gz', '/Users/gracer/Desktop/data/sub-10269/func/sub-10269_task-bart_bold.nii.gz', '/Users/gracer/Desktop/data/sub-10269/func/sub-10269_task-bart_bold_brain.nii.gz', '/Users/gracer/Desktop/data/sub-10269/func/sub-10269_task-bart_bold_brain_mask.nii.gz', '/Users/gracer/Desktop/data/sub-10269/func/sub-10269_task-bart_bold_brain_mcf.nii.gz', '/Users/gracer/Desktop/data/sub-10269/func/sub-10269_task-rest_bold.nii.gz', '/Users/gracer/Desktop/data/sub-10269/func/sub-10269_task-scap_bold.nii.gz', '/Users/gracer/Desktop/data/sub-10269/func/sub-10269_task-stopsignal_bold.nii.gz', '/Users/gracer/Desktop/data/sub-10269/func/sub-10269_task-taskswitch_bold.nii.gz', '/Users/gracer/Desktop/data/sub-10271/func/sub-10271_task-bart_bold.nii.gz', '/Users/gracer/Desktop/data/sub-10271/func/sub-10271_task-bart_bold_brain.nii.gz', '/Users/gracer/Desktop/data/sub-10271/func/sub-10271_task-bart_bold_brain_mask.nii.gz', '/Users/gracer/Desktop/data/sub-10271/func/sub-10271_task-bart_bold_brain_mcf.nii.gz', '/Users/gracer/Desktop/data/sub-10271/func/sub-10271_task-bht_bold.nii.gz', '/Users/gracer/Desktop/data/sub-10271/func/sub-10271_task-rest_bold.nii.gz', '/Users/gracer/Desktop/data/sub-10271/func/sub-10271_task-scap_bold.nii.gz', '/Users/gracer/Desktop/data/sub-10271/func/sub-10271_task-stopsignal_bold.nii.gz', '/Users/gracer/Desktop/data/sub-10271/func/sub-10271_task-taskswitch_bold.nii.gz', '/Users/gracer/Desktop/data/sub-10273/func/sub-10273_task-bart_bold.nii.gz', '/Users/gracer/Desktop/data/sub-10273/func/sub-10273_task-bart_bold_brain.nii.gz', '/Users/gracer/Desktop/data/sub-10273/func/sub-10273_task-bart_bold_brain_mask.nii.gz', '/Users/gracer/Desktop/data/sub-10273/func/sub-10273_task-bart_bold_brain_mcf.nii.gz', '/Users/gracer/Desktop/data/sub-10273/func/sub-10273_task-bht_bold.nii.gz', '/Users/gracer/Desktop/data/sub-10273/func/sub-10273_task-rest_bold.nii.gz', '/Users/gracer/Desktop/data/sub-10273/func/sub-10273_task-scap_bold.nii.gz', '/Users/gracer/Desktop/data/sub-10273/func/sub-10273_task-stopsignal_bold.nii.gz', '/Users/gracer/Desktop/data/sub-10273/func/sub-10273_task-taskswitch_bold.nii.gz', '/Users/gracer/Desktop/data/sub-10274/func/sub-10274_task-bart_bold.nii.gz', '/Users/gracer/Desktop/data/sub-10274/func/sub-10274_task-bart_bold_brain.nii.gz', '/Users/gracer/Desktop/data/sub-10274/func/sub-10274_task-bart_bold_brain_mask.nii.gz', '/Users/gracer/Desktop/data/sub-10274/func/sub-10274_task-bart_bold_brain_mcf.nii.gz', '/Users/gracer/Desktop/data/sub-10274/func/sub-10274_task-rest_bold.nii.gz', '/Users/gracer/Desktop/data/sub-10274/func/sub-10274_task-scap_bold.nii.gz', '/Users/gracer/Desktop/data/sub-10274/func/sub-10274_task-stopsignal_bold.nii.gz', '/Users/gracer/Desktop/data/sub-10274/func/sub-10274_task-taskswitch_bold.nii.gz', '/Users/gracer/Desktop/data/sub-10280/func/sub-10280_task-bart_bold.nii.gz', '/Users/gracer/Desktop/data/sub-10280/func/sub-10280_task-bart_bold_brain.nii.gz', '/Users/gracer/Desktop/data/sub-10280/func/sub-10280_task-bart_bold_brain_mask.nii.gz', '/Users/gracer/Desktop/data/sub-10280/func/sub-10280_task-bart_bold_brain_mcf.nii.gz', '/Users/gracer/Desktop/data/sub-10280/func/sub-10280_task-bht_bold.nii.gz', '/Users/gracer/Desktop/data/sub-10280/func/sub-10280_task-rest_bold.nii.gz', '/Users/gracer/Desktop/data/sub-10280/func/sub-10280_task-scap_bold.nii.gz', '/Users/gracer/Desktop/data/sub-10280/func/sub-10280_task-stopsignal_bold.nii.gz', '/Users/gracer/Desktop/data/sub-10280/func/sub-10280_task-taskswitch_bold.nii.gz', '/Users/gracer/Desktop/data/sub-10290/func/sub-10290_task-bart_bold.nii.gz', '/Users/gracer/Desktop/data/sub-10290/func/sub-10290_task-bart_bold_brain.nii.gz', '/Users/gracer/Desktop/data/sub-10290/func/sub-10290_task-bart_bold_brain_mask.nii.gz', '/Users/gracer/Desktop/data/sub-10290/func/sub-10290_task-bart_bold_brain_mcf.nii.gz', '/Users/gracer/Desktop/data/sub-10290/func/sub-10290_task-bht_bold.nii.gz', '/Users/gracer/Desktop/data/sub-10290/func/sub-10290_task-rest_bold.nii.gz', '/Users/gracer/Desktop/data/sub-10290/func/sub-10290_task-scap_bold.nii.gz', '/Users/gracer/Desktop/data/sub-10290/func/sub-10290_task-stopsignal_bold.nii.gz', '/Users/gracer/Desktop/data/sub-10290/func/sub-10290_task-taskswitch_bold.nii.gz', '/Users/gracer/Desktop/data/sub-10292/func/sub-10292_task-bart_bold.nii.gz', '/Users/gracer/Desktop/data/sub-10292/func/sub-10292_task-bart_bold_brain.nii.gz', '/Users/gracer/Desktop/data/sub-10292/func/sub-10292_task-bart_bold_brain_mask.nii.gz', '/Users/gracer/Desktop/data/sub-10292/func/sub-10292_task-bart_bold_brain_mcf.nii.gz', '/Users/gracer/Desktop/data/sub-10292/func/sub-10292_task-bht_bold.nii.gz', '/Users/gracer/Desktop/data/sub-10292/func/sub-10292_task-rest_bold.nii.gz', '/Users/gracer/Desktop/data/sub-10292/func/sub-10292_task-scap_bold.nii.gz', '/Users/gracer/Desktop/data/sub-10292/func/sub-10292_task-stopsignal_bold.nii.gz', '/Users/gracer/Desktop/data/sub-10292/func/sub-10292_task-taskswitch_bold.nii.gz']\n"
     ]
    }
   ],
   "source": [
    "basedir='/Users/gracer/Desktop/data'\n",
    "listy=glob.glob(os.path.join(basedir,'sub-*','func','*.nii.gz'))\n",
    "print(listy[1].split('/'))\n",
    "repl_dict={}"
   ]
  },
  {
   "cell_type": "markdown",
   "metadata": {
    "slideshow": {
     "slide_type": "slide"
    }
   },
   "source": [
    "## 1. funcrun"
   ]
  },
  {
   "cell_type": "code",
   "execution_count": null,
   "metadata": {
    "collapsed": true,
    "slideshow": {
     "slide_type": "fragment"
    }
   },
   "outputs": [],
   "source": [
    "def create_fsf():\n",
    "    for item in glob.glob(os.path.join(basedir,'sub-*')):\n",
    "        sub=item.split('/')[5]\n",
    "        funcrun=(os.path.join(item,'func','%s_task-%s_bold_brain_mcf.nii.gz')%(sub,arglist['TASK']))\n",
    "        repl_dict.update({'FUNCRUN':funcrun})"
   ]
  },
  {
   "cell_type": "markdown",
   "metadata": {
    "slideshow": {
     "slide_type": "slide"
    }
   },
   "source": [
    "## 2. NTIMEPOINTS = this is the number of timepoints per image\n",
    "## 3. TRS = this is the TRs in the nifti"
   ]
  },
  {
   "cell_type": "code",
   "execution_count": null,
   "metadata": {
    "collapsed": true,
    "slideshow": {
     "slide_type": "fragment"
    }
   },
   "outputs": [],
   "source": [
    "def create_fsf():\n",
    "    for item in glob.glob(os.path.join(basedir,'sub-*')):\n",
    "        sub=item.split('/')[5]\n",
    "        funcrun=(os.path.join(item,'func','%s_task-%s_bold_brain_mcf.nii.gz')%(sub,arglist['TASK']))\n",
    "        repl_dict.update({'FUNCRUN':funcrun})\n",
    "        \n",
    "        ntmpts=check_output(['fslnvols',funcrun])\n",
    "        repl_dict.update({'NTIMEPOINTS':ntmpts})\n",
    "\n",
    "        trs=check_output(['fslval','%s'%(funcrun),'pixdim4',scan])\n",
    "        print(trs)\n",
    "        repl_dict.update({'TRS':trs})"
   ]
  },
  {
   "cell_type": "markdown",
   "metadata": {
    "slideshow": {
     "slide_type": "slide"
    }
   },
   "source": [
    "## 4. OUTPUT = what we want to call our output directory, it will be something .feat\n",
    "## 5. ANAT = this is our T1W image, if we are using FNIRT it needs have skull, if we are using FLIRT we want the defaced (betted)"
   ]
  },
  {
   "cell_type": "code",
   "execution_count": null,
   "metadata": {
    "collapsed": true,
    "slideshow": {
     "slide_type": "fragment"
    }
   },
   "outputs": [],
   "source": [
    "        output=os.path.join(outdir,sub,'grace_edit',arglist['TASK'])\n",
    "        repl_dict.update({'OUTPUT':output})            \n",
    "        anat=os.path.join(basedir,sub,'anat','%s_T1w_brain.nii.gz'%(sub))\n",
    "        repl_dict.update({'ANAT':anat})"
   ]
  },
  {
   "cell_type": "markdown",
   "metadata": {
    "slideshow": {
     "slide_type": "slide"
    }
   },
   "source": [
    "## 6. CONFOUNDS = this is the confound.txt file generated from fsl_motion_outliers that we should have in our motion assessment directory if our prepro script worked"
   ]
  },
  {
   "cell_type": "code",
   "execution_count": null,
   "metadata": {
    "collapsed": true,
    "slideshow": {
     "slide_type": "fragment"
    }
   },
   "outputs": [],
   "source": [
    "        confounds=os.path.join(basedir,sub,'func','motion_assessment','%s_task-%s_bold_brain_confound.txt'%(sub,arglist['TASK']))\n",
    "        repl_dict.update({'CONFOUNDS':confounds})"
   ]
  },
  {
   "cell_type": "markdown",
   "metadata": {
    "slideshow": {
     "slide_type": "slide"
    }
   },
   "source": [
    "![](https://imageog.flaticon.com/icons/png/512/3/3641.png?size=1200x630f&pad=10,10,10,10&ext=png&bg=FFFFFFFF)"
   ]
  },
  {
   "cell_type": "markdown",
   "metadata": {
    "slideshow": {
     "slide_type": "slide"
    }
   },
   "source": [
    "## 7. EV = this is the path to the explanatory variable text file we want to use (we will have more than 1), each needs to be in the 3 column format\n",
    "## 8. EVTITLE = this is a useful name for each EV"
   ]
  },
  {
   "cell_type": "markdown",
   "metadata": {
    "slideshow": {
     "slide_type": "fragment"
    }
   },
   "source": [
    "This is going to be a tough one. We have a certain number of EVs we have defined using our argparse. How are we going to match it up with the EVs and EV titles? \n",
    "Let's take a look at what the EV files look like.\n",
    "\n",
    "#### sub-10171_bart_action_EXPLODE_output.txt\n",
    "\n",
    "What parts of this do we need to be able to swap out?\n",
    "1. subject\n",
    "2. task\n",
    "3. action type (EXPLODE, CASHOUT, ACCEPT)\n",
    "\n",
    "### Concept Check: Where have we already defined these? Or do we need to define them now?"
   ]
  },
  {
   "cell_type": "markdown",
   "metadata": {
    "slideshow": {
     "slide_type": "fragment"
    }
   },
   "source": [
    "1. subject = we have defined this as sub\n",
    "2. task = we have this in our arglist dictionary \n",
    "3. action type (EXPLODE, CASHOUT, ACCEPT) = we have this in our arglist dictionary "
   ]
  },
  {
   "cell_type": "markdown",
   "metadata": {
    "slideshow": {
     "slide_type": "slide"
    }
   },
   "source": [
    "We can use a counter to loop through our EVs. \n",
    "This gives us the numbers we will need in the EV title."
   ]
  },
  {
   "cell_type": "code",
   "execution_count": null,
   "metadata": {
    "collapsed": true,
    "slideshow": {
     "slide_type": "fragment"
    }
   },
   "outputs": [],
   "source": [
    "        ctr=0\n",
    "        for item in arglist['EV']:\n",
    "            print(item)\n",
    "            ctr=ctr+1\n",
    "            repl_dict.update({'EV%iTITLE'%ctr:item})\n",
    "            ev=os.path.join(basedir,sub,'func','onsets','%s_%s_%s_output.txt'%(sub,arglist['TASK'],item))\n",
    "            repl_dict.update({'EV%i'%ctr:ev}) "
   ]
  },
  {
   "cell_type": "markdown",
   "metadata": {
    "slideshow": {
     "slide_type": "slide"
    }
   },
   "source": [
    "## 9. MOTCOR = this is the path to the motion parameters we generated in with the preprocessing script"
   ]
  },
  {
   "cell_type": "markdown",
   "metadata": {
    "slideshow": {
     "slide_type": "fragment"
    }
   },
   "source": [
    "Similar to the EVs we will need to use a counter for the motion parameters. \n",
    "Unlike the EVs though, we will always only have 6 motion parameters.\n",
    "We can use the range function as a counter!"
   ]
  },
  {
   "cell_type": "code",
   "execution_count": null,
   "metadata": {
    "collapsed": true,
    "slideshow": {
     "slide_type": "fragment"
    }
   },
   "outputs": [],
   "source": [
    "    for i in range(6):\n",
    "        motcor=os.path.join(basedir,sub,'func','motion_assessment','%s_task-%s_bold_brain_motcor%i.txt' %(sub,arglist['TASK'],i))\n",
    "        repl_dict.update({'MOTCOR%i'%i:motcor})"
   ]
  },
  {
   "cell_type": "markdown",
   "metadata": {
    "slideshow": {
     "slide_type": "slide"
    }
   },
   "source": [
    "![](https://imageog.flaticon.com/icons/png/512/3/3641.png?size=1200x630f&pad=10,10,10,10&ext=png&bg=FFFFFFFF)"
   ]
  },
  {
   "cell_type": "markdown",
   "metadata": {
    "slideshow": {
     "slide_type": "slide"
    }
   },
   "source": [
    "## Let's add a print statement incase we need to debug"
   ]
  },
  {
   "cell_type": "code",
   "execution_count": null,
   "metadata": {
    "collapsed": true,
    "slideshow": {
     "slide_type": "fragment"
    }
   },
   "outputs": [],
   "source": [
    "print(repl_dict)"
   ]
  },
  {
   "cell_type": "markdown",
   "metadata": {
    "slideshow": {
     "slide_type": "slide"
    }
   },
   "source": [
    "## We should now have something that looks like this"
   ]
  },
  {
   "cell_type": "code",
   "execution_count": null,
   "metadata": {
    "collapsed": true,
    "slideshow": {
     "slide_type": "fragment"
    }
   },
   "outputs": [],
   "source": [
    "def create_fsf(basedir,repl_dict,outdir, arglist):\n",
    "    os.chdir(basedir)\n",
    "    for sub in glob.glob('sub-*'):\n",
    "        repl_dict.update({'SUB':sub})\n",
    "\n",
    "        scan=(os.path.join(sub,'func','%s_task-%s_bold_brain_mcf.nii.gz')%(sub,arglist['TASK']))\n",
    "\n",
    "        funcrun=os.path.join(basedir,scan)\n",
    "        repl_dict.update({'FUNCRUN':funcrun})\n",
    "\n",
    "        ntmpts=check_output(['fslnvols',funcrun])\n",
    "        repl_dict.update({'NTIMEPOINTS':ntmpts})\n",
    "\n",
    "        trs=check_output(['fslval','%s'%(funcrun),'pixdim4',scan])\n",
    "        print(trs)\n",
    "        repl_dict.update({'TRS':trs})\n",
    "\n",
    "\n",
    "        output=os.path.join(outdir,sub,'grace_edit',arglist['TASK'])\n",
    "        repl_dict.update({'OUTPUT':output})            \n",
    "        anat=os.path.join(basedir,sub,'anat','%s_T1w_brain.nii.gz'%(sub))\n",
    "        repl_dict.update({'ANAT':anat})\n",
    "\n",
    "        confounds=os.path.join(basedir,sub,'func','motion_assessment','%s_task-%s_bold_brain_confound.txt'%(sub,arglist['TASK']))\n",
    "        repl_dict.update({'CONFOUNDS':confounds})\n",
    "        ctr=0\n",
    "        for item in arglist['EV']:\n",
    "            print(item)\n",
    "            ctr=ctr+1\n",
    "            repl_dict.update({'EV%iTITLE'%ctr:item})\n",
    "            ev=os.path.join(basedir,sub,'func','onsets','%s_%s_%s_output.txt'%(sub,arglist['TASK'],item))\n",
    "            repl_dict.update({'EV%i'%ctr:ev}) \n",
    "        for i in range(6):\n",
    "            motcor=os.path.join(basedir,sub,'func','motion_assessment','%s_task-%s_bold_brain_motcor%i.txt' %(sub,arglist['TASK'],i))\n",
    "            repl_dict.update({'MOTCOR%i'%i:motcor})\n",
    "\n",
    "        print(repl_dict)"
   ]
  },
  {
   "cell_type": "markdown",
   "metadata": {
    "slideshow": {
     "slide_type": "slide"
    }
   },
   "source": [
    "## We have all our variables now we need to swap out the place holder variables in our .fsf files"
   ]
  },
  {
   "cell_type": "markdown",
   "metadata": {
    "slideshow": {
     "slide_type": "fragment"
    }
   },
   "source": [
    "### First we need to open a file to read\n",
    "```\n",
    "with open(os.path.join(basedir,'design.fsf'),'r') as infile:\n",
    "```\n",
    "### Second we need to read the file.\n",
    "You may recall we previously have used the function readlines(), this time we don't want to read in the file as a list.\n",
    "We want to read in the file as a string.\n",
    "```\n",
    "tempfsf=infile.read()\n",
    "```\n",
    "### Third we need to loop through our dictionary using the key\n",
    "```\n",
    "for key in repl_dict:\n",
    "    tempfsf = tempfsf.replace(key, repl_dict[key])\n",
    "```\n",
    "We can use the replace function to replace the variables in the fsf file with the values in the dictionary."
   ]
  },
  {
   "cell_type": "markdown",
   "metadata": {
    "slideshow": {
     "slide_type": "fragment"
    }
   },
   "source": [
    "### Concept Check: the replace function requires a string argument. If we decided to use the readlines function instead of the read function, would replace still work?"
   ]
  },
  {
   "cell_type": "markdown",
   "metadata": {
    "slideshow": {
     "slide_type": "slide"
    }
   },
   "source": [
    "### Now that we have replaced the variables in the fsf with the key values we can write the strings to a new file \n",
    "```\n",
    "with open(os.path.join(outdir,sub,'%s_%s.fsf'%(sub,arglist['TASK'])),'w') as outfile:\n",
    "    outfile.write(tempfsf)\n",
    "outfile.close()\n",
    "```"
   ]
  },
  {
   "cell_type": "markdown",
   "metadata": {
    "slideshow": {
     "slide_type": "slide"
    }
   },
   "source": [
    "### All Together Now"
   ]
  },
  {
   "cell_type": "markdown",
   "metadata": {},
   "source": [
    "![](https://78.media.tumblr.com/62c56993084d8a851decf11106d64ab0/tumblr_nle68sXJFb1s8ir5qo1_400.gif)"
   ]
  },
  {
   "cell_type": "code",
   "execution_count": null,
   "metadata": {
    "collapsed": true,
    "slideshow": {
     "slide_type": "fragment"
    }
   },
   "outputs": [],
   "source": [
    "def create_fsf(basedir,repl_dict,outdir, arglist):\n",
    "    os.chdir(basedir)\n",
    "    for sub in glob.glob('sub-*'):\n",
    "        repl_dict.update({'SUB':sub})\n",
    "\n",
    "        scan=(os.path.join(sub,'func','%s_task-%s_bold_brain_mcf.nii.gz')%(sub,arglist['TASK']))\n",
    "\n",
    "        funcrun=os.path.join(basedir,scan)\n",
    "        repl_dict.update({'FUNCRUN':funcrun})\n",
    "\n",
    "        ntmpts=check_output(['fslnvols',funcrun])\n",
    "        repl_dict.update({'NTIMEPOINTS':ntmpts})\n",
    "\n",
    "        trs=check_output(['fslval','%s'%(funcrun),'pixdim4',scan])\n",
    "        print(trs)\n",
    "        repl_dict.update({'TRS':trs})\n",
    "\n",
    "\n",
    "        output=os.path.join(outdir,sub,'grace_edit',arglist['TASK'])\n",
    "        repl_dict.update({'OUTPUT':output})            \n",
    "        anat=os.path.join(basedir,sub,'anat','%s_T1w_brain.nii.gz'%(sub))\n",
    "        repl_dict.update({'ANAT':anat})\n",
    "\n",
    "        confounds=os.path.join(basedir,sub,'func','motion_assessment','%s_task-%s_bold_brain_confound.txt'%(sub,arglist['TASK']))\n",
    "        repl_dict.update({'CONFOUNDS':confounds})\n",
    "        ctr=0\n",
    "        for item in arglist['EV']:\n",
    "            print(item)\n",
    "            ctr=ctr+1\n",
    "            repl_dict.update({'EV%iTITLE'%ctr:item})\n",
    "            ev=os.path.join(basedir,sub,'func','onsets','%s_%s_%s_output.txt'%(sub,arglist['TASK'],item))\n",
    "            repl_dict.update({'EV%i'%ctr:ev}) \n",
    "        for i in range(6):\n",
    "            motcor=os.path.join(basedir,sub,'func','motion_assessment','%s_task-%s_bold_brain_motcor%i.txt' %(sub,arglist['TASK'],i))\n",
    "            repl_dict.update({'MOTCOR%i'%i:motcor})\n",
    "\n",
    "        print(repl_dict)\n",
    "        if arglist['NOREG']==False:\n",
    "            with open(os.path.join(basedir,'design.fsf'),'r') as infile:\n",
    "                tempfsf=infile.read()\n",
    "                for key in repl_dict:\n",
    "                    tempfsf = tempfsf.replace(key, repl_dict[key])\n",
    "                    with open(os.path.join(outdir,sub,'%s_%s.fsf'%(sub,arglist['TASK'])),'w') as outfile:\n",
    "                        outfile.write(tempfsf)\n",
    "                    outfile.close()\n",
    "            infile.close()"
   ]
  },
  {
   "cell_type": "markdown",
   "metadata": {
    "slideshow": {
     "slide_type": "slide"
    }
   },
   "source": [
    "![](https://imageog.flaticon.com/icons/png/512/3/3641.png?size=1200x630f&pad=10,10,10,10&ext=png&bg=FFFFFFFF)"
   ]
  },
  {
   "cell_type": "markdown",
   "metadata": {
    "slideshow": {
     "slide_type": "slide"
    }
   },
   "source": [
    "## But wait... what about the registration issue???\n",
    "### To address this we can use an if/else statement with our arglist\n",
    "### Give it a try first"
   ]
  },
  {
   "cell_type": "code",
   "execution_count": null,
   "metadata": {
    "collapsed": true,
    "slideshow": {
     "slide_type": "fragment"
    }
   },
   "outputs": [],
   "source": [
    "if arglist['NOREG']==False:\n",
    "            with open(os.path.join(basedir,'design.fsf'),'r') as infile:\n",
    "                tempfsf=infile.read()\n",
    "                for key in repl_dict:\n",
    "                    tempfsf = tempfsf.replace(key, repl_dict[key])\n",
    "                    with open(os.path.join(outdir,sub,'%s_%s.fsf'%(sub,arglist['TASK'])),'w') as outfile:\n",
    "                        outfile.write(tempfsf)\n",
    "                    outfile.close()\n",
    "                infile.close()\n",
    "\n",
    "        else:\n",
    "            print(\"skipping registration\")\n",
    "            with open(os.path.join(basedir,'no_reg_design.fsf'),'r') as infile:\n",
    "                tempfsf=infile.read()\n",
    "                for key in repl_dict:\n",
    "                    tempfsf = tempfsf.replace(key, repl_dict[key])\n",
    "                    with open(os.path.join(outdir,sub,'%s_%s_no_reg.fsf'%(sub,arglist['TASK'])),'w') as outfile:\n",
    "                        outfile.write(tempfsf)\n",
    "                    outfile.close()\n",
    "                infile.close()"
   ]
  },
  {
   "cell_type": "markdown",
   "metadata": {
    "slideshow": {
     "slide_type": "slide"
    }
   },
   "source": [
    "## All Together Now!"
   ]
  },
  {
   "cell_type": "markdown",
   "metadata": {},
   "source": [
    "![](https://78.media.tumblr.com/62c56993084d8a851decf11106d64ab0/tumblr_nle68sXJFb1s8ir5qo1_400.gif)"
   ]
  },
  {
   "cell_type": "code",
   "execution_count": null,
   "metadata": {
    "collapsed": true,
    "slideshow": {
     "slide_type": "fragment"
    }
   },
   "outputs": [],
   "source": [
    "#!/usr/bin/env python\n",
    "\n",
    "import glob\n",
    "import os\n",
    "from subprocess import check_output\n",
    "#import pdb\n",
    "import argparse\n",
    "\n",
    "\n",
    "def create_fsf(basedir,repl_dict,outdir, arglist):\n",
    "    os.chdir(basedir)\n",
    "    for sub in glob.glob('sub-*'):\n",
    "        repl_dict.update({'SUB':sub})\n",
    "\n",
    "        scan=(os.path.join(sub,'func','%s_task-%s_bold_brain_mcf.nii.gz')%(sub,arglist['TASK']))\n",
    "\n",
    "        funcrun=os.path.join(basedir,scan)\n",
    "        repl_dict.update({'FUNCRUN':funcrun})\n",
    "\n",
    "        ntmpts=check_output(['fslnvols',funcrun])\n",
    "        repl_dict.update({'NTIMEPOINTS':ntmpts})\n",
    "\n",
    "        trs=check_output(['fslval','%s'%(funcrun),'pixdim4',scan])\n",
    "        print(trs)\n",
    "        repl_dict.update({'TRS':trs})\n",
    "\n",
    "\n",
    "        output=os.path.join(outdir,sub,'grace_edit',arglist['TASK'])\n",
    "        repl_dict.update({'OUTPUT':output})            \n",
    "        anat=os.path.join(basedir,sub,'anat','%s_T1w_brain.nii.gz'%(sub))\n",
    "        repl_dict.update({'ANAT':anat})\n",
    "\n",
    "        confounds=os.path.join(basedir,sub,'func','motion_assessment','%s_task-%s_bold_brain_confound.txt'%(sub,arglist['TASK']))\n",
    "        repl_dict.update({'CONFOUNDS':confounds})\n",
    "        ctr=0\n",
    "        for item in arglist['EV']:\n",
    "            print(item)\n",
    "            ctr=ctr+1\n",
    "            repl_dict.update({'EV%iTITLE'%ctr:item})\n",
    "            ev=os.path.join(basedir,sub,'func','onsets','%s_%s_%s_output.txt'%(sub,arglist['TASK'],item))\n",
    "            repl_dict.update({'EV%i'%ctr:ev}) \n",
    "        for i in range(6):\n",
    "            motcor=os.path.join(basedir,sub,'func','motion_assessment','%s_task-%s_bold_brain_motcor%i.txt' %(sub,arglist['TASK'],i))\n",
    "            repl_dict.update({'MOTCOR%i'%i:motcor})\n",
    "\n",
    "        print(repl_dict)\n",
    "        if arglist['NOREG']==False:\n",
    "            with open(os.path.join(basedir,'design.fsf'),'r') as infile:\n",
    "                tempfsf=infile.read()\n",
    "                for key in repl_dict:\n",
    "                    tempfsf = tempfsf.replace(key, repl_dict[key])\n",
    "                    with open(os.path.join(outdir,sub,'%s_%s.fsf'%(sub,arglist['TASK'])),'w') as outfile:\n",
    "                        outfile.write(tempfsf)\n",
    "                    outfile.close()\n",
    "            infile.close()\n",
    "\n",
    "        else:\n",
    "            print(\"skipping registration\")\n",
    "            with open(os.path.join(basedir,'no_reg_design.fsf'),'r') as infile:\n",
    "                tempfsf=infile.read()\n",
    "                for key in repl_dict:\n",
    "                    tempfsf = tempfsf.replace(key, repl_dict[key])\n",
    "                    with open(os.path.join(outdir,sub,'%s_%s_no_reg.fsf'%(sub,arglist['TASK'])),'w') as outfile:\n",
    "                        outfile.write(tempfsf)\n",
    "                    outfile.close()\n",
    "            infile.close()\n",
    "    os.chdir('/Users/gracer/Google Drive/fMRI_workshop/scripts/feat_scripts')\n",
    "                       \n",
    "\n",
    "def main ():\n",
    "  basedir='/Users/gracer/Desktop/data'\n",
    "  outdir=os.path.join(basedir,'derivatives','task')\n",
    "  parser=argparse.ArgumentParser(description='making fsf files')\n",
    "  parser.add_argument('-noreg',dest='NOREG', action='store_true',\n",
    "                        default=False, help='Did you already register your data (using ANTZ maybe)?')\n",
    "  parser.add_argument('-task',dest='TASK',\n",
    "                        default=False, help='which task are we using?')\n",
    "  parser.add_argument('-evs',dest='EV',nargs='+',\n",
    "                        default=False, help='which evs are we using?')\n",
    "\n",
    "  repl_dict={}\n",
    "  args = parser.parse_args()\n",
    "  arglist={}\n",
    "  for a in args._get_kwargs():\n",
    "      arglist[a[0]]=a[1]\n",
    "      print(arglist)\n",
    "  create_fsf(basedir,repl_dict, outdir, arglist)\n",
    "main()\n",
    "os.chdir('/Users/gracer/Google Drive/fMRI_workshop/scripts/feat_scripts')"
   ]
  },
  {
   "cell_type": "markdown",
   "metadata": {
    "slideshow": {
     "slide_type": "slide"
    }
   },
   "source": [
    "## Give it a run and then open a random one in Feat and we will check that it populated correctly"
   ]
  },
  {
   "cell_type": "markdown",
   "metadata": {
    "slideshow": {
     "slide_type": "fragment"
    }
   },
   "source": [
    "### If everything looks good we will move on to creating a parallel feat launcher!"
   ]
  },
  {
   "cell_type": "markdown",
   "metadata": {
    "slideshow": {
     "slide_type": "slide"
    }
   },
   "source": [
    "## First lets see how many cores we have available"
   ]
  },
  {
   "cell_type": "markdown",
   "metadata": {
    "slideshow": {
     "slide_type": "fragment"
    }
   },
   "source": [
    "### If you are running on pc\n",
    "![](https://github.com/grace-shearrer/nibl_workshop/blob/master/pc.png?raw=true)"
   ]
  },
  {
   "cell_type": "markdown",
   "metadata": {
    "slideshow": {
     "slide_type": "fragment"
    }
   },
   "source": [
    "### If you are running on mac\n",
    "![](https://github.com/grace-shearrer/nibl_workshop/blob/master/mac.png?raw=true)"
   ]
  },
  {
   "cell_type": "markdown",
   "metadata": {
    "slideshow": {
     "slide_type": "fragment"
    }
   },
   "source": [
    "### Looks like I have 2 cores available, which means I have 4 cores including virtual cores\n",
    "You don't want to max out and use all 4 cores though... You need some of those cores to do normal computer stuff\n",
    "For this tutorial we will assume we only need to increase our efficiency by 2, but if you were say on a High Performance Computing Cluster or a super beefy machine you could theoretically increase the number"
   ]
  },
  {
   "cell_type": "markdown",
   "metadata": {
    "slideshow": {
     "slide_type": "slide"
    }
   },
   "source": [
    "## Open a new blank script in Spyder and call this level1.py"
   ]
  },
  {
   "cell_type": "code",
   "execution_count": null,
   "metadata": {
    "collapsed": true,
    "slideshow": {
     "slide_type": "fragment"
    }
   },
   "outputs": [],
   "source": [
    "import os\n",
    "import glob\n",
    "from multiprocessing import Pool"
   ]
  },
  {
   "cell_type": "markdown",
   "metadata": {
    "slideshow": {
     "slide_type": "fragment"
    }
   },
   "source": [
    "The os and glob should be old friends by now, but we are also going to use multiprocessing which is going to allow us to split our analysis over multiple cores"
   ]
  },
  {
   "cell_type": "markdown",
   "metadata": {
    "slideshow": {
     "slide_type": "slide"
    }
   },
   "source": [
    "### This is going to be one of the few scripts that does follow our predictable pattern"
   ]
  },
  {
   "cell_type": "markdown",
   "metadata": {
    "slideshow": {
     "slide_type": "slide"
    }
   },
   "source": [
    "### 1. We are going to get all our fsf files in to one large list\n",
    "#### Concept check: Create a variable called all_data which is a list of all the .fsf files we created previously"
   ]
  },
  {
   "cell_type": "markdown",
   "metadata": {
    "slideshow": {
     "slide_type": "slide"
    }
   },
   "source": [
    "![](https://imageog.flaticon.com/icons/png/512/3/3641.png?size=1200x630f&pad=10,10,10,10&ext=png&bg=FFFFFFFF)"
   ]
  },
  {
   "cell_type": "markdown",
   "metadata": {
    "slideshow": {
     "slide_type": "slide"
    }
   },
   "source": [
    "### You should have something that looks like this:"
   ]
  },
  {
   "cell_type": "code",
   "execution_count": null,
   "metadata": {
    "collapsed": true,
    "slideshow": {
     "slide_type": "fragment"
    }
   },
   "outputs": [],
   "source": [
    "basedir='/Users/gracer/Desktop/data/derivatives/task'\n",
    "all_data=glob.glob(os.path.join(basedir,'sub*','sub*bart.fsf'))"
   ]
  },
  {
   "cell_type": "markdown",
   "metadata": {
    "slideshow": {
     "slide_type": "slide"
    }
   },
   "source": [
    "## Concept Challenge: Write a function called split_list. It should take any list of any length and create two lists, one with the top half of the list and one with the bottom"
   ]
  },
  {
   "cell_type": "markdown",
   "metadata": {
    "slideshow": {
     "slide_type": "fragment"
    }
   },
   "source": [
    "![](https://imageog.flaticon.com/icons/png/512/3/3641.png?size=1200x630f&pad=10,10,10,10&ext=png&bg=FFFFFFFF)"
   ]
  },
  {
   "cell_type": "markdown",
   "metadata": {
    "slideshow": {
     "slide_type": "slide"
    }
   },
   "source": [
    "### There are a lot of ways you could accomplish this, but here is what I found on stackover flow that I really liked"
   ]
  },
  {
   "cell_type": "code",
   "execution_count": null,
   "metadata": {
    "collapsed": true,
    "slideshow": {
     "slide_type": "fragment"
    }
   },
   "outputs": [],
   "source": [
    "def split_list(a_list):\n",
    "        half = len(a_list)/2\n",
    "        return a_list[:half], a_list[half:]\n"
   ]
  },
  {
   "cell_type": "markdown",
   "metadata": {
    "slideshow": {
     "slide_type": "skip"
    }
   },
   "source": [
    "### Concept check: supposed my computer was tricked out and I was able to run 16 different lists at once. How would I change the above code to make 16 lists?"
   ]
  },
  {
   "cell_type": "markdown",
   "metadata": {
    "slideshow": {
     "slide_type": "skip"
    }
   },
   "source": [
    "### If this tutorial is too slow, try this and we will check back in"
   ]
  },
  {
   "cell_type": "markdown",
   "metadata": {
    "slideshow": {
     "slide_type": "slide"
    }
   },
   "source": [
    "## Next let's write a function that will loop through a list and run the feat command. Remember feat is a linux command so we will need to use a wrapper function.\n",
    "### Concept Check: Write the above function call it run_level1\n",
    "#### Make sure you don't capitalize feat, else it will launch a GUI"
   ]
  },
  {
   "cell_type": "markdown",
   "metadata": {
    "slideshow": {
     "slide_type": "slide"
    }
   },
   "source": [
    "## Here is what I came up with"
   ]
  },
  {
   "cell_type": "code",
   "execution_count": null,
   "metadata": {
    "collapsed": true,
    "slideshow": {
     "slide_type": "fragment"
    }
   },
   "outputs": [],
   "source": [
    "def run_level1(DATA):\n",
    "    for item in DATA:\n",
    "        print('starting to run on %s'%item)\n",
    "        os.system(\"feat %s\"%item)    \n"
   ]
  },
  {
   "cell_type": "markdown",
   "metadata": {
    "slideshow": {
     "slide_type": "slide"
    }
   },
   "source": [
    "## Up to this point we haven't done anything new. "
   ]
  },
  {
   "cell_type": "markdown",
   "metadata": {
    "slideshow": {
     "slide_type": "fragment"
    }
   },
   "source": [
    "## Now we are going to introduce a special if statement to execute our functions in parallel"
   ]
  },
  {
   "cell_type": "code",
   "execution_count": null,
   "metadata": {
    "collapsed": true,
    "slideshow": {
     "slide_type": "fragment"
    }
   },
   "outputs": [],
   "source": [
    "if __name__ == '__main__':\n",
    "    pool = Pool(processes=2)\n",
    "    pool.map(run_level1, [B,C])\n",
    "    pool.close()\n",
    "    pool.join()"
   ]
  },
  {
   "cell_type": "markdown",
   "metadata": {
    "slideshow": {
     "slide_type": "slide"
    }
   },
   "source": [
    "## What is this nonsense???"
   ]
  },
  {
   "cell_type": "markdown",
   "metadata": {
    "slideshow": {
     "slide_type": "fragment"
    }
   },
   "source": [
    "```\n",
    "if __name__ == '__main__':\n",
    "```\n",
    "So far we have kept it simple describing how python executes scripts (top to bottom, left to right, etc)...\n",
    "To get a little more into it, when python reads a file it sets up a variety of special variables. One is called: \n",
    "```\n",
    "__name__\n",
    "```\n",
    "This is telling python if the script is begin executed as a moduled being imported (like we have done with glob or os so far) or if it is being run as a standalone. When \n",
    "```\n",
    "__name__== main\n",
    "```\n",
    "then it is a standalone. Alternatively, when we import glob\n",
    "```\n",
    "__name__  == glob\n",
    "```\n",
    "and python recognizes it as an import.\n",
    "\n",
    "So essentially we are telling python, if we execute this program as a standalone script start the following actions.\n",
    "If you want to know more about this, there is a good summary here https://stackoverflow.com/questions/419163/what-does-if-name-main-do."
   ]
  },
  {
   "cell_type": "markdown",
   "metadata": {
    "slideshow": {
     "slide_type": "fragment"
    }
   },
   "source": [
    "```\n",
    "pool=Pool(processes=2)\n",
    "```\n",
    "Is opening a pool of worker processess in which data can be run in parallel (which is why we are splitting our dataset)\n",
    "```\n",
    "pool.map(run_level1, [B,C])\n",
    "```\n",
    "Is mapping a function (in our case run_level1) over both lists B and C. \n",
    "If you want to know more: http://chriskiehl.com/article/parallelism-in-one-line/"
   ]
  },
  {
   "cell_type": "markdown",
   "metadata": {
    "slideshow": {
     "slide_type": "slide"
    }
   },
   "source": [
    "## In total we should have something that looks like this:"
   ]
  },
  {
   "cell_type": "code",
   "execution_count": null,
   "metadata": {
    "collapsed": true,
    "slideshow": {
     "slide_type": "fragment"
    }
   },
   "outputs": [],
   "source": [
    "#!/usr/bin/env python2\n",
    "# -*- coding: utf-8 -*-\n",
    "\"\"\"\n",
    "Created on Wed Nov 29 16:11:03 2017\n",
    "\n",
    "@author: gracer\n",
    "\"\"\"\n",
    "import os\n",
    "import glob\n",
    "from multiprocessing import Pool\n",
    "\n",
    "\n",
    "\n",
    "basedir='/Users/gracer/Desktop/data/derivatives/task'\n",
    "all_data=glob.glob(os.path.join(basedir,'sub*','sub*bart.fsf'))\n",
    "def split_list(a_list):\n",
    "        half = len(a_list)/2\n",
    "        return a_list[:half], a_list[half:]\n",
    "\n",
    "B, C = split_list(all_data)\n",
    "\n",
    "def run_level1(DATA):\n",
    "    for item in DATA:\n",
    "        print('starting to run on %s'%item)\n",
    "        os.system(\"feat %s\"%item)    \n",
    "\n",
    "if __name__ == '__main__':\n",
    "   pool = Pool(processes=2)\n",
    "   pool.map(run_level1, [B,C])\n",
    "   pool.close()\n",
    "   pool.join()"
   ]
  },
  {
   "cell_type": "markdown",
   "metadata": {
    "slideshow": {
     "slide_type": "slide"
    }
   },
   "source": [
    "![](https://imageog.flaticon.com/icons/png/512/3/3641.png?size=1200x630f&pad=10,10,10,10&ext=png&bg=FFFFFFFF)"
   ]
  },
  {
   "cell_type": "markdown",
   "metadata": {
    "slideshow": {
     "slide_type": "slide"
    }
   },
   "source": [
    "## Go ahead and run that\n",
    "### Make sure you don't have any debug statements though... we won't have a way to get out of them"
   ]
  },
  {
   "cell_type": "markdown",
   "metadata": {
    "slideshow": {
     "slide_type": "fragment"
    }
   },
   "source": [
    "## While we are waiting for those to run, lets make a first level QA check"
   ]
  },
  {
   "cell_type": "markdown",
   "metadata": {
    "slideshow": {
     "slide_type": "slide"
    }
   },
   "source": [
    "## Heads up this is going to be a lot of concept checks! You are pretty much gonna write this on your own! "
   ]
  },
  {
   "cell_type": "markdown",
   "metadata": {},
   "source": [
    "![](https://i.giphy.com/media/PTrmNrpCfGBUY/giphy.webp)"
   ]
  },
  {
   "cell_type": "markdown",
   "metadata": {
    "slideshow": {
     "slide_type": "slide"
    }
   },
   "source": [
    "## Like always lets make two functions: QA_writer( ) and main ( )\n",
    "### Next we are going to need think about what indicates a complete feat analysis"
   ]
  },
  {
   "cell_type": "markdown",
   "metadata": {
    "slideshow": {
     "slide_type": "fragment"
    }
   },
   "source": [
    "Personally, I like to check the number of stats files produced. We are also going to want to check the registration and the stats."
   ]
  },
  {
   "cell_type": "markdown",
   "metadata": {
    "slideshow": {
     "slide_type": "fragment"
    }
   },
   "source": [
    "![](https://pbs.twimg.com/media/DQc3ndDUMAIl9gL.jpg:large)"
   ]
  },
  {
   "cell_type": "markdown",
   "metadata": {
    "slideshow": {
     "slide_type": "skip"
    }
   },
   "source": [
    "fail registration credit: https://twitter.com/DanielaJPalombo"
   ]
  },
  {
   "cell_type": "markdown",
   "metadata": {
    "slideshow": {
     "slide_type": "slide"
    }
   },
   "source": [
    "## The registration and the registration and stats are all contained in png images. This is a great oppertunity to create another html file like we did for the motion correction!"
   ]
  },
  {
   "cell_type": "markdown",
   "metadata": {
    "slideshow": {
     "slide_type": "slide"
    }
   },
   "source": [
    "## First lets consider the main() function. What globals should be define? Remember we want to make an html"
   ]
  },
  {
   "cell_type": "markdown",
   "metadata": {
    "slideshow": {
     "slide_type": "fragment"
    }
   },
   "source": [
    "1. basedir\n",
    "2. writedir\n",
    "3. datestamp\n",
    "4. outfile"
   ]
  },
  {
   "cell_type": "markdown",
   "metadata": {
    "slideshow": {
     "slide_type": "fragment"
    }
   },
   "source": [
    "## Concept Check: Fill in your main( ) so that you define the above variables."
   ]
  },
  {
   "cell_type": "markdown",
   "metadata": {
    "slideshow": {
     "slide_type": "slide"
    }
   },
   "source": [
    "![](https://imageog.flaticon.com/icons/png/512/3/3641.png?size=1200x630f&pad=10,10,10,10&ext=png&bg=FFFFFFFF)"
   ]
  },
  {
   "cell_type": "code",
   "execution_count": null,
   "metadata": {
    "collapsed": true,
    "slideshow": {
     "slide_type": "slide"
    }
   },
   "outputs": [],
   "source": [
    "def main():\n",
    "    basedir='/Users/gracer/Desktop/data/derivatives/task'\n",
    "    writedir='/Users/gracer/Desktop/data/'\n",
    "    datestamp=datetime.datetime.now().strftime(\"%Y-%m-%d-%H_%M_%S\")\n",
    "    outfile = os.path.join(writedir,'lev1_QA_%s.html'%datestamp)        \n",
    "    QA_writer(basedir,outfile,writedir)"
   ]
  },
  {
   "cell_type": "markdown",
   "metadata": {
    "slideshow": {
     "slide_type": "fragment"
    }
   },
   "source": [
    "Of course your paths will be different!"
   ]
  },
  {
   "cell_type": "markdown",
   "metadata": {
    "slideshow": {
     "slide_type": "slide"
    }
   },
   "source": [
    "## The main( ) is looking good! Lets move on to the QA_writer( ).\n",
    "\n",
    "## Concept Check: We are going to need something that gets all the file paths to the first level analyses and also that generates a subject number variable. Give it a shot!"
   ]
  },
  {
   "cell_type": "markdown",
   "metadata": {
    "slideshow": {
     "slide_type": "fragment"
    }
   },
   "source": [
    "I came up with the following:"
   ]
  },
  {
   "cell_type": "code",
   "execution_count": null,
   "metadata": {
    "collapsed": true,
    "slideshow": {
     "slide_type": "fragment"
    }
   },
   "outputs": [],
   "source": [
    "def QA_writer(basedir,outfile,writedir):\n",
    "\n",
    "    for file in glob.glob(os.path.join(basedir,'sub*','grace_edit','*.feat')):\n",
    "        os.chdir(file)\n",
    "        print(file)\n",
    "        sub=file.split('/')[7]"
   ]
  },
  {
   "cell_type": "markdown",
   "metadata": {
    "slideshow": {
     "slide_type": "slide"
    }
   },
   "source": [
    "## Since we are looking for png files in multiple subdirectories we could write multiple loops to look for each.... Or we can use the walk function from os to search each subdirectory for us!\n"
   ]
  },
  {
   "cell_type": "code",
   "execution_count": null,
   "metadata": {
    "collapsed": true,
    "slideshow": {
     "slide_type": "fragment"
    }
   },
   "outputs": [],
   "source": [
    "        dict_of_files = {}\n",
    "        for (dirpath, dirnames, filenames) in os.walk(file):\n",
    "            for filename in filenames:\n",
    "                if filename.startswith('fsl') or filename.startswith('vert'):\n",
    "                    print('skipping')\n",
    "                elif filename.endswith('.png'): \n",
    "                    list_of_files[filename] = os.sep.join([dirpath, filename])"
   ]
  },
  {
   "cell_type": "markdown",
   "metadata": {
    "slideshow": {
     "slide_type": "fragment"
    }
   },
   "source": [
    "### os.walk is a little intimidating at first. It generates the following:\n",
    "* dirpath= the path to the directory\n",
    "* dirnames= a list of subdirectories \n",
    "* filenames= list of non-directory files\n",
    "by \"walking\" through the directory tree either up or down. So we can give it a file path and ask it to generate a the dirpath, names of all the inner directories, and the filenames. With in those, we can pick out which we want to print to the html. All this and we don't need to know the specific names of all the subdirectories!"
   ]
  },
  {
   "cell_type": "markdown",
   "metadata": {
    "slideshow": {
     "slide_type": "fragment"
    }
   },
   "source": [
    "### So what is going on with this if/elif statement?\n",
    "* We want to find all the png files associated with registration and the statistical analysis. \n",
    "So we could just glob all png files. BUT.... fsl generates a bunch of extra png files (logos, etc), and they clutter the html.\n",
    "We can skip file names that match \"clutter\" and keep the rest. \n",
    "* elif is a combination of else if. It allows us to pass an else statement with a condition after an if.\n",
    "* Finally we are going to population our dictionary dict_of_files with the filename as the key and the path to the file as the variable."
   ]
  },
  {
   "cell_type": "markdown",
   "metadata": {
    "slideshow": {
     "slide_type": "slide"
    }
   },
   "source": [
    "## Concept check: Now that we have a dictionary of our png files, create a loop that will get the file and input it into html formatting. If you are stuck look how we did this in the preprocessing script"
   ]
  },
  {
   "cell_type": "code",
   "execution_count": null,
   "metadata": {
    "collapsed": true,
    "slideshow": {
     "slide_type": "fragment"
    }
   },
   "outputs": [],
   "source": [
    "   for key in dict_of_files:\n",
    "            os.system(\"echo '<p>=============<p> %s %s <br><IMG BORDER=0 SRC=%s WIDTH=%s></BODY></HTML>' >> %s\"%(sub,key,list_of_files[key],'100%', outfile))\n",
    "#            shutil.copy(dict_of_files[key],writedir)"
   ]
  },
  {
   "cell_type": "markdown",
   "metadata": {
    "slideshow": {
     "slide_type": "fragment"
    }
   },
   "source": [
    "## Concept check: Finally, finish off the script with something that checks the number of cope files in each feat. If a feat directory is miss copes move it to a folder called fail"
   ]
  },
  {
   "cell_type": "code",
   "execution_count": null,
   "metadata": {
    "collapsed": true,
    "slideshow": {
     "slide_type": "slide"
    }
   },
   "outputs": [],
   "source": [
    "        if os.path.exists(os.path.join(basedir,'fails'))==False:\n",
    "            os.makedirs(os.path.join(basedir,'fails'))\n",
    "\n",
    "        if len(glob.glob(os.path.join(file,'stats','cope*.nii.gz')))==5:\n",
    "            print(file+' has 5 cope files :D')\n",
    "        else:\n",
    "            print(file+' is missing copes, need to rerun')\n",
    "            name=file.split('/')[9].split('.')[0]\n",
    "            shutil.move(file,os.path.join(basedir,'fails',sub,name))\n"
   ]
  },
  {
   "cell_type": "markdown",
   "metadata": {
    "slideshow": {
     "slide_type": "slide"
    }
   },
   "source": [
    "![](https://imageog.flaticon.com/icons/png/512/3/3641.png?size=1200x630f&pad=10,10,10,10&ext=png&bg=FFFFFFFF)"
   ]
  },
  {
   "cell_type": "markdown",
   "metadata": {
    "slideshow": {
     "slide_type": "slide"
    }
   },
   "source": [
    "## All together now!"
   ]
  },
  {
   "cell_type": "markdown",
   "metadata": {},
   "source": [
    "![](https://78.media.tumblr.com/62c56993084d8a851decf11106d64ab0/tumblr_nle68sXJFb1s8ir5qo1_400.gif)"
   ]
  },
  {
   "cell_type": "code",
   "execution_count": null,
   "metadata": {
    "collapsed": true,
    "slideshow": {
     "slide_type": "fragment"
    }
   },
   "outputs": [],
   "source": [
    "import os\n",
    "import glob\n",
    "import shutil\n",
    "#import pdb\n",
    "import datetime\n",
    "\n",
    "def QA_writer(basedir,outfile,writedir):\n",
    "\n",
    "    for file in glob.glob(os.path.join(basedir,'sub*','grace_edit','*.feat')):\n",
    "        os.chdir(file)\n",
    "        print(file)\n",
    "        sub=file.split('/')[7]\n",
    "        dict_of_files = {}\n",
    "        for (dirpath, dirnames, filenames) in os.walk(file):\n",
    "            for filename in filenames:\n",
    "                if filename.startswith('fsl') or filename.startswith('vert'):\n",
    "                    print('skipping')\n",
    "                elif filename.endswith('.png'): \n",
    "                    dict_of_files[filename] = os.sep.join([dirpath, filename])\n",
    "\n",
    "        for key in dict_of_files:\n",
    "            os.system(\"echo '<p>=============<p> %s %s <br><IMG BORDER=0 SRC=%s WIDTH=%s></BODY></HTML>' >> %s\"%(sub,key,dict_of_files[key],'100%', outfile))\n",
    "            #shutil.copy(dict_of_files[key],writedir)\n",
    "        if os.path.exists(os.path.join(basedir,'fails'))==False:\n",
    "            os.makedirs(os.path.join(basedir,'fails'))\n",
    "\n",
    "        if len(glob.glob(os.path.join(file,'stats','cope*.nii.gz')))==4:\n",
    "            print(file+' has 4 cope files :D')\n",
    "        else:\n",
    "            print(file+' is missing copes, need to rerun')\n",
    "            name=file.split('/')[9].split('.')[0]\n",
    "            shutil.copytree(file,os.path.join(basedir,'fail',sub,name))\n",
    "\n",
    "def main():\n",
    "    basedir='/Users/gracer/Desktop/data/derivatives/task'\n",
    "    writedir='/Users/gracer/Desktop/data/'\n",
    "    datestamp=datetime.datetime.now().strftime(\"%Y-%m-%d-%H_%M_%S\")\n",
    "    outfile = os.path.join(writedir,'lev1_QA_%s.html'%datestamp)        \n",
    "    QA_writer(basedir,outfile,writedir)\n",
    "main()\n",
    "\n",
    "os.chdir('/Users/gracer/Google Drive/fMRI_workshop/scripts')"
   ]
  },
  {
   "cell_type": "markdown",
   "metadata": {
    "slideshow": {
     "slide_type": "slide"
    }
   },
   "source": [
    "## Lets see how our feat analysis coming ..."
   ]
  },
  {
   "cell_type": "markdown",
   "metadata": {
    "slideshow": {
     "slide_type": "slide"
    }
   },
   "source": [
    "## Hey wait.... what about the no registration ones...? Seems like that is going to be an issue.... "
   ]
  },
  {
   "cell_type": "markdown",
   "metadata": {},
   "source": [
    "## You're right we need a to do a couple extra steps!\n",
    "* check that reg_standard exists in the first level\n",
    "    * if it exists delete\n",
    "* delete all .mat files in the reg folder\n",
    "    * Replace with the identity matrix from fsl\n",
    "* copy the mean_func.nii.gz to reg/standard.nii.gz\n",
    "* check the voxel intensities in the stats/cope.nii.gz and reg_standard/stats/cope.nii.gz are EXACTLY the same \n",
    "    * data dimension and pixel size should be the same\n",
    "    * will have to do this after higher level analysis (reg_standard doesn't exist until then)"
   ]
  },
  {
   "cell_type": "markdown",
   "metadata": {},
   "source": [
    "## This seems like a good place to try writing a python module!\n",
    "So far we have imported a lot of modules and they seem pretty awesome. Wouldn't it be cool to make one?"
   ]
  },
  {
   "cell_type": "markdown",
   "metadata": {},
   "source": [
    "We briefly talked about how to create a module when we made our level1.py script. We needed that strange\n",
    "```\n",
    "if __name__ == '__main__':\n",
    "```\n",
    "We are going to use that again, because maybe sometimes we are going to want to run this script as is"
   ]
  },
  {
   "cell_type": "markdown",
   "metadata": {
    "collapsed": true
   },
   "source": [
    "### Concept check: Write a python script called no_reg.py. This need to do the following:\n",
    "* Check if each feat directory has a subdirectory called 'reg_standard'\n",
    "    * If it does, delete it. \n",
    "* Then we need to delete all the .mat files in the reg directory for each feat analysis\n",
    "* Move the identity matrix (standard with fsl) to the reg directory for each feat analysis\n",
    "* **Copy** the mean_func.nii.gz for each feat analysis to the reg directorys\n",
    "\n",
    "\n",
    "A couple hints: \n",
    "* The path to the identity matrix should look something like, '/usr/local/fsl/etc/flirtsch/ident.mat'\n",
    "* We want to copy the mean_func.nii.gz, NOT move what module have we used to move and copy things?\n",
    "* shutil has a function called rmtree, this will remove an entire directory tree"
   ]
  },
  {
   "cell_type": "markdown",
   "metadata": {},
   "source": [
    "## You should have something like this. Just as a reminder there are a lot of different ways to accomplish this task. If you have another way let me know, this is part of the process! "
   ]
  },
  {
   "cell_type": "code",
   "execution_count": 1,
   "metadata": {
    "collapsed": true
   },
   "outputs": [],
   "source": [
    "import os\n",
    "import glob\n",
    "import shutil\n",
    "\n",
    "def reg_check(basedir,IDmat):\n",
    "    for sub in glob.glob(os.path.join(basedir,'sub-*','grace_edit','*.feat')):\n",
    "        if os.path.exists(os.path.join(sub,'reg_standard')):\n",
    "            shutil.rmtree(os.path.join(sub,'reg_standard'))\n",
    "            print('%s has the reg standard'%sub)\n",
    "        \n",
    "        for files in glob.glob(os.path.join(sub,'reg','*.mat')):\n",
    "            print(files)\n",
    "            os.remove(files)\n",
    "        \n",
    "        shutil.copy2(IDmat,os.path.join(sub,'reg'))\n",
    "        meanFUNC=os.path.join(sub,'mean_func.nii.gz')\n",
    "        regDIR=os.path.join(sub,'reg','standard.nii.gz')\n",
    "        shutil.copy2(meanFUNC,regDIR)\n",
    "        \n",
    "                    \n",
    "        \n",
    "        \n",
    "def main():\n",
    "    basedir='/Users/gracer/Desktop/data/derivatives/task'\n",
    "    IDmat='/usr/local/fsl/etc/flirtsch/ident.mat'\n",
    "    reg_check(basedir,IDmat)\n"
   ]
  },
  {
   "cell_type": "markdown",
   "metadata": {},
   "source": [
    "## Ok, lets make a couple tweeks so this will work as a module!\n",
    "1. We are going to want to un-hard code our basedir and add BASEDIR as a parameter in main\n",
    "2. We need to add that name check"
   ]
  },
  {
   "cell_type": "code",
   "execution_count": 2,
   "metadata": {
    "collapsed": true
   },
   "outputs": [],
   "source": [
    "import os\n",
    "import glob\n",
    "import shutil\n",
    "\n",
    "def reg_check(basedir,IDmat):\n",
    "    for sub in glob.glob(os.path.join(basedir,'sub-*','grace_edit','*.feat')):\n",
    "        if os.path.exists(os.path.join(sub,'reg_standard')):\n",
    "            shutil.rmtree(os.path.join(sub,'reg_standard'))\n",
    "            print('%s has the reg standard'%sub)\n",
    "        \n",
    "        for files in glob.glob(os.path.join(sub,'reg','*.mat')):\n",
    "            print(files)\n",
    "            os.remove(files)\n",
    "        \n",
    "        shutil.copy2(IDmat,os.path.join(sub,'reg'))\n",
    "        meanFUNC=os.path.join(sub,'mean_func.nii.gz')\n",
    "        regDIR=os.path.join(sub,'reg','standard.nii.gz')\n",
    "        shutil.copy2(meanFUNC,regDIR)\n",
    "        \n",
    "                    \n",
    "        \n",
    "        \n",
    "def main(BASEDIR):\n",
    "    basedir=BASEDIR\n",
    "    IDmat='/usr/local/fsl/etc/flirtsch/ident.mat'\n",
    "    reg_check(basedir,IDmat)\n",
    "\n",
    "if __name__ == \"__main__\":\n",
    "    BASEDIR='/Users/gracer/Desktop/data/derivatives/task'\n",
    "    main(BASEDIR)"
   ]
  },
  {
   "cell_type": "markdown",
   "metadata": {},
   "source": [
    "This reminds us why keeping global variables in the main function is so useful. With a couple minor tweeks we were able to change a script into a module! Notice I kept the IDmat variable hardcoded. Since this is a native fsl file it **should** be the same for every installation of fsl!"
   ]
  },
  {
   "cell_type": "markdown",
   "metadata": {},
   "source": [
    "## Alright! Lets add this to our check_level1.py!\n",
    "## Concept check: Incorportate your new module into the check_level1.py! Create functionality to allow for either registration or no registration feat analysis"
   ]
  },
  {
   "cell_type": "code",
   "execution_count": null,
   "metadata": {
    "collapsed": true
   },
   "outputs": [],
   "source": [
    "import os\n",
    "import glob\n",
    "import shutil\n",
    "import no_reg\n",
    "import datetime\n",
    "import argparse\n",
    "import pdb\n",
    "\n",
    "def QA_writer(basedir,outfile,writedir,arglist):\n",
    "    \n",
    "    if os.path.exists(os.path.join(basedir,'fails'))==False:\n",
    "                os.makedirs(os.path.join(basedir,'fails'))\n",
    "            \n",
    "    for file in glob.glob(os.path.join(basedir,'sub*','grace_edit','*.feat')): \n",
    "        sub=file.split('/')[7]\n",
    "        if len(glob.glob(os.path.join(file,'stats','cope*.nii.gz')))==2:\n",
    "            print(file+' has 2 cope files :D')\n",
    "        else:\n",
    "            print(file+' is missing copes, need to rerun')\n",
    "            name=file.split('/')[9].split('.')[0]\n",
    "            shutil.copytree(file,os.path.join(basedir,'fail',sub, name))\n",
    "        \n",
    "    if arglist['NOREG']== False:\n",
    "        for file in glob.glob(os.path.join(basedir,'sub*','grace_edit','*.feat')):\n",
    "            sub=file.split('/')[7]\n",
    "            dict_of_files = {}\n",
    "            for (dirpath, dirnames, filenames) in os.walk(file):\n",
    "                for filename in filenames:\n",
    "                    if filename.startswith('fsl') or filename.startswith('vert'):\n",
    "                        print('skipping')\n",
    "                    elif filename.endswith('.png'): \n",
    "                        dict_of_files[filename] = os.sep.join([dirpath, filename])\n",
    "\n",
    "            for key in dict_of_files:\n",
    "                os.system(\"echo '<p>=============<p> %s %s <br><IMG BORDER=0 SRC=%s WIDTH=%s></BODY></HTML>' >> %s\"%(sub,key,dict_of_files[key],'100%', outfile))\n",
    "                #shutil.copy(dict_of_files[key],writedir)\n",
    "    else:\n",
    "        print(\"no need to look at fake registration, but do need to clean up this reg dirctory!\")\n",
    "        no_reg.main(basedir)\n",
    "        for file in glob.glob(os.path.join(basedir,'sub*','grace_edit','*.feat')):\n",
    "            sub=file.split('/')[7]\n",
    "            pdb.set_trace()\n",
    "            for design_file in glob.glob(os.path.join(file,'design*.png')):\n",
    "                pdb.set_trace()\n",
    "                os.system(\"echo '<p>=============<p> %s <br><IMG BORDER=0 SRC=%s WIDTH=%s></BODY></HTML>' >> %s\"%(sub,design_file,'100%', outfile))\n",
    "    \n",
    "\n",
    "def main():\n",
    "    basedir='/Users/gracer/Desktop/data/derivatives/task'\n",
    "    writedir='/Users/gracer/Desktop/data/'\n",
    "    datestamp=datetime.datetime.now().strftime(\"%Y-%m-%d-%H_%M_%S\")\n",
    "    outfile = os.path.join(writedir,'lev1_QA_%s.html'%datestamp)  \n",
    "    parser=argparse.ArgumentParser(description='checking first level feat analysis')\n",
    "    parser.add_argument('-noreg',dest='NOREG', action='store_true',\n",
    "                        default=False, help='Did you already register your data (using ANTZ maybe)?')\n",
    "    \n",
    "    args = parser.parse_args()\n",
    "    arglist={}\n",
    "    for a in args._get_kwargs():\n",
    "        arglist[a[0]]=a[1]\n",
    "    print(arglist)\n",
    "    \n",
    "    QA_writer(basedir,outfile,writedir,arglist)\n",
    "main()\n",
    "\n",
    "os.chdir('/Users/gracer/Google Drive/fMRI_workshop/scripts')"
   ]
  },
  {
   "cell_type": "code",
   "execution_count": null,
   "metadata": {
    "collapsed": true,
    "slideshow": {
     "slide_type": "skip"
    }
   },
   "outputs": [],
   "source": [
    "def multi_split(listy,number):\n",
    "    i=0\n",
    "    biglist=[]\n",
    "    cntr=len(listy)/number\n",
    "    for x in range(number):\n",
    "        tmplist=\"tmp_list\"+str(x)\n",
    "        #tmplist=listy[i:cntr]\n",
    "        print(str(cntr)+' and '+str(i))\n",
    "        i=i+cntr\n",
    "        cntr=cntr+cntr\n",
    "        # biglist.append(tmplist)\n",
    "  #  return biglist "
   ]
  },
  {
   "cell_type": "code",
   "execution_count": null,
   "metadata": {
    "collapsed": true
   },
   "outputs": [],
   "source": []
  },
  {
   "cell_type": "code",
   "execution_count": null,
   "metadata": {
    "collapsed": true
   },
   "outputs": [],
   "source": []
  }
 ],
 "metadata": {
  "celltoolbar": "Slideshow",
  "kernelspec": {
   "display_name": "Python 2",
   "language": "python",
   "name": "python2"
  },
  "language_info": {
   "codemirror_mode": {
    "name": "ipython",
    "version": 2
   },
   "file_extension": ".py",
   "mimetype": "text/x-python",
   "name": "python",
   "nbconvert_exporter": "python",
   "pygments_lexer": "ipython2",
   "version": "2.7.14"
  }
 },
 "nbformat": 4,
 "nbformat_minor": 2
}
