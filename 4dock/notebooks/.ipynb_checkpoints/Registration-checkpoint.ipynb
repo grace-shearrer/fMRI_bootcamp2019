{
 "cells": [
  {
   "cell_type": "markdown",
   "metadata": {},
   "source": [
    "# 4. Registration"
   ]
  },
  {
   "cell_type": "markdown",
   "metadata": {},
   "source": [
    "# Why all the fuss? \n",
    "\n",
    "We need to be able to be able to generalize our findings. Both within our sample and overall. To do this we need to treat each scan like silly putty that isn't very stretchy."
   ]
  },
  {
   "cell_type": "markdown",
   "metadata": {},
   "source": [
    "# Space the final frontier\n",
    "\n",
    "We talk about a couple of general spaces\n",
    "1. Native space\n",
    "2. Standard Space"
   ]
  },
  {
   "cell_type": "markdown",
   "metadata": {},
   "source": [
    "## Native Space\n",
    "The subject's personal space. If you look at enough images you realize these can be wildly different."
   ]
  },
  {
   "cell_type": "markdown",
   "metadata": {},
   "source": [
    "## Standard Space\n",
    "\n",
    "These are defined spaces.\n",
    "\n",
    "1. Talairach\n",
    " - Don't use\n",
    " - Based on a single woman\n",
    " - Please don't\n",
    "2. MNI\n",
    " - Based on 152 brains\n",
    " - Now a lot of different flavors (asym) "
   ]
  },
  {
   "cell_type": "markdown",
   "metadata": {},
   "source": [
    "# Steps for carrying out transformation\n",
    "1. Choose the type of transformation\n",
    "2. Estimate the parameters of the transformation\n",
    " - Requires a cost function to evaluate parameter choice\n",
    "3. Resample the original image\n",
    " - Transformed coordinates will not line up exactly with original coordinates\n",
    " - Use some type of interpolation"
   ]
  },
  {
   "cell_type": "markdown",
   "metadata": {},
   "source": [
    "## Choose the type of transformation\n",
    "1. Rigid body (6 DOF)\n",
    " - within-subject motion\n",
    "2. Non-linear (lots of DOF!)\n",
    " - high-quality image (resolution, contrast) & same modality of reference/template\n",
    " - better with a non-linear template (e.g. MNI152_T1_2mm)\n",
    "3. Affine (12 DOF)\n",
    " - needed as a starting point for non-linear\n",
    " - align to affine template, or using lower quality images, or eddy current correction\n",
    "4. Global scaling (7 DOF)\n",
    "- within-subject but with global scaling (equal in x,y,z)\n",
    "- corrects for scanner scaling drift in longitudinal studies\n",
    "#### More DOF is NOT always better (e.g. within-subject)"
   ]
  },
  {
   "cell_type": "markdown",
   "metadata": {},
   "source": [
    "![affine](https://github.com/grace-shearrer/fMRI_bootcamp2019/blob/wildwest/4dock/images/affine.png?raw=true)"
   ]
  },
  {
   "cell_type": "markdown",
   "metadata": {},
   "source": [
    "![spacey](https://github.com/grace-shearrer/fMRI_bootcamp2019/blob/wildwest/4dock/images/otherspaces.png?raw=true)"
   ]
  },
  {
   "cell_type": "markdown",
   "metadata": {},
   "source": [
    "# Step 1\n",
    "![step1](https://github.com/grace-shearrer/fMRI_bootcamp2019/blob/wildwest/4dock/images/step1.png?raw=true)"
   ]
  },
  {
   "cell_type": "markdown",
   "metadata": {},
   "source": [
    "# Step 2\n",
    "![step2](https://github.com/grace-shearrer/fMRI_bootcamp2019/blob/wildwest/4dock/images/step2.png?raw=true)"
   ]
  },
  {
   "cell_type": "markdown",
   "metadata": {},
   "source": [
    "# Step 3\n",
    "![step3](https://github.com/grace-shearrer/fMRI_bootcamp2019/blob/wildwest/4dock/images/step3.png?raw=true)"
   ]
  },
  {
   "cell_type": "markdown",
   "metadata": {},
   "source": [
    "# All together\n",
    "![sofine](https://github.com/grace-shearrer/fMRI_bootcamp2019/blob/wildwest/4dock/images/sofine.png?raw=true)"
   ]
  },
  {
   "cell_type": "markdown",
   "metadata": {},
   "source": [
    "# Nonlinear is where things get weird\n",
    "You have unlimited degrees of freedom and you essentially deforming a field.   \n",
    "I like to think I know a lot about MRI, but FNIRT is not one of them\n",
    "![]()\n"
   ]
  },
  {
   "cell_type": "markdown",
   "metadata": {},
   "source": [
    "## Estimate the parameters of the transformation"
   ]
  },
  {
   "cell_type": "markdown",
   "metadata": {},
   "source": [
    "## Resample the original image"
   ]
  },
  {
   "cell_type": "markdown",
   "metadata": {},
   "source": [
    "https://fsl.fmrib.ox.ac.uk/fslcourse/lectures/practicals/registration/index.html"
   ]
  },
  {
   "cell_type": "code",
   "execution_count": null,
   "metadata": {},
   "outputs": [],
   "source": []
  }
 ],
 "metadata": {
  "kernelspec": {
   "display_name": "Python 3",
   "language": "python",
   "name": "python3"
  },
  "language_info": {
   "codemirror_mode": {
    "name": "ipython",
    "version": 3
   },
   "file_extension": ".py",
   "mimetype": "text/x-python",
   "name": "python",
   "nbconvert_exporter": "python",
   "pygments_lexer": "ipython3",
   "version": "3.6.8"
  }
 },
 "nbformat": 4,
 "nbformat_minor": 2
}
