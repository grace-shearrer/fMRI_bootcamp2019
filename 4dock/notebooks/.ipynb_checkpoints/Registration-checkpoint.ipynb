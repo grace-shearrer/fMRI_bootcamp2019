{
 "cells": [
  {
   "cell_type": "markdown",
   "metadata": {},
   "source": [
    "# 4. Registration"
   ]
  },
  {
   "cell_type": "markdown",
   "metadata": {},
   "source": [
    "# Why all the fuss? \n",
    "\n",
    "We need to be able to be able to generalize our findings. Both within our sample and overall. To do this we need to treat each scan like silly putty that isn't very stretchy."
   ]
  },
  {
   "cell_type": "markdown",
   "metadata": {},
   "source": [
    "# Space the final frontier\n",
    "\n",
    "We talk about a couple of general spaces\n",
    "1. Native space\n",
    "2. Standard Space"
   ]
  },
  {
   "cell_type": "markdown",
   "metadata": {},
   "source": [
    "## Native Space\n",
    "The subject's personal space. If you look at enough images you realize these can be wildly different."
   ]
  },
  {
   "cell_type": "markdown",
   "metadata": {},
   "source": [
    "## Standard Space\n",
    "\n",
    "These are defined spaces.\n",
    "\n",
    "1. Talairach\n",
    " - Don't use\n",
    " - Based on a single woman\n",
    " - Please don't\n",
    "2. MNI\n",
    " - Based on 152 brains\n",
    " - Now a lot of different flavors (asym) "
   ]
  },
  {
   "cell_type": "markdown",
   "metadata": {},
   "source": [
    "# Steps for carrying out transformation\n",
    "1. Choose the type of transformation\n",
    "2. Estimate the parameters of the transformation\n",
    " - Requires a cost function to evaluate parameter choice\n",
    "3. Resample the original image\n",
    " - Transformed coordinates will not line up exactly with original coordinates\n",
    " - Use some type of interpolation"
   ]
  },
  {
   "cell_type": "markdown",
   "metadata": {},
   "source": [
    "## Choose the type of transformation\n",
    "1. Affine (rigid)\n",
    " - Varying degrees (3-12 parameters)\n",
    " - Faster to apply\n",
    " - Doesn’t have huge impact on brain shape\n",
    "2. Nonlinear (wiggly)\n",
    " - Very flexible\n",
    " - Many parameters (takes longer)\n",
    " - Without regularization can greatly change brain shape"
   ]
  },
  {
   "cell_type": "markdown",
   "metadata": {},
   "source": [
    "## Affine\n",
    "- 6 degree of freedom transformation \n",
    "  - Translation and rotation in x,y,z\n",
    "- Does not change the shape of the brain – Good for within subject alignment\n",
    "  - 7 dof transformation – Includes global scaling\n",
    "  - Full affine transformation – 12 degrees of freedom\n",
    "  \n",
    "![affine]()"
   ]
  },
  {
   "cell_type": "markdown",
   "metadata": {},
   "source": [
    "## Estimate the parameters of the transformation"
   ]
  },
  {
   "cell_type": "markdown",
   "metadata": {},
   "source": [
    "## Resample the original image"
   ]
  },
  {
   "cell_type": "code",
   "execution_count": null,
   "metadata": {},
   "outputs": [],
   "source": []
  }
 ],
 "metadata": {
  "kernelspec": {
   "display_name": "Python 3",
   "language": "python",
   "name": "python3"
  },
  "language_info": {
   "codemirror_mode": {
    "name": "ipython",
    "version": 3
   },
   "file_extension": ".py",
   "mimetype": "text/x-python",
   "name": "python",
   "nbconvert_exporter": "python",
   "pygments_lexer": "ipython3",
   "version": "3.6.8"
  }
 },
 "nbformat": 4,
 "nbformat_minor": 2
}
