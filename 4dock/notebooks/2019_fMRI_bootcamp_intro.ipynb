{
 "cells": [
  {
   "cell_type": "markdown",
   "metadata": {
    "slideshow": {
     "slide_type": "slide"
    }
   },
   "source": [
    "# fMRI analysis bootcamp!"
   ]
  },
  {
   "cell_type": "markdown",
   "metadata": {
    "slideshow": {
     "slide_type": "slide"
    }
   },
   "source": [
    "# What is the plan for the day?\n",
    "This tutorial follows the FEAT GUI. I don't expect that you would use the GUI forever but it is a nice way to introudce yourself to modeling.  \n",
    "1. Input data (what are we even working with)\n",
    "2. Output data (what are we expecting to get)\n",
    "4. Prestats\n",
    " - B0 unwrapping\n",
    " - Spatial smoothing\n",
    " - Temporal Filtering\n",
    "5. Registration\n",
    " - fMRIPREP work around  \n",
    "6. FILM\n",
    "7. Stats overview\n",
    "8. First level stats\n",
    " - Confounds\n",
    " - Modeling\n",
    "9. Second level modeling\n",
    "10. Third Level modeling\n",
    "11. Randomiz(s)e"
   ]
  },
  {
   "cell_type": "markdown",
   "metadata": {},
   "source": [
    "# 1. Input data (what are we even working with)"
   ]
  },
  {
   "cell_type": "markdown",
   "metadata": {},
   "source": [
    "## DICOM (.dcm): \n",
    "- Digital Imaging and Communications in Medicine. Imaging standard. \n",
    "- A data with object with a lot of attributes (name, ID, modality, pixel data)\n",
    "- Usually the pixel image is a single image, however multi-frame data is possible\n",
    "- Not open   \n",
    "\n",
    "## Nifti (.nii):\n",
    "- Open file format\n",
    "- First 3 dimensions are x,y,z \n",
    "- Fourth is time\n",
    "- Header contains lots of useful information"
   ]
  },
  {
   "cell_type": "code",
   "execution_count": null,
   "metadata": {
    "slideshow": {
     "slide_type": "slide"
    }
   },
   "outputs": [],
   "source": [
    "! fslhd <example file>"
   ]
  },
  {
   "cell_type": "markdown",
   "metadata": {
    "slideshow": {
     "slide_type": "subslide"
    }
   },
   "source": [
    "Really good summary here:  \n",
    "https://brainder.org/2012/09/23/the-nifti-file-format/"
   ]
  },
  {
   "cell_type": "markdown",
   "metadata": {
    "slideshow": {
     "slide_type": "slide"
    }
   },
   "source": [
    "# 2. Output data (what are we expecting)?"
   ]
  },
  {
   "cell_type": "markdown",
   "metadata": {
    "slideshow": {
     "slide_type": "subslide"
    }
   },
   "source": [
    "## FEAT Directory structure \n",
    "\n",
    "https://fsl.fmrib.ox.ac.uk/fsl/fslwiki/FEAT/UserGuide#Stats_.28First-level.29"
   ]
  }
 ],
 "metadata": {
  "celltoolbar": "Slideshow",
  "kernelspec": {
   "display_name": "Python 3",
   "language": "python",
   "name": "python3"
  },
  "language_info": {
   "codemirror_mode": {
    "name": "ipython",
    "version": 3
   },
   "file_extension": ".py",
   "mimetype": "text/x-python",
   "name": "python",
   "nbconvert_exporter": "python",
   "pygments_lexer": "ipython3",
   "version": "3.6.5"
  }
 },
 "nbformat": 4,
 "nbformat_minor": 2
}
