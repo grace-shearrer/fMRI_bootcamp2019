{
 "cells": [
  {
   "cell_type": "markdown",
   "metadata": {
    "collapsed": true,
    "slideshow": {
     "slide_type": "slide"
    }
   },
   "source": [
    "# Level 2 FEAT setup! (assuming we have multiple runs per subject)"
   ]
  },
  {
   "cell_type": "markdown",
   "metadata": {
    "slideshow": {
     "slide_type": "slide"
    }
   },
   "source": [
    "If we have multiple runs per subject we want to average the output per subject before running our level 3 feat analysis. This will make the set up of the level 3 model a bit easier."
   ]
  },
  {
   "cell_type": "markdown",
   "metadata": {
    "slideshow": {
     "slide_type": "fragment"
    }
   },
   "source": [
    "Again, let's fire up the GUI to get an idea of what we are trying to accomplish before we start writing our python code"
   ]
  },
  {
   "cell_type": "markdown",
   "metadata": {
    "slideshow": {
     "slide_type": "slide"
    }
   },
   "source": [
    "## The data tab"
   ]
  },
  {
   "cell_type": "markdown",
   "metadata": {
    "slideshow": {
     "slide_type": "fragment"
    }
   },
   "source": [
    "![](https://github.com/grace-shearrer/nibl_workshop/blob/master/feat2_data.png?raw=true)"
   ]
  },
  {
   "cell_type": "markdown",
   "metadata": {
    "slideshow": {
     "slide_type": "fragment"
    }
   },
   "source": [
    "* You should first notice that I have changed up top tab to \"Higher-level analysis.\"\n",
    "* In doing this I now have greyed out the pre-stats and registration tab\n",
    "* We are going to use lower level feat directories as the inputs \n",
    "* I don't know why but the GUI doesn't let me change the 3 to a 2, we will need to alter that in the fsf file. Thank goodness we aren't using the GUI!\n",
    "* Looks like we will also need an output directory"
   ]
  },
  {
   "cell_type": "markdown",
   "metadata": {
    "slideshow": {
     "slide_type": "slide"
    }
   },
   "source": [
    "## Stats tab! "
   ]
  },
  {
   "cell_type": "markdown",
   "metadata": {
    "slideshow": {
     "slide_type": "fragment"
    }
   },
   "source": [
    "![](https://github.com/grace-shearrer/nibl_workshop/blob/master/feat2_stats.png?raw=true)"
   ]
  },
  {
   "cell_type": "markdown",
   "metadata": {
    "slideshow": {
     "slide_type": "fragment"
    }
   },
   "source": [
    "We are going to be running a fixed effects model this time around.\n",
    "### Concept Check: What is the difference between fixed effects and say OLS? Why isn't this part not a mixed model?"
   ]
  },
  {
   "cell_type": "markdown",
   "metadata": {
    "slideshow": {
     "slide_type": "subslide"
    }
   },
   "source": [
    "![](https://github.com/grace-shearrer/nibl_workshop/blob/master/feat2_evs.png?raw=true)"
   ]
  },
  {
   "cell_type": "markdown",
   "metadata": {
    "slideshow": {
     "slide_type": "fragment"
    }
   },
   "source": [
    "For our EVs we are only going to have 2. The GUI though will try to force you to have 3. We need to have this in the back of our minds while editing the fsf file. To remind myself, I leave the last part as a 0."
   ]
  },
  {
   "cell_type": "markdown",
   "metadata": {
    "slideshow": {
     "slide_type": "fragment"
    }
   },
   "source": [
    "## Concept Check: We want the mean of our two runs. What will our contrast look like?"
   ]
  },
  {
   "cell_type": "markdown",
   "metadata": {
    "slideshow": {
     "slide_type": "subslide"
    }
   },
   "source": [
    "![](https://github.com/grace-shearrer/nibl_workshop/blob/master/feat2_con.png?raw=true)"
   ]
  },
  {
   "cell_type": "markdown",
   "metadata": {
    "slideshow": {
     "slide_type": "fragment"
    }
   },
   "source": [
    "Ah, the world's easiest contrast"
   ]
  },
  {
   "cell_type": "markdown",
   "metadata": {
    "slideshow": {
     "slide_type": "slide"
    }
   },
   "source": [
    "## Post Stats!"
   ]
  },
  {
   "cell_type": "markdown",
   "metadata": {
    "slideshow": {
     "slide_type": "fragment"
    }
   },
   "source": [
    "![](https://github.com/grace-shearrer/nibl_workshop/blob/master/feat2_post.png?raw=true)"
   ]
  },
  {
   "cell_type": "markdown",
   "metadata": {
    "slideshow": {
     "slide_type": "fragment"
    }
   },
   "source": [
    "![](http://s.quickmeme.com/img/15/154a2f063fa5a997578aaaed117c3b82e47c73733a5a90107df4b11b86fe697c.jpg)"
   ]
  },
  {
   "cell_type": "markdown",
   "metadata": {
    "slideshow": {
     "slide_type": "slide"
    }
   },
   "source": [
    "## Ok, lets recap what all we need to do"
   ]
  },
  {
   "cell_type": "markdown",
   "metadata": {
    "slideshow": {
     "slide_type": "fragment"
    }
   },
   "source": [
    "* __CHANGE THE NUMBER OF INPUTS TO 2__\n",
    "* Add both feat directories as inputs\n",
    "* Add an output directory\n",
    "* __DELETE EXTRA EV FROM STATS__"
   ]
  },
  {
   "cell_type": "markdown",
   "metadata": {
    "slideshow": {
     "slide_type": "slide"
    }
   },
   "source": [
    "## Concept Check: Open up an fsf file and add your variables."
   ]
  },
  {
   "cell_type": "markdown",
   "metadata": {
    "slideshow": {
     "slide_type": "fragment"
    }
   },
   "source": [
    "## Concept Check: How are we going to use python to change out these variables we have now coded in? What python data type (string, integer, dictionary, list, boolean) will need to generate in our script?"
   ]
  },
  {
   "cell_type": "markdown",
   "metadata": {
    "collapsed": true,
    "slideshow": {
     "slide_type": "slide"
    }
   },
   "source": [
    "## Now that we have our fsf file ready we can start scripting!"
   ]
  },
  {
   "cell_type": "markdown",
   "metadata": {
    "slideshow": {
     "slide_type": "fragment"
    }
   },
   "source": [
    "## Heads Up: The most difficult part of the second level analysis is grabbing both the first level feat directories and not over riding one or the other."
   ]
  },
  {
   "cell_type": "markdown",
   "metadata": {
    "slideshow": {
     "slide_type": "fragment"
    }
   },
   "source": [
    "## Concept Check: Who, in words, can outline our strategy for creating our make_fsf2.py?"
   ]
  },
  {
   "cell_type": "markdown",
   "metadata": {
    "slideshow": {
     "slide_type": "fragment"
    }
   },
   "source": [
    "* Create two functions (create_fsf2 and main)\n",
    "* Use a combination of glob and a dictionary to fill in our fsf file\n",
    "* Use argparse to define our task (if we are feeling fancy, and aren't we always?)"
   ]
  },
  {
   "cell_type": "markdown",
   "metadata": {
    "slideshow": {
     "slide_type": "slide"
    }
   },
   "source": [
    "## Concept Check: Write your make_fsf2.py script! Use the level 1 script for help :D"
   ]
  },
  {
   "cell_type": "markdown",
   "metadata": {
    "slideshow": {
     "slide_type": "fragment"
    }
   },
   "source": [
    "![](https://imageog.flaticon.com/icons/png/512/3/3641.png?size=1200x630f&pad=10,10,10,10&ext=png&bg=FFFFFFFF)"
   ]
  },
  {
   "cell_type": "code",
   "execution_count": null,
   "metadata": {
    "collapsed": true,
    "slideshow": {
     "slide_type": "slide"
    }
   },
   "outputs": [],
   "source": [
    "#!/usr/bin/env python\n",
    "\n",
    "import os\n",
    "import glob\n",
    "import argparse\n",
    "#import pdb\n",
    "\n",
    "def create_fsf2(basedir,repl_dict, indir,arglist):\n",
    "    if arglist['TASK']==False:\n",
    "        print(\"please say which task to run on\")\n",
    "    else:\n",
    "        print('start')\n",
    "        for dir in glob.glob(os.path.join(indir,'sub-*','grace_edit')):\n",
    "            feats=glob.glob(os.path.join(dir,'%s*.feat'%arglist['TASK']))\n",
    "            repl_dict.update({'SECOND':feats[1]})\n",
    "            repl_dict.update({'FUNCRUN':feats[0]})\n",
    "            sub=dir.split('/')[7]\n",
    "            repl_dict.update({'SUB':sub})\n",
    "            output=os.path.join(dir,'%s.gfeat'%arglist['TASK'])\n",
    "            repl_dict.update({'OUTPUT':output})\n",
    "            print(repl_dict)\n",
    "            with open(os.path.join(basedir,'design2.fsf'),'r') as infile:\n",
    "                tempfsf=infile.read()\n",
    "                for key in repl_dict:\n",
    "                    tempfsf = tempfsf.replace(key, repl_dict[key])\n",
    "                    with open(os.path.join(dir,'%s_second.fsf'%(arglist['TASK'])),'w') as outfile:\n",
    "                        outfile.write(tempfsf)\n",
    "                    outfile.close()\n",
    "            infile.close()      \n",
    "\n",
    "def main():\n",
    "    repl_dict={}\n",
    "    basedir='/Users/gracer/Desktop/data'\n",
    "    indir=os.path.join(basedir,'derivatives','task')\n",
    "    repl_dict={}\n",
    "\n",
    "    parser=argparse.ArgumentParser(description='making fsf files')\n",
    "    parser.add_argument('-task',dest='TASK',\n",
    "                        default=False, help='which task are we using?')\n",
    "\n",
    "    args = parser.parse_args()\n",
    "    arglist={}\n",
    "\n",
    "    for a in args._get_kwargs():\n",
    "        arglist[a[0]]=a[1]\n",
    "    print(arglist)\n",
    "\n",
    "    create_fsf2(basedir,repl_dict, indir,arglist)\n",
    "\n",
    "main()\n",
    "os.chdir('/Users/gracer/Google Drive/fMRI_workshop/scripts/feat_scripts')"
   ]
  }
 ],
 "metadata": {
  "celltoolbar": "Slideshow",
  "kernelspec": {
   "display_name": "Python 2",
   "language": "python",
   "name": "python2"
  },
  "language_info": {
   "codemirror_mode": {
    "name": "ipython",
    "version": 2
   },
   "file_extension": ".py",
   "mimetype": "text/x-python",
   "name": "python",
   "nbconvert_exporter": "python",
   "pygments_lexer": "ipython2",
   "version": "2.7.14"
  }
 },
 "nbformat": 4,
 "nbformat_minor": 2
}
