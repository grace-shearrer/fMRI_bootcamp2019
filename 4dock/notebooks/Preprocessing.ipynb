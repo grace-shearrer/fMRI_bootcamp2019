{
 "cells": [
  {
   "cell_type": "markdown",
   "metadata": {},
   "source": [
    "# 3. Preprocessing"
   ]
  },
  {
   "cell_type": "markdown",
   "metadata": {},
   "source": [
    "## There are a lot of options, some helpful and some less \n",
    "We will focus on the basics, but later if you want to chat more _outlandish_ methods I am happy to. Presently we will focus on:\n",
    "- Quality control (QA)\n",
    "- Distortion correction\n",
    "- Slice timing correction\n",
    "- Motion correction\n",
    "- Spatial smoothing"
   ]
  },
  {
   "cell_type": "markdown",
   "metadata": {},
   "source": [
    "## Quality Control"
   ]
  },
  {
   "cell_type": "markdown",
   "metadata": {},
   "source": [
    "Look at your images! Make sure your imaging center is performing routine checks. Usual artifacts you will see are:\n",
    "- Striping\n",
    "-- Could be due to spiking\n",
    "- Ghosting (especially if you have a population that moves alot)\n",
    "-- Offset in the K space in EPI acquisition \n",
    "-- AKA you don't know where the data is in space"
   ]
  },
  {
   "cell_type": "markdown",
   "metadata": {},
   "source": [
    "## MRQC\n",
    "https://github.com/poldracklab/mriqc"
   ]
  },
  {
   "cell_type": "markdown",
   "metadata": {},
   "source": [
    "## No matter what there is no substitution for looking at your images. "
   ]
  },
  {
   "cell_type": "markdown",
   "metadata": {},
   "source": [
    "## Concept Check: Looking at good and bad images"
   ]
  },
  {
   "cell_type": "markdown",
   "metadata": {},
   "source": [
    "need data to look at here maybe some QA reports"
   ]
  },
  {
   "cell_type": "markdown",
   "metadata": {},
   "source": [
    "## Distortion correction"
   ]
  },
  {
   "cell_type": "markdown",
   "metadata": {},
   "source": [
    "Often times refered to as 'Drop Out'. This is due to B0 field inhomogeneties. These are common near air ways (like the sinus cavity). "
   ]
  },
  {
   "cell_type": "markdown",
   "metadata": {},
   "source": [
    "### Backup: What is B0?\n",
    "B0 = The external magnetic field  \n",
    "We use the RF pulse to 'knock' protons either 90 or 180 degrees, as they relax we measure the radiowaves they emit. We assume B0 is perfect, but like us, it never is. We can get around this by measuring B0 and mapping where it is no homogenous. \n",
    "\n",
    "![B0](https://github.com/grace-shearrer/fMRI_bootcamp2019/blob/weird/4dock/images/B0.gif?raw=true)\n"
   ]
  },
  {
   "cell_type": "markdown",
   "metadata": {},
   "source": [
    "# Concept Check:\n",
    "What scan can we run to measure B0?"
   ]
  },
  {
   "cell_type": "markdown",
   "metadata": {},
   "source": [
    "# FIELDMAP"
   ]
  },
  {
   "cell_type": "markdown",
   "metadata": {},
   "source": [
    "## fMRIPREP B0 correction \n",
    "### What they call Susceptibility Distortion Correction (SDC)\n",
    "\n",
    "https://fmriprep.readthedocs.io/en/stable/sdc.html\n",
    "\n",
    "They do a very lovely job and mostly take all the confusion out of it.... if you know how to get fMRIPREP to work. "
   ]
  },
  {
   "cell_type": "markdown",
   "metadata": {},
   "source": [
    "## Correction methods (from fMRIPREP)\n",
    "1. Phase Encoding POLARity (PEPOLAR) techniques (also called blip-up/blip-down): acquire at least two images with varying PE directions. Hence, the realization of distortion is different between the different acquisitions. The displacements map 𝑑PE(𝑥,𝑦,𝑧) is estimated with an image registration process between the different PE acquisitions, regularized by the readout time 𝑇ro. Corresponds to 8.9.4 of BIDS.  \n",
    " - Translation: You have two EPI (functional images) in different phase encoding directions. Compare the two directions and see where it is different.\n",
    "2. Direct B0 mapping sequences: some sequences (such as SE) are able to measure the fieldmap Δ𝐵0(𝑥,𝑦,𝑧) directly. Corresponds to section 8.9.3 of BIDS. \n",
    " - Translation: Measure the field map directly with a higher order shim. (This is then applied to all your other images and you avoid having to re-shim before each EPI). FMRIPREP takes the image and then masks it with the magnitude image (thus why the skull strip is so important)\n",
    "\n",
    "3. Phase-difference B0 estimation: to estimate the fieldmap Δ𝐵0(𝑥,𝑦,𝑧), these methods measure the phase evolution in time between two close GRE acquisitions. Corresponds to the sections 8.9.1 and 8.9.2 of the BIDS specification.  \n",
    " - Translation: Take two back to back gradient echo sequences and compare the phase drift.  You find the GRE in the T2* images. More (and better) explanation here http://mriquestions.com/gradient-echo.html\n",
    "\n",
    "4. Fieldmap-less estimation (experimental): FMRIPREP now experimentally supports displacement field estimation in the absence of fieldmaps via nonlinear registration.  \n",
    " - This is honestly what blew me away with fMRIPREP. The experimental fieldmap estimation does an astonishingly good job. This is using FNIRT (non-linear estimation) to correct for articfacts. We will touch back on this in the registration topic\n",
    "\n",
    "5. Point-spread function acquisition: Not supported by FMRIPREP."
   ]
  },
  {
   "cell_type": "markdown",
   "metadata": {},
   "source": [
    "## Concept check: T2* That sounds familiar? .... What do we usually refer to as the T2*?"
   ]
  },
  {
   "cell_type": "markdown",
   "metadata": {},
   "source": [
    "# BOLD sequences are frequently refered to as T2*\n",
    "Though here are many T2* sequences and using a 180 degree pulse will eliminate dephasing levaing only the \"true\" T2 image\n",
    "Excellent paper on the topic: https://www.ncbi.nlm.nih.gov/pmc/articles/PMC2799958/"
   ]
  },
  {
   "cell_type": "markdown",
   "metadata": {},
   "source": [
    "## B0 correction in FSL Fugue and Prelude\n",
    "What you need (Siemens):\n",
    "- Phase image\n",
    "- Magnitude image (brain extracted - see note below)\n",
    "- Difference of Echo Times - this is a sequence parameter that your scanner operator/radiographer/technician should know, but make sure you record the value\n",
    "\n",
    "These are the typical field map images you generally generate. \n",
    "\n",
    "![FM_mag](https://github.com/grace-shearrer/fMRI_bootcamp2019/blob/weird/4dock/images/fieldmap_mag.png?raw=true)\n",
    "\n",
    "![FM_pd](https://github.com/grace-shearrer/fMRI_bootcamp2019/blob/weird/4dock/images/fieldmap_phase_difference.png?raw=true)\n"
   ]
  },
  {
   "cell_type": "markdown",
   "metadata": {},
   "source": [
    "Artefacts are compensated by  \n",
    "1. geometrically unwarping the EPI images, and  \n",
    "2. applying cost-function masking in registrations to ignore areas of signal loss  "
   ]
  },
  {
   "cell_type": "markdown",
   "metadata": {},
   "source": [
    "## Issues with fieldmaps\n",
    "- If it is a bad fieldmap it isn't going to help. Good to check if there are distortions in the fieldmap. \n",
    "- Sometimes it just isn't enough. You need good registation and motion correction"
   ]
  },
  {
   "cell_type": "markdown",
   "metadata": {},
   "source": [
    "## Slice timing correction\n",
    "We can't aquire all slices at once, but our model assumes they all are collected at once.  \n",
    "_All images from Jeannette Mumford's MRI class at UT Austin_ "
   ]
  },
  {
   "cell_type": "markdown",
   "metadata": {},
   "source": [
    "## Concept check: What is a TR?"
   ]
  },
  {
   "cell_type": "markdown",
   "metadata": {},
   "source": [
    "## TR= Repition time\n",
    "The time it takes to image the entire field of view (often the entire brain). How many slices can you get per TR? How do you know that one slice doesn't 'bleed' into the next?"
   ]
  },
  {
   "cell_type": "markdown",
   "metadata": {},
   "source": [
    "![tr_image](https://github.com/grace-shearrer/fMRI_bootcamp2019/blob/weird/4dock/images/slicetime.png?raw=true)"
   ]
  },
  {
   "cell_type": "markdown",
   "metadata": {},
   "source": [
    "![shift](https://github.com/grace-shearrer/fMRI_bootcamp2019/blob/weird/4dock/images/shift.png?raw=true)"
   ]
  },
  {
   "cell_type": "markdown",
   "metadata": {},
   "source": [
    "![interpolate](https://github.com/grace-shearrer/fMRI_bootcamp2019/blob/weird/4dock/images/interpolate.png?raw=true)"
   ]
  },
  {
   "cell_type": "markdown",
   "metadata": {},
   "source": [
    "## Issues with slice timing correction:\n",
    "- One bad point, is now spread across the data.  \n",
    "- Not great if you have a high motion task/population\n",
    "- Usually used for event related designs (but again think about the motion)"
   ]
  },
  {
   "cell_type": "markdown",
   "metadata": {},
   "source": [
    "## Skip slice time?\n",
    "This is a study specific choice point. If you are using a TR >= 2 with interleaved aquisition, you might not need it. Especially with a block design. \n",
    "Adding temporal derivatives is probably a better bet.  \n",
    "Want to really dive into slice timing check out this resource: http://mindhive.mit.edu/node/109"
   ]
  },
  {
   "cell_type": "markdown",
   "metadata": {},
   "source": [
    "## Motion correction"
   ]
  },
  {
   "cell_type": "markdown",
   "metadata": {},
   "source": [
    "### Types of motion \n",
    "Physiological motion  \n",
    "- breathing\n",
    "- cardiac\n",
    "\n",
    "Head motion  \n",
    "- prospective\n",
    "- retrospective   "
   ]
  },
  {
   "cell_type": "markdown",
   "metadata": {},
   "source": [
    "### Physiological motion\n",
    "Generally low frequency (< 0.01Hz) "
   ]
  },
  {
   "cell_type": "markdown",
   "metadata": {},
   "source": [
    "### Concept Check: What kind of scan can be most vulerable to physiological motion? "
   ]
  },
  {
   "cell_type": "markdown",
   "metadata": {},
   "source": [
    "## Resting state\n",
    "since we are often interest in lower frequency ranges (0.01 - 0.1 Hz). However, with BOLD there is the unfortunate problem of the cardiac and respiratory noise being correlated with BOLD response..."
   ]
  },
  {
   "cell_type": "markdown",
   "metadata": {},
   "source": [
    "Ways to correct on the front end:  \n",
    "- Breath hold\n",
    "- Respiratory/cardiac gating  \n",
    "- Measure pulse\n",
    "\n",
    "Ways to correct on the back end:\n",
    "- Temportal filtering\n",
    "- Regress motion parameters\n",
    "- CompCor (PCA, where the voxels with high variability are converted to a set of linearly uncorrelated values)  \n",
    "- ICA (tough to tell what is signal and noise)"
   ]
  },
  {
   "cell_type": "markdown",
   "metadata": {},
   "source": [
    "### Head motion  \n",
    "- prospective\n",
    "- retrospective "
   ]
  },
  {
   "cell_type": "markdown",
   "metadata": {},
   "source": [
    "#### Prospective\n",
    "Usually called something like PACE. \n",
    "_THIS IS STANDARD AT BRIC UNLESS YOU TELL THEM TO TURN IT OFF_   \n",
    "This will measure the motion and update the sequence. This sounds lovely until someone moves a lot, then you can lose data. This is getting better with improved tech. However, with PACE you cannot also get uncorrected images. For resting state PACE maybe more advantagous, however I (personal opinion) would rather have my raw task images.\n",
    "Good paper: https://www.sciencedirect.com/science/article/pii/S1053811916306218"
   ]
  },
  {
   "cell_type": "markdown",
   "metadata": {},
   "source": [
    "## Retrospective (MCFLIRT, DVARS, FD)\n",
    "Both FSL and fMRIPREP use MCFLIRT to estimate head motion and generate 6-parameters:\n",
    "- 3 rotations\n",
    "- 3 translations  \n",
    "\n",
    "In the fMRIPREP confounds file you will see the following:\n",
    "- trans_x \n",
    "- trans_y \n",
    "- trans_z \n",
    "- rot_x   \n",
    "- rot_y   \n",
    "- rot_z\n",
    "\n",
    "You can then create confound explanatory variables (EVs) from these and feed them into your model as EVs of no interest."
   ]
  },
  {
   "cell_type": "markdown",
   "metadata": {},
   "source": [
    "# MCFLIRT\n",
    "## Purpose  \n",
    "Align each voxel with subsequent voxels in the timeseries.  \n",
    "## How  \n",
    "Register each frame with 6 degrees of freedom to a reference image. \n",
    "## Output\n",
    "Plot of how much each frame needed to be adjusted to the reference image overtime. \n",
    "\n",
    "This section is from \"Single session analysis using FEAT!\" By David Field https://slideplayer.com/slide/3992261/"
   ]
  },
  {
   "cell_type": "markdown",
   "metadata": {},
   "source": [
    "## Concept check: What is the default reference image? "
   ]
  },
  {
   "cell_type": "markdown",
   "metadata": {},
   "source": [
    "## The median image in the timeseries\n",
    "What are some pros and cons?"
   ]
  },
  {
   "cell_type": "markdown",
   "metadata": {},
   "source": [
    "\n",
    "![rot](https://github.com/grace-shearrer/fMRI_bootcamp2019/blob/wildwest/4dock/images/rot.png?raw=true)\n"
   ]
  },
  {
   "cell_type": "markdown",
   "metadata": {},
   "source": [
    "![trans](https://github.com/grace-shearrer/fMRI_bootcamp2019/blob/wildwest/4dock/images/trans.png?raw=true)\n"
   ]
  },
  {
   "cell_type": "markdown",
   "metadata": {},
   "source": [
    "![total](https://github.com/grace-shearrer/fMRI_bootcamp2019/blob/wildwest/4dock/images/total_dis.png?raw=true)\n",
    "\n",
    "Relative displacement is head position at each time point relative to the previous time point. Absolute displacement is relative to the reference image.\n",
    "\n",
    "Why should you be particularly concerned about high values in the relative motion plot?\n",
    "\n",
    "The first thing to do is look at the range of values plotted on the y axis, because MCFLIRT auto-scales the y axis to the data range"
   ]
  },
  {
   "cell_type": "markdown",
   "metadata": {},
   "source": [
    "## What this looks like in fMRIPREP\n",
    "![mc_fp](https://fmriprep.readthedocs.io/en/stable/_images/sub-01_task-mixedgamblestask_run-01_bold_carpetplot.svg)"
   ]
  },
  {
   "cell_type": "markdown",
   "metadata": {},
   "source": [
    "Personally I find the carpet plot confusing but some people love it. I am sad that fMRIPREP doesn't produce the MCFLIRT plots. But wait you say! The data to create them is available!"
   ]
  },
  {
   "cell_type": "code",
   "execution_count": 2,
   "metadata": {},
   "outputs": [],
   "source": [
    "import matplotlib\n",
    "import matplotlib.pyplot as plt\n",
    "import pandas as pd\n",
    "import numpy as np"
   ]
  },
  {
   "cell_type": "code",
   "execution_count": 31,
   "metadata": {
    "scrolled": true
   },
   "outputs": [
    {
     "data": {
      "text/plain": [
       "Index(['CSF', 'WhiteMatter', 'GlobalSignal', 'stdDVARS', 'non-stdDVARS',\n",
       "       'vx-wisestdDVARS', 'FramewiseDisplacement', 'tCompCor00', 'tCompCor01',\n",
       "       'tCompCor02', 'tCompCor03', 'tCompCor04', 'tCompCor05', 'aCompCor00',\n",
       "       'aCompCor01', 'aCompCor02', 'aCompCor03', 'aCompCor04', 'aCompCor05',\n",
       "       'Cosine00', 'Cosine01', 'Cosine02', 'NonSteadyStateOutlier00', 'X', 'Y',\n",
       "       'Z', 'RotX', 'RotY', 'RotZ'],\n",
       "      dtype='object')"
      ]
     },
     "execution_count": 31,
     "metadata": {},
     "output_type": "execute_result"
    }
   ],
   "source": [
    "fp_df=pd.read_csv(os.path.join(basepath,'sub-001_ses-1_task-resting_bold_confounds.tsv'), sep='\\t')\n",
    "\n",
    "fp_df.columns"
   ]
  },
  {
   "cell_type": "code",
   "execution_count": 30,
   "metadata": {},
   "outputs": [
    {
     "data": {
      "image/png": "[encoded data removed]",
      "text/plain": [
       "<Figure size 432x288 with 2 Axes>"
      ]
     },
     "metadata": {
      "needs_background": "light"
     },
     "output_type": "display_data"
    }
   ],
   "source": [
    "x = np.array(fp_df.index)\n",
    "Xt = np.array(fp_df['X'])\n",
    "Yt = np.array(fp_df['Y'])\n",
    "Zt = np.array(fp_df['Z'])\n",
    "\n",
    "Xr = np.array(fp_df['RotX'])\n",
    "Yr = np.array(fp_df['RotY'])\n",
    "Zr = np.array(fp_df['RotZ'])\n",
    "\n",
    "plt.subplot(2, 1, 1)\n",
    "plt.plot(x, Xt, label='X translations')\n",
    "plt.plot(x, Yt, label='Y translations')\n",
    "plt.plot(x, Zt, label='Z translations')\n",
    "plt.title('MCFLIRT')\n",
    "plt.ylabel('Translations')\n",
    "plt.legend()\n",
    "\n",
    "plt.subplot(2, 1, 2)\n",
    "plt.plot(x, Xr, label='X rotations')\n",
    "plt.plot(x, Yr, label='Y rotations')\n",
    "plt.plot(x, Zr, label='Z rotations')\n",
    "plt.xlabel('TR')\n",
    "plt.ylabel('Rotations')\n",
    "plt.legend()\n",
    "plt.show()\n",
    "\n"
   ]
  },
  {
   "cell_type": "markdown",
   "metadata": {},
   "source": [
    "## What about the mean and relative displacement?\n",
    "https://www.jiscmail.ac.uk/cgi-bin/webadmin?A2=fsl;7495d5.05  \n",
    "rmsdiff, which calculates\n",
    "the average mm displacement between two transformations\n",
    "over a spherical, brain-sized region of interest.\n",
    "The absolute displacement compares the transformation\n",
    "matrix at timepoint N with that of the reference timepoint,\n",
    "while the relative displacement compares timepoints N and\n",
    "N+1.\n",
    "\n",
    "Usage: rmsdiff matrixfile1 matrixfile2 refvol [mask]\n",
    "        Outputs rms deviation between matrices (in mm)"
   ]
  },
  {
   "cell_type": "markdown",
   "metadata": {},
   "source": [
    "## Remember compcor? concept check: what is compcor?"
   ]
  },
  {
   "cell_type": "markdown",
   "metadata": {},
   "source": [
    "![compcor](https://fmriprep.readthedocs.io/en/stable/_images/sub-01_task-rest_compcor.svg)"
   ]
  },
  {
   "cell_type": "markdown",
   "metadata": {},
   "source": [
    "## Not using fMRIPREP? No problem\n",
    "You can just run mcflirt through a FEAT or the command line in FSL. "
   ]
  },
  {
   "cell_type": "markdown",
   "metadata": {},
   "source": [
    "## How much motion is bad?\n",
    "This is a pretty big question and unfortunately everyone has a different metric. \n",
    "Some research has found sample size is more important than thresholds\n",
    "![n_motion](https://github.com/grace-shearrer/fMRI_bootcamp2019/blob/weird/4dock/images/n_motion.png?raw=true)\n",
    "Others suggest http://mvpa.blogspot.com/2017/05/task-fmri-motion-censoring-scrubbing-2.html\n",
    "FD > 0.9 should be regressed out. \n",
    "\n",
    "But what about the 6 motion regressors, their derivatives? their squares? ALL OF IT\n",
    "![moreg](https://1.bp.blogspot.com/-Ro4tjkob9tA/WAFcfjHrRSI/AAAAAAAABDU/gucEDT-5qKAX-xQSD8eR2U8IVH23tzr2QCLcB/s1600/TENTs.jpg)\n",
    "Personal opinion = Mo Regressors Mo Problems. \n",
    "I stick with the 6 motion regressors and derivatives (12 df) and my fd regressor (lucky 13 df!)\n",
    "For resting state this is generally more strict and you may want the full 24 regressors.\n",
    "\n",
    "A lot of folks use a total displacement (mm) metric as well. I would look to the population you are studying and if you are doing resting vs. task. Generally you ca get away with 1-3mm in task, would keep it well below 1mm in resting."
   ]
  },
  {
   "cell_type": "markdown",
   "metadata": {},
   "source": [
    "## SO you ran MCFLIRT, the best way to assess the data?\n",
    "\n",
    "# Open in fsleyes and look at the difference!\n",
    "\n",
    "# Final note: You can only run motion correction once. If you do motion correction on top of motion correction you will start messing up the signal"
   ]
  },
  {
   "cell_type": "markdown",
   "metadata": {},
   "source": [
    "## Spatial smoothing"
   ]
  },
  {
   "cell_type": "markdown",
   "metadata": {},
   "source": [
    "## Why? \n",
    "- Data is spatially noisy! Everything is close to each other. Smoothing minimizes these small differences and improves signal to noise ratio\n",
    "- Also improves the anatomical registration (we smooth over little imperfections)\n",
    "- A silver lining is that this noise is essentially (and assumed to be) RANDOM\n",
    "- Therefore we can estimate a distribution and use it to smooth the image\n",
    "- We literally do this all the time on instagram"
   ]
  },
  {
   "cell_type": "markdown",
   "metadata": {},
   "source": [
    "## Whoa.... what are the drawbacks\n",
    "- If you are interested in an area of activation smaller than your smoothing parameter you are gonna be out of luck (looking at hypothalamus peeps)"
   ]
  },
  {
   "attachments": {
    "image.png": {
     "image/png": "[encoded data removed]"
    }
   },
   "cell_type": "markdown",
   "metadata": {},
   "source": [
    "![v](https://github.com/grace-shearrer/fMRI_bootcamp2019/blob/wildwest/4dock/images/voxels.png?raw=true)\n",
    "![v2](https://github.com/grace-shearrer/fMRI_bootcamp2019/blob/wildwest/4dock/images/voxels2.png?raw=true)\n",
    "- FSL asks you to specify a Gaussian smoothing kernel defined by its Full Width at Half Maximum (FWHM) in mm\n",
    "- To find the FWHM of a Gaussian\n",
    " -- Find the point on the y axis where the function attains half its maximum value\n",
    " -- Then read off the corresponding x axis values\n",
    "![image.png](attachment:image.png)\n",
    "\n",
    "![gau](https://github.com/grace-shearrer/fMRI_bootcamp2019/blob/wildwest/4dock/images/smoothmove.png?raw=true)"
   ]
  },
  {
   "cell_type": "markdown",
   "metadata": {
    "slideshow": {
     "slide_type": "fragment"
    }
   },
   "source": [
    "# Concept check: In the image above how big is the smoothing kernel?"
   ]
  },
  {
   "cell_type": "markdown",
   "metadata": {},
   "source": [
    "# How do I choose a smoothing parameter?\n",
    "Again this is field specific. But some rules of thumb I have seen:\n",
    "- Use the default in FSL\n",
    "- Less than the strength of your activation\n",
    " -- Have to have an a priori notition of activation strength. Good if you are replicating results\n",
    "- Voxel size * 2 "
   ]
  },
  {
   "cell_type": "code",
   "execution_count": null,
   "metadata": {},
   "outputs": [],
   "source": []
  }
 ],
 "metadata": {
  "kernelspec": {
   "display_name": "Python 3",
   "language": "python",
   "name": "python3"
  },
  "language_info": {
   "codemirror_mode": {
    "name": "ipython",
    "version": 3
   },
   "file_extension": ".py",
   "mimetype": "text/x-python",
   "name": "python",
   "nbconvert_exporter": "python",
   "pygments_lexer": "ipython3",
   "version": "3.6.8"
  }
 },
 "nbformat": 4,
 "nbformat_minor": 2
}
