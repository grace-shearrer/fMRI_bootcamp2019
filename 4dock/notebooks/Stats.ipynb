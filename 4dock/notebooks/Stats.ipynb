{
 "cells": [
  {
   "cell_type": "markdown",
   "metadata": {},
   "source": [
    "# 6. FILM (FMRIB's Improved Linear Model)\n",
    "How do they come up with these names???"
   ]
  },
  {
   "cell_type": "markdown",
   "metadata": {},
   "source": [
    "# FILM frustration\n",
    "FILM is easily the most confusing and least understood part of FEAT and fMRI analysis in general. According to the FSL website FILM is, \"a robust and accurate nonparametric estimation of time series autocorrelation to prewhiten each voxel's time series; this gives improved estimation efficiency compared with methods that do not pre-whiten.\" "
   ]
  },
  {
   "cell_type": "markdown",
   "metadata": {},
   "source": [
    "# Prewhiten? \n",
    "When we talk about noise in data (any data not just fMRI) we have 'coloured' and 'white' noises.  \n",
    "![noise](https://upload.wikimedia.org/wikipedia/commons/6/6c/The_Colors_of_Noise.png)\n",
    "_image from wikipedia_"
   ]
  },
  {
   "cell_type": "markdown",
   "metadata": {},
   "source": [
    "## White noise\n",
    "Is random signal with a flat power spectra. White noise is supposed to be discrete, serially uncorrelated, with a mean of 0 and finite variance. \n",
    "![whitenoise](https://upload.wikimedia.org/wikipedia/commons/thumb/c/c1/White_noise.svg/2560px-White_noise.svg.png)"
   ]
  },
  {
   "cell_type": "markdown",
   "metadata": {},
   "source": [
    "## Cool, cool... what?\n",
    "Scientist needed to classify different frequencies of noise so they decided to label them with the same names as similar light (color) frequencies. \n",
    "\n",
    "## Why do we care about this noise?\n",
    "We are taking measurements across time. Therefore, each timepoint is correlated to the other timepoints! Points closer to each other in time are more correlated to each other compared to points far away in time. \n",
    "### Thought experiment\n",
    "Think about the differences between a single person when they are a  2 y old child and a 10 y old child.... They are pretty different right? But now think about when that person is a 10 y old child and a 85 y old adult... Which are more similar? "
   ]
  },
  {
   "cell_type": "markdown",
   "metadata": {},
   "source": [
    "# Prewhiten, not just for laundry"
   ]
  },
  {
   "cell_type": "markdown",
   "metadata": {},
   "source": [
    "# 7. Stats overview"
   ]
  },
  {
   "cell_type": "markdown",
   "metadata": {},
   "source": [
    "# 8. First level stats\n",
    "## - Confounds\n",
    "## - Modeling\n"
   ]
  },
  {
   "cell_type": "code",
   "execution_count": null,
   "metadata": {},
   "outputs": [],
   "source": []
  }
 ],
 "metadata": {
  "kernelspec": {
   "display_name": "Python 3",
   "language": "python",
   "name": "python3"
  },
  "language_info": {
   "codemirror_mode": {
    "name": "ipython",
    "version": 3
   },
   "file_extension": ".py",
   "mimetype": "text/x-python",
   "name": "python",
   "nbconvert_exporter": "python",
   "pygments_lexer": "ipython3",
   "version": "3.6.5"
  }
 },
 "nbformat": 4,
 "nbformat_minor": 2
}
