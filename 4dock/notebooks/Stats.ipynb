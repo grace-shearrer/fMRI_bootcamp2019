{
 "cells": [
  {
   "cell_type": "markdown",
   "metadata": {
    "slideshow": {
     "slide_type": "slide"
    }
   },
   "source": [
    "# 6. Stats overview"
   ]
  },
  {
   "cell_type": "markdown",
   "metadata": {
    "slideshow": {
     "slide_type": "slide"
    }
   },
   "source": [
    "# Concept Check: What is the equation for a line?"
   ]
  },
  {
   "cell_type": "markdown",
   "metadata": {
    "slideshow": {
     "slide_type": "subslide"
    }
   },
   "source": [
    "# Y=mX+b\n",
    "## Y -> dependent variable\n",
    "## X -> independent variable\n",
    "## m -> slope (relationship between X and Y)\n",
    "## b -> Y intercept, where Y is 0 in a coordinate place (baseline)"
   ]
  },
  {
   "cell_type": "markdown",
   "metadata": {
    "slideshow": {
     "slide_type": "slide"
    }
   },
   "source": [
    "# ALL GLMs are based on this equation \n",
    "- Regression\n",
    "- ANOVA\n",
    "- rmANOVA\n",
    "- ANCOVA\n",
    "- Correlations\n",
    "- T Test"
   ]
  },
  {
   "cell_type": "markdown",
   "metadata": {
    "slideshow": {
     "slide_type": "slide"
    }
   },
   "source": [
    "# Easy enough I think I learned this in like 4th Grade\n",
    "\n",
    "## Hold Up: We are still talking about 4D data\n",
    "\n",
    "### Yi -> response at each voxel, the linear combination of one or more predictors\n",
    "### Xi  -> design matrix of predictors\n",
    "### $\\beta_i$   ->  Model parameters\n",
    "### $\\epsilon_i$   ->  random error between observations and the population\n",
    "\n",
    "# $Y_i = \\beta_0 + \\beta_1X_i + \\epsilon_i $"
   ]
  },
  {
   "cell_type": "markdown",
   "metadata": {
    "slideshow": {
     "slide_type": "slide"
    }
   },
   "source": [
    "# Concept Check: In the equation presented which is b and m?\n",
    "# $Y_i = \\beta_0 + \\beta_1X_i + \\epsilon_i $"
   ]
  },
  {
   "cell_type": "markdown",
   "metadata": {
    "slideshow": {
     "slide_type": "subslide"
    }
   },
   "source": [
    "- $Y_i$   What we observe for a single voxel for a single run for a single person RANDOM\n",
    "- $\\beta_0$   Y intercept, what is the value of Y_i at X=0\n",
    "- $\\beta_1$   This is our slope (m)\n",
    "- $X_i$   This is our independent variable (NOT RANDOM) it is our experiment  \n",
    "- $e_i $   Random error, how the observation deviates from the mean"
   ]
  },
  {
   "cell_type": "markdown",
   "metadata": {
    "slideshow": {
     "slide_type": "slide"
    }
   },
   "source": [
    "# Let's start with a non imaging example to get comfortable"
   ]
  },
  {
   "cell_type": "code",
   "execution_count": 2,
   "metadata": {
    "slideshow": {
     "slide_type": "subslide"
    }
   },
   "outputs": [
    {
     "name": "stderr",
     "output_type": "stream",
     "text": [
      "/Users/gracer/anaconda3/envs/py36/lib/python3.6/site-packages/ipykernel_launcher.py:12: SettingWithCopyWarning: \n",
      "A value is trying to be set on a copy of a slice from a DataFrame.\n",
      "Try using .loc[row_indexer,col_indexer] = value instead\n",
      "\n",
      "See the caveats in the documentation: http://pandas.pydata.org/pandas-docs/stable/indexing.html#indexing-view-versus-copy\n",
      "  if sys.path[0] == '':\n"
     ]
    },
    {
     "data": {
      "text/html": [
       "<table class=\"simpletable\">\n",
       "<caption>OLS Regression Results</caption>\n",
       "<tr>\n",
       "  <th>Dep. Variable:</th>         <td>murder</td>      <th>  R-squared:         </th> <td>   0.300</td>\n",
       "</tr>\n",
       "<tr>\n",
       "  <th>Model:</th>                   <td>OLS</td>       <th>  Adj. R-squared:    </th> <td>   0.271</td>\n",
       "</tr>\n",
       "<tr>\n",
       "  <th>Method:</th>             <td>Least Squares</td>  <th>  F-statistic:       </th> <td>   10.31</td>\n",
       "</tr>\n",
       "<tr>\n",
       "  <th>Date:</th>             <td>Thu, 17 Oct 2019</td> <th>  Prob (F-statistic):</th> <td>0.000189</td>\n",
       "</tr>\n",
       "<tr>\n",
       "  <th>Time:</th>                 <td>22:17:47</td>     <th>  Log-Likelihood:    </th> <td> -128.73</td>\n",
       "</tr>\n",
       "<tr>\n",
       "  <th>No. Observations:</th>      <td>    51</td>      <th>  AIC:               </th> <td>   263.5</td>\n",
       "</tr>\n",
       "<tr>\n",
       "  <th>Df Residuals:</th>          <td>    48</td>      <th>  BIC:               </th> <td>   269.2</td>\n",
       "</tr>\n",
       "<tr>\n",
       "  <th>Df Model:</th>              <td>     2</td>      <th>                     </th>     <td> </td>   \n",
       "</tr>\n",
       "<tr>\n",
       "  <th>Covariance Type:</th>      <td>nonrobust</td>    <th>                     </th>     <td> </td>   \n",
       "</tr>\n",
       "</table>\n",
       "<table class=\"simpletable\">\n",
       "<tr>\n",
       "      <td></td>        <th>coef</th>     <th>std err</th>      <th>t</th>      <th>P>|t|</th>  <th>[0.025</th>    <th>0.975]</th>  \n",
       "</tr>\n",
       "<tr>\n",
       "  <th>poverty</th>  <td>    0.5271</td> <td>    0.211</td> <td>    2.495</td> <td> 0.016</td> <td>    0.102</td> <td>    0.952</td>\n",
       "</tr>\n",
       "<tr>\n",
       "  <th>hs_grad</th>  <td>   -0.1339</td> <td>    0.195</td> <td>   -0.688</td> <td> 0.495</td> <td>   -0.525</td> <td>    0.257</td>\n",
       "</tr>\n",
       "<tr>\n",
       "  <th>constant</th> <td>    9.2268</td> <td>   19.182</td> <td>    0.481</td> <td> 0.633</td> <td>  -29.342</td> <td>   47.795</td>\n",
       "</tr>\n",
       "</table>\n",
       "<table class=\"simpletable\">\n",
       "<tr>\n",
       "  <th>Omnibus:</th>       <td>69.675</td> <th>  Durbin-Watson:     </th> <td>   2.099</td> \n",
       "</tr>\n",
       "<tr>\n",
       "  <th>Prob(Omnibus):</th> <td> 0.000</td> <th>  Jarque-Bera (JB):  </th> <td> 719.152</td> \n",
       "</tr>\n",
       "<tr>\n",
       "  <th>Skew:</th>          <td> 3.564</td> <th>  Prob(JB):          </th> <td>6.89e-157</td>\n",
       "</tr>\n",
       "<tr>\n",
       "  <th>Kurtosis:</th>      <td>19.960</td> <th>  Cond. No.          </th> <td>3.87e+03</td> \n",
       "</tr>\n",
       "</table><br/><br/>Warnings:<br/>[1] Standard Errors assume that the covariance matrix of the errors is correctly specified.<br/>[2] The condition number is large, 3.87e+03. This might indicate that there are<br/>strong multicollinearity or other numerical problems."
      ],
      "text/plain": [
       "<class 'statsmodels.iolib.summary.Summary'>\n",
       "\"\"\"\n",
       "                            OLS Regression Results                            \n",
       "==============================================================================\n",
       "Dep. Variable:                 murder   R-squared:                       0.300\n",
       "Model:                            OLS   Adj. R-squared:                  0.271\n",
       "Method:                 Least Squares   F-statistic:                     10.31\n",
       "Date:                Thu, 17 Oct 2019   Prob (F-statistic):           0.000189\n",
       "Time:                        22:17:47   Log-Likelihood:                -128.73\n",
       "No. Observations:                  51   AIC:                             263.5\n",
       "Df Residuals:                      48   BIC:                             269.2\n",
       "Df Model:                           2                                         \n",
       "Covariance Type:            nonrobust                                         \n",
       "==============================================================================\n",
       "                 coef    std err          t      P>|t|      [0.025      0.975]\n",
       "------------------------------------------------------------------------------\n",
       "poverty        0.5271      0.211      2.495      0.016       0.102       0.952\n",
       "hs_grad       -0.1339      0.195     -0.688      0.495      -0.525       0.257\n",
       "constant       9.2268     19.182      0.481      0.633     -29.342      47.795\n",
       "==============================================================================\n",
       "Omnibus:                       69.675   Durbin-Watson:                   2.099\n",
       "Prob(Omnibus):                  0.000   Jarque-Bera (JB):              719.152\n",
       "Skew:                           3.564   Prob(JB):                    6.89e-157\n",
       "Kurtosis:                      19.960   Cond. No.                     3.87e+03\n",
       "==============================================================================\n",
       "\n",
       "Warnings:\n",
       "[1] Standard Errors assume that the covariance matrix of the errors is correctly specified.\n",
       "[2] The condition number is large, 3.87e+03. This might indicate that there are\n",
       "strong multicollinearity or other numerical problems.\n",
       "\"\"\""
      ]
     },
     "execution_count": 2,
     "metadata": {},
     "output_type": "execute_result"
    }
   ],
   "source": [
    "import pandas as pd  \n",
    "import numpy as np  \n",
    "import matplotlib.pyplot as plt  \n",
    "import seaborn as seabornInstance \n",
    "import statsmodels.api as sm\n",
    "%matplotlib inline\n",
    "from sklearn import datasets ## imports datasets from scikit-learn\n",
    "data = sm.datasets.statecrime.load_pandas().data\n",
    "murder = data['murder']\n",
    "X = data[['poverty', 'hs_grad']]\n",
    "\n",
    "X[\"constant\"] = 1\n",
    "y = murder\n",
    "model = sm.OLS(y, X)\n",
    "results = model.fit()\n",
    "predictions = results.predict(X)\n",
    "\n",
    "# Print out the statistics\n",
    "results.summary()"
   ]
  },
  {
   "cell_type": "markdown",
   "metadata": {
    "slideshow": {
     "slide_type": "slide"
    }
   },
   "source": [
    "# Concept check: Which is which?\n",
    "- ## $Y_i$ \n",
    "- ## $\\beta_0$ \n",
    "- ## $\\beta_1$ \n",
    "- ## $\\beta_2$\n",
    "- ## $X_1$\n",
    "- ## $X_2$"
   ]
  },
  {
   "cell_type": "markdown",
   "metadata": {
    "slideshow": {
     "slide_type": "subslide"
    }
   },
   "source": [
    "- ## $Y_i$    -> murder\n",
    "- ## $\\beta_0$   -> 9.2268\t\n",
    "- ## $\\beta_1$   -> -0.1339\n",
    "- ## $\\beta_2$   -> 0.5271\n",
    "- ## $X_1$   -> poverty\n",
    "- ## $X_2$   -> hs_grad"
   ]
  },
  {
   "cell_type": "code",
   "execution_count": 3,
   "metadata": {
    "scrolled": true,
    "slideshow": {
     "slide_type": "slide"
    }
   },
   "outputs": [
    {
     "data": {
      "text/plain": [
       "Text(0.5, 1.0, 'Linear Regression of Poverty related to murder controlling for education (high school)')"
      ]
     },
     "execution_count": 3,
     "metadata": {},
     "output_type": "execute_result"
    },
    {
     "data": {
      "image/png": "[encoded data removed]",
      "text/plain": [
       "<Figure size 432x288 with 1 Axes>"
      ]
     },
     "metadata": {
      "needs_background": "light"
     },
     "output_type": "display_data"
    }
   ],
   "source": [
    "fig, ax = plt.subplots()\n",
    "fig = sm.graphics.plot_fit(results, 0, ax=ax)\n",
    "ax.set_ylabel(\"murder\")\n",
    "ax.set_xlabel(\"Poverty\")\n",
    "ax.set_title(\"Linear Regression of Poverty related to murder controlling for education (high school)\")\n",
    "# The plot_fit function plots the fitted values versus a chosen independent variable. It includes prediction confidence intervals and optionally plots the true dependent variable."
   ]
  },
  {
   "cell_type": "markdown",
   "metadata": {
    "slideshow": {
     "slide_type": "subslide"
    }
   },
   "source": [
    "# Wait what about $\\epsilon_i $   ???"
   ]
  },
  {
   "cell_type": "markdown",
   "metadata": {
    "slideshow": {
     "slide_type": "subslide"
    }
   },
   "source": [
    "# $\\epsilon_i $   is the error between our observation and the _true_ (unknowable) population value\n",
    "\n",
    "Great! So if this is essentially unknowable what are we doing here?\n",
    "\n",
    "# We can at least measure the error of our fitted values (modeled) and the observed values (data points) aka RESIDUALS\n",
    "\n",
    "## So our data points are from a sample which we assume is from the population of interest.\n",
    "## We also assume our sample is represenatative of the population of interest."
   ]
  },
  {
   "cell_type": "markdown",
   "metadata": {
    "slideshow": {
     "slide_type": "subslide"
    }
   },
   "source": [
    "# Concept Check: What is an example in which a sample is not representative of the population?"
   ]
  },
  {
   "cell_type": "markdown",
   "metadata": {
    "slideshow": {
     "slide_type": "subslide"
    }
   },
   "source": [
    "## There are probably thousands of examples. One off the top of my head would be measuring PMS symptoms in college aged men. \n",
    "\n",
    "This is a real problem though! Think about marginalized groups in research. If we don't equally and randomly sample them then our model is not representative of them, and our conclusions may be invalid."
   ]
  },
  {
   "cell_type": "markdown",
   "metadata": {
    "slideshow": {
     "slide_type": "slide"
    }
   },
   "source": [
    "# Residuals and sample size\n",
    "\n",
    "So we can never know the true value of the population. Unfortunate. BUT! As our sample size gets bigger we are closer to the true population value! Therefore, if our sample size is large enough our residuals will be more representative of $e_i$"
   ]
  },
  {
   "cell_type": "code",
   "execution_count": 4,
   "metadata": {
    "scrolled": true,
    "slideshow": {
     "slide_type": "subslide"
    }
   },
   "outputs": [
    {
     "data": {
      "image/png": "[encoded data removed]",
      "text/plain": [
       "<Figure size 864x576 with 1 Axes>"
      ]
     },
     "metadata": {
      "needs_background": "light"
     },
     "output_type": "display_data"
    }
   ],
   "source": [
    "# Influence plots show the (externally) studentized residuals vs. the leverage of each observation as measured by the hat matrix.\n",
    "fig, ax = plt.subplots(figsize=(12,8))\n",
    "fig = sm.graphics.influence_plot(results, ax=ax, criterion=\"cooks\")"
   ]
  },
  {
   "cell_type": "markdown",
   "metadata": {
    "slideshow": {
     "slide_type": "slide"
    }
   },
   "source": [
    "# Concept check: Looking at the above graph: How good is our model (the effect of poverty and high school education) at predicting the murder rate in DC?"
   ]
  },
  {
   "cell_type": "markdown",
   "metadata": {
    "slideshow": {
     "slide_type": "subslide"
    }
   },
   "source": [
    "# Not great... compared to the other data points. In fact, it is influencing the overall model. We should probably model DC seperately "
   ]
  },
  {
   "cell_type": "code",
   "execution_count": 39,
   "metadata": {
    "slideshow": {
     "slide_type": "notes"
    }
   },
   "outputs": [
    {
     "data": {
      "text/plain": [
       "array([-0.36111661,  1.46445599, -1.15286553, -1.80622646, -0.5223856 ,\n",
       "       -0.8724741 ,  0.67877653,  1.38015334, 16.93380001, -0.16220289,\n",
       "       -0.69302559, -0.80739383, -3.43093724,  3.72845975,  0.07538936,\n",
       "       -2.03199012,  0.41750729, -3.79450712,  4.95769621, -1.63571552,\n",
       "        5.483369  , -0.04209436,  0.30058102, -1.27641872, -3.10806531,\n",
       "        1.29673659, -1.83136135, -1.18926226,  1.36821025, -0.58536535,\n",
       "        1.21813631,  2.36902484, -1.37353151, -1.13405271, -1.33282379,\n",
       "       -0.51244834,  0.19268726, -2.53723044,  1.35096458, -0.95027864,\n",
       "       -0.34946406, -1.07742389,  0.28360251, -2.19748448, -1.7872376 ,\n",
       "       -1.75420442,  1.53119907, -0.90264895, -2.57283596, -1.14197533,\n",
       "       -0.10370183])"
      ]
     },
     "execution_count": 39,
     "metadata": {},
     "output_type": "execute_result"
    }
   ],
   "source": [
    "sm.regression.linear_model.RegressionResults.resid(results)"
   ]
  },
  {
   "cell_type": "markdown",
   "metadata": {
    "slideshow": {
     "slide_type": "slide"
    }
   },
   "source": [
    "# Fixed effects or Random effects\n",
    "## AKA. Hipsters on fixed gears Vs. Manic Pixie Dream Girls\n",
    "\n",
    "# $Y_i = \\beta_0 + \\beta_1X_i + \\epsilon_i $"
   ]
  },
  {
   "cell_type": "markdown",
   "metadata": {
    "slideshow": {
     "slide_type": "subslide"
    }
   },
   "source": [
    "## RANDOM: $ \\epsilon_i $\n",
    "\n",
    "Like many manic pixie dream girls, we can make some assumptions about $ e_i $  \n",
    "- It has an population mean of 0 (normally distrubuted; aka secretly a normie) \n",
    "- The variance (what makes it so manic) is actually the same as the population variance $ \\sigma^2 $\n",
    "- The covariance of the error is 0 (there is no relationship between the manic pixie dream girls, they just happen to be very similar)\n",
    "\n",
    "![mpdg](https://www.worshipthefandom.com/images/fc_thecoolgirl/image1.jpg)"
   ]
  },
  {
   "cell_type": "markdown",
   "metadata": {
    "slideshow": {
     "slide_type": "subslide"
    }
   },
   "source": [
    "## FIXED: $ \\beta_0 + \\beta_1X_i$\n",
    "- ## Mean of  $Y_i $   and some error term $e_i$   (not the same as $\\epsilon$  )\n",
    "\n",
    "### $e_i=Y_i-(\\hat{\\beta}_0+\\hat{\\beta_1}X_i)$\n",
    "- The hat = estimated  \n",
    "\n",
    "### AKA:  fixie hipster is wearing a silly hat\n",
    "![hat](https://mir-s3-cdn-cf.behance.net/project_modules/max_1200/225ee422480663.563135483ddbd.jpg)"
   ]
  },
  {
   "cell_type": "markdown",
   "metadata": {
    "slideshow": {
     "slide_type": "slide"
    }
   },
   "source": [
    "# Concept check: What is another name for $e_i$   that we have used earlier? "
   ]
  },
  {
   "cell_type": "markdown",
   "metadata": {
    "slideshow": {
     "slide_type": "subslide"
    }
   },
   "source": [
    "# Residuals"
   ]
  },
  {
   "cell_type": "markdown",
   "metadata": {
    "slideshow": {
     "slide_type": "slide"
    }
   },
   "source": [
    "# Ah! So $e_i$   = residuals! And so we can make assumptions about the fixed gear hipster error term too!\n",
    "## These are for Ordinary Least Squared residuals (there are many ways to model the residual, but this is probably most common)\n",
    "## Assumptions\n",
    "- Mean is 0 (normally distributed, aka. also secretely a normie)\n",
    "- Not correlated (none of these hipsters is related to anyother and they are operating independently aka. no tandem bikes)\n",
    "- Variance is the same (yeah they all seem weird and unique, but they are just as weird and unique as the population... psh posers) "
   ]
  },
  {
   "cell_type": "markdown",
   "metadata": {
    "slideshow": {
     "slide_type": "slide"
    }
   },
   "source": [
    "# Variance $\\sigma^s$\n",
    "## Can we know just how unique all the fixie hipster are??\n",
    "\n",
    "## Sum Squared Error = $\\sum_{} (Y_i-\\hat{Y}_i)^2= \\sum{}e_i^2$\n",
    "- Add up all the residuals and square them\n",
    "- Measure of the difference between the model we made and the data\n",
    "\n",
    "## Divide by degrees of freedom to get $\\sigma^s$\n",
    "### $\\sigma^s = \\frac{\\sum_{} (Y_i-\\hat{Y}_i)^2= \\sum{}e_i^2}{N-2}$\n",
    "- Where N is the sample size\n",
    "- 2 is the number of parameters in the model"
   ]
  },
  {
   "cell_type": "markdown",
   "metadata": {
    "slideshow": {
     "slide_type": "slide"
    }
   },
   "source": [
    "# Degrees of Freedom\n",
    "## FREEDOM ISN'T FREE! \n",
    "### It depends on your sample size and how many parameters you want to model\n",
    "\n",
    "The bigger the N the better!   \n",
    "If you have a small N keep the model parameter estimates small"
   ]
  },
  {
   "cell_type": "markdown",
   "metadata": {
    "slideshow": {
     "slide_type": "slide"
    }
   },
   "source": [
    "# Parameter estimates (the meaty bits)\n",
    "# $Y_i = \\hat{\\beta}_0 + \\hat{\\beta}_1X_i + \\epsilon_i $"
   ]
  },
  {
   "cell_type": "markdown",
   "metadata": {
    "slideshow": {
     "slide_type": "slide"
    }
   },
   "source": [
    "# Concept Check: What does the hat mean?"
   ]
  },
  {
   "cell_type": "markdown",
   "metadata": {
    "slideshow": {
     "slide_type": "subslide"
    }
   },
   "source": [
    "# This is an estimate! "
   ]
  },
  {
   "cell_type": "markdown",
   "metadata": {
    "slideshow": {
     "slide_type": "slide"
    }
   },
   "source": [
    "![matrix](https://cdn.onebauer.media/one/empire-images/articles/5cd5741b133d503e3a49a5c9/matrix-reloaded.jpg?quality=50&width=1800&ratio=16-9&resizeStyle=aspectfill&format=jpg)"
   ]
  },
  {
   "cell_type": "markdown",
   "metadata": {
    "slideshow": {
     "slide_type": "subslide"
    }
   },
   "source": [
    "# Matrix Alegbra\n",
    "MAT is a matrix, specifically a 4x5\n",
    "\n",
    "MAT = [ ${x_i}_j$ ]\n",
    "\n",
    "i= rows\n",
    "j= columns"
   ]
  },
  {
   "cell_type": "code",
   "execution_count": 5,
   "metadata": {
    "slideshow": {
     "slide_type": "slide"
    }
   },
   "outputs": [
    {
     "name": "stdout",
     "output_type": "stream",
     "text": [
      "[[0.06987469 0.1188623  0.11817107 0.28786045 0.21742363]\n",
      " [0.06325665 0.21144086 0.75652142 0.44501731 0.5390645 ]\n",
      " [0.85020108 0.66018293 0.66564518 0.17337818 0.81600448]\n",
      " [0.7877584  0.66992699 0.6847886  0.77378005 0.47868699]]\n",
      "(4, 5)\n"
     ]
    }
   ],
   "source": [
    "import numpy as np\n",
    "MAT = np.random.rand(4,5)\n",
    "print(MAT)\n",
    "print(MAT.shape)"
   ]
  },
  {
   "cell_type": "markdown",
   "metadata": {
    "slideshow": {
     "slide_type": "slide"
    }
   },
   "source": [
    "# Square Matrix\n",
    "rows = columns"
   ]
  },
  {
   "cell_type": "code",
   "execution_count": 6,
   "metadata": {
    "slideshow": {
     "slide_type": "subslide"
    }
   },
   "outputs": [
    {
     "name": "stdout",
     "output_type": "stream",
     "text": [
      "[[0.71381486 0.12882007 0.81432603 0.96788532 0.4072345 ]\n",
      " [0.485592   0.58742811 0.39911639 0.71194099 0.06693899]\n",
      " [0.86982159 0.65001588 0.93894149 0.82477753 0.12404943]\n",
      " [0.25509975 0.8587652  0.1707235  0.609563   0.7605714 ]\n",
      " [0.79226535 0.15451447 0.46639307 0.03589523 0.81990279]]\n",
      "(5, 5)\n"
     ]
    }
   ],
   "source": [
    "MATsq = np.random.rand(5,5)\n",
    "print(MATsq)\n",
    "print(MATsq.shape)"
   ]
  },
  {
   "cell_type": "markdown",
   "metadata": {
    "slideshow": {
     "slide_type": "slide"
    }
   },
   "source": [
    "# Vector is a column or a row"
   ]
  },
  {
   "cell_type": "code",
   "execution_count": 7,
   "metadata": {
    "slideshow": {
     "slide_type": "subslide"
    }
   },
   "outputs": [
    {
     "name": "stdout",
     "output_type": "stream",
     "text": [
      "[0.86982159 0.65001588 0.93894149 0.82477753 0.12404943]\n",
      "[0.81432603 0.39911639 0.93894149 0.1707235  0.46639307]\n"
     ]
    }
   ],
   "source": [
    "V3i=MATsq[2]\n",
    "print(V3i) #this is the 3rd row, weird python thing it starts counting at 0\n",
    "Vi3=MATsq[:,2]\n",
    "print(Vi3) #this is the 3rd column, the : just means all rows"
   ]
  },
  {
   "cell_type": "markdown",
   "metadata": {
    "slideshow": {
     "slide_type": "slide"
    }
   },
   "source": [
    "# Special Matrices\n",
    "\n",
    "## Diagonal\n",
    "## Identity "
   ]
  },
  {
   "cell_type": "markdown",
   "metadata": {
    "slideshow": {
     "slide_type": "subslide"
    }
   },
   "source": [
    "# Special Matrices\n",
    "\n",
    "## Diagonal\n",
    "- All entries off the diagonal are 0\n",
    "- All identity matrices are diagonal, not all diagonal are identity matrices though\n",
    "- These matrices are important when calculating eigenvalues\n",
    "- These also are important for linear transformations in two-dimensional space\n",
    "\n",
    "## Reflection on the X axis\n",
    "![ref](https://github.com/grace-shearrer/fMRI_bootcamp2019/blob/wildwest/4dock/images/reflectionX.png?raw=true)\n",
    "\n",
    "## Rotation 90 degrees\n",
    "![rot90](https://github.com/grace-shearrer/fMRI_bootcamp2019/blob/wildwest/4dock/images/rotation90.png?raw=true)\n",
    "\n",
    "## Scaling by 2\n",
    "![scale](https://github.com/grace-shearrer/fMRI_bootcamp2019/blob/wildwest/4dock/images/scaling.png?raw=true)\n",
    "\n",
    "_images from wikipedia https://en.wikipedia.org/wiki/Linear_map_"
   ]
  },
  {
   "cell_type": "markdown",
   "metadata": {
    "slideshow": {
     "slide_type": "subslide"
    }
   },
   "source": [
    "# Special Matrices\n",
    "\n",
    "## Diagonal\n",
    "## Identity \n",
    "   - Only has 1s on the diagonal and 0 everywhere else\n",
    "   - If an identity matrix is the product of two square matrices, the matrices are inverse of one another\n",
    "   - When A is m×n, it is a property of matrix multiplication that:\n",
    "   $I_mA = AI_n =A$"
   ]
  },
  {
   "cell_type": "code",
   "execution_count": 8,
   "metadata": {
    "slideshow": {
     "slide_type": "subslide"
    }
   },
   "outputs": [
    {
     "name": "stdout",
     "output_type": "stream",
     "text": [
      "this is our non-diagonal matrix\n",
      "[[ 0  1  2  3  4]\n",
      " [ 5  6  7  8  9]\n",
      " [10 11 12 13 14]\n",
      " [15 16 17 18 19]\n",
      " [20 21 22 23 24]]\n",
      "this is our diagonal matrix\n",
      "[[ 0  0  0  0  0]\n",
      " [ 0  6  0  0  0]\n",
      " [ 0  0 12  0  0]\n",
      " [ 0  0  0 18  0]\n",
      " [ 0  0  0  0 24]]\n"
     ]
    }
   ],
   "source": [
    "# Diagonal\n",
    "x = np.arange(25).reshape((5,5))\n",
    "print('this is our non-diagonal matrix')\n",
    "print(x)\n",
    "print('this is our diagonal matrix')\n",
    "print(np.diag(np.diag(x)))\n"
   ]
  },
  {
   "cell_type": "code",
   "execution_count": 9,
   "metadata": {
    "slideshow": {
     "slide_type": "subslide"
    }
   },
   "outputs": [
    {
     "data": {
      "text/plain": [
       "array([[1., 0., 0., 0., 0.],\n",
       "       [0., 1., 0., 0., 0.],\n",
       "       [0., 0., 1., 0., 0.],\n",
       "       [0., 0., 0., 1., 0.],\n",
       "       [0., 0., 0., 0., 1.]])"
      ]
     },
     "execution_count": 9,
     "metadata": {},
     "output_type": "execute_result"
    }
   ],
   "source": [
    "# Identity matrix\n",
    "np.identity(5)"
   ]
  },
  {
   "cell_type": "markdown",
   "metadata": {
    "slideshow": {
     "slide_type": "slide"
    }
   },
   "source": [
    "# Matrix Multiplication AxB\n",
    "## Columns in matrix A must be equal to the number of rows in B"
   ]
  },
  {
   "cell_type": "markdown",
   "metadata": {
    "slideshow": {
     "slide_type": "slide"
    }
   },
   "source": [
    "# Concept check: I have a matrix Z [5x8] and matrix Q [5x5]. Can I multiply these?"
   ]
  },
  {
   "cell_type": "markdown",
   "metadata": {
    "slideshow": {
     "slide_type": "subslide"
    }
   },
   "source": [
    "# NO\n",
    "\n",
    "Z rows = 5\n",
    "## Z columns = 8\n",
    "\n",
    "## Q rows = 5\n",
    "Q columns = 5"
   ]
  },
  {
   "cell_type": "code",
   "execution_count": 25,
   "metadata": {
    "slideshow": {
     "slide_type": "subslide"
    }
   },
   "outputs": [
    {
     "name": "stdout",
     "output_type": "stream",
     "text": [
      "[[ 0  1  2  3  4  5  6  7]\n",
      " [ 8  9 10 11 12 13 14 15]\n",
      " [16 17 18 19 20 21 22 23]\n",
      " [24 25 26 27 28 29 30 31]\n",
      " [32 33 34 35 36 37 38 39]]\n",
      "\n",
      "\n",
      "[[ 0  1  2  3  4]\n",
      " [ 5  6  7  8  9]\n",
      " [10 11 12 13 14]\n",
      " [15 16 17 18 19]\n",
      " [20 21 22 23 24]]\n"
     ]
    }
   ],
   "source": [
    "Z = np.arange(40).reshape((5,8))\n",
    "print(Z)\n",
    "print('\\n')\n",
    "Q = np.arange(25).reshape((5,5))\n",
    "print(Q)"
   ]
  },
  {
   "cell_type": "code",
   "execution_count": 30,
   "metadata": {
    "slideshow": {
     "slide_type": "subslide"
    }
   },
   "outputs": [
    {
     "ename": "ValueError",
     "evalue": "shapes (5,8) and (5,5) not aligned: 8 (dim 1) != 5 (dim 0)",
     "output_type": "error",
     "traceback": [
      "\u001b[0;31m---------------------------------------------------------------------------\u001b[0m",
      "\u001b[0;31mValueError\u001b[0m                                Traceback (most recent call last)",
      "\u001b[0;32m<ipython-input-30-d09b15b40e54>\u001b[0m in \u001b[0;36m<module>\u001b[0;34m()\u001b[0m\n\u001b[0;32m----> 1\u001b[0;31m \u001b[0mGb\u001b[0m \u001b[0;34m=\u001b[0m \u001b[0mnp\u001b[0m\u001b[0;34m.\u001b[0m\u001b[0mmatmul\u001b[0m\u001b[0;34m(\u001b[0m\u001b[0mZ\u001b[0m\u001b[0;34m,\u001b[0m\u001b[0mQ\u001b[0m\u001b[0;34m)\u001b[0m \u001b[0;31m# Error!\u001b[0m\u001b[0;34m\u001b[0m\u001b[0m\n\u001b[0m",
      "\u001b[0;31mValueError\u001b[0m: shapes (5,8) and (5,5) not aligned: 8 (dim 1) != 5 (dim 0)"
     ]
    }
   ],
   "source": [
    "Gb = np.matmul(Z,Q)"
   ]
  },
  {
   "cell_type": "code",
   "execution_count": 31,
   "metadata": {
    "slideshow": {
     "slide_type": "subslide"
    }
   },
   "outputs": [
    {
     "data": {
      "text/plain": [
       "array([[ 240,  250,  260,  270,  280,  290,  300,  310],\n",
       "       [ 640,  675,  710,  745,  780,  815,  850,  885],\n",
       "       [1040, 1100, 1160, 1220, 1280, 1340, 1400, 1460],\n",
       "       [1440, 1525, 1610, 1695, 1780, 1865, 1950, 2035],\n",
       "       [1840, 1950, 2060, 2170, 2280, 2390, 2500, 2610]])"
      ]
     },
     "execution_count": 31,
     "metadata": {},
     "output_type": "execute_result"
    }
   ],
   "source": [
    "Gg = np.matmul(Q,Z)\n",
    "Gg"
   ]
  },
  {
   "cell_type": "code",
   "execution_count": 44,
   "metadata": {
    "slideshow": {
     "slide_type": "subslide"
    }
   },
   "outputs": [
    {
     "name": "stdout",
     "output_type": "stream",
     "text": [
      "[[0 1 2]\n",
      " [3 4 5]]\n",
      "\n",
      "\n",
      "[[0 1 2]\n",
      " [3 4 5]\n",
      " [6 7 8]]\n",
      "\n",
      "\n",
      "[[15 18 21]\n",
      " [42 54 66]]\n"
     ]
    }
   ],
   "source": [
    "A=np.arange(6).reshape((2,3))\n",
    "print(A)\n",
    "print('\\n')\n",
    "B=np.arange(9).reshape((3,3))\n",
    "print(B)\n",
    "print('\\n')\n",
    "C = np.matmul(A,B)\n",
    "print(C)"
   ]
  },
  {
   "cell_type": "markdown",
   "metadata": {
    "slideshow": {
     "slide_type": "slide"
    }
   },
   "source": [
    "# Concept Check: How many rows and columns will be in matrix C after we multiple AxB\n",
    "\n",
    "| Matrix | Rows| Columns|\n",
    "| -------|-----| -------|\n",
    "| A      | 2   |   3    |\n",
    "| B      | 3   |   3    |\n",
    "| C      |     |        |"
   ]
  },
  {
   "cell_type": "markdown",
   "metadata": {
    "slideshow": {
     "slide_type": "subslide"
    }
   },
   "source": [
    "| Matrix | Rows | Columns|\n",
    "| -------|----- | -------|\n",
    "| A      | 2    | ~~3~~  |\n",
    "| B      | ~~3~~|   3    |\n",
    "| C      |      |        |"
   ]
  },
  {
   "cell_type": "markdown",
   "metadata": {
    "slideshow": {
     "slide_type": "subslide"
    }
   },
   "source": [
    "| Matrix | Rows | Columns|\n",
    "| -------|----- | -------|\n",
    "| A      | 2    | ~~3~~  |\n",
    "| B      | ~~3~~|   3    |\n",
    "| C      |   2  |   3    |"
   ]
  },
  {
   "cell_type": "code",
   "execution_count": 10,
   "metadata": {
    "slideshow": {
     "slide_type": "slide"
    }
   },
   "outputs": [
    {
     "ename": "NameError",
     "evalue": "name 'A' is not defined",
     "output_type": "error",
     "traceback": [
      "\u001b[0;31m---------------------------------------------------------------------------\u001b[0m",
      "\u001b[0;31mNameError\u001b[0m                                 Traceback (most recent call last)",
      "\u001b[0;32m<ipython-input-10-4624d8bc1f99>\u001b[0m in \u001b[0;36m<module>\u001b[0;34m()\u001b[0m\n\u001b[0;32m----> 1\u001b[0;31m \u001b[0mC\u001b[0m \u001b[0;34m=\u001b[0m \u001b[0mnp\u001b[0m\u001b[0;34m.\u001b[0m\u001b[0mmatmul\u001b[0m\u001b[0;34m(\u001b[0m\u001b[0mA\u001b[0m\u001b[0;34m,\u001b[0m\u001b[0mB\u001b[0m\u001b[0;34m)\u001b[0m\u001b[0;34m\u001b[0m\u001b[0;34m\u001b[0m\u001b[0m\n\u001b[0m\u001b[1;32m      2\u001b[0m \u001b[0mA0j\u001b[0m\u001b[0;34m=\u001b[0m\u001b[0mA\u001b[0m\u001b[0;34m[\u001b[0m\u001b[0;36m0\u001b[0m\u001b[0;34m]\u001b[0m\u001b[0;34m\u001b[0m\u001b[0;34m\u001b[0m\u001b[0m\n\u001b[1;32m      3\u001b[0m \u001b[0mprint\u001b[0m\u001b[0;34m(\u001b[0m\u001b[0mA0j\u001b[0m\u001b[0;34m)\u001b[0m \u001b[0;31m#first row\u001b[0m\u001b[0;34m\u001b[0m\u001b[0;34m\u001b[0m\u001b[0m\n\u001b[1;32m      4\u001b[0m \u001b[0mBi0\u001b[0m\u001b[0;34m=\u001b[0m\u001b[0mB\u001b[0m\u001b[0;34m[\u001b[0m\u001b[0;34m:\u001b[0m\u001b[0;34m,\u001b[0m\u001b[0;36m0\u001b[0m\u001b[0;34m]\u001b[0m\u001b[0;34m\u001b[0m\u001b[0;34m\u001b[0m\u001b[0m\n\u001b[1;32m      5\u001b[0m \u001b[0mprint\u001b[0m\u001b[0;34m(\u001b[0m\u001b[0mBi0\u001b[0m\u001b[0;34m)\u001b[0m \u001b[0;31m#first column\u001b[0m\u001b[0;34m\u001b[0m\u001b[0;34m\u001b[0m\u001b[0m\n",
      "\u001b[0;31mNameError\u001b[0m: name 'A' is not defined"
     ]
    }
   ],
   "source": [
    "C = np.matmul(A,B)\n",
    "A0j=A[0]\n",
    "print(A0j) #first row\n",
    "Bi0=B[:,0]\n",
    "print(Bi0) #first column\n",
    "\n",
    "\n",
    "A00=A[0][0]\n",
    "print(A00)\n",
    "B00=B[0,0]\n",
    "print(B00)\n",
    "print('\\n')\n",
    "\n",
    "A01=A[0][1]\n",
    "print(A01)\n",
    "B10=B[1,0]\n",
    "print(B10)\n",
    "print('\\n')\n",
    "A02=A[0][2]\n",
    "print(A02)\n",
    "B20=B[2,0]\n",
    "print(B20)\n",
    "print('\\n')\n",
    "C00=(A00*B00)+(A01*B10)+(A02*B20)\n",
    "print(C00)\n",
    "print('\\n')\n",
    "print(C)"
   ]
  },
  {
   "cell_type": "markdown",
   "metadata": {
    "slideshow": {
     "slide_type": "slide"
    }
   },
   "source": [
    "# This is A LOT easier with computers! \n",
    "## Remeber that unlike normal multiplication \n",
    "## MATRIX MULTIPLICATION IS NOT REVERSIBLE\n",
    "### AxB != BxA"
   ]
  },
  {
   "cell_type": "markdown",
   "metadata": {
    "slideshow": {
     "slide_type": "slide"
    }
   },
   "source": [
    "# Transposing a matrix\n",
    "## Make the rows columns or vice versa"
   ]
  },
  {
   "cell_type": "code",
   "execution_count": 57,
   "metadata": {
    "slideshow": {
     "slide_type": "subslide"
    }
   },
   "outputs": [
    {
     "name": "stdout",
     "output_type": "stream",
     "text": [
      "[[0 1 2 3 4]\n",
      " [5 6 7 8 9]]\n",
      "\n",
      "\n",
      "[[0 5]\n",
      " [1 6]\n",
      " [2 7]\n",
      " [3 8]\n",
      " [4 9]]\n"
     ]
    }
   ],
   "source": [
    "M=np.arange(10).reshape(2,5)\n",
    "print(M)\n",
    "print('\\n')\n",
    "Mt=np.transpose(M)\n",
    "print(Mt)"
   ]
  },
  {
   "cell_type": "markdown",
   "metadata": {
    "slideshow": {
     "slide_type": "slide"
    }
   },
   "source": [
    "# Matrix Inverse \n",
    "## NOT transponse (I used to confuse this all the time)\n",
    "## NOT 1/Matrix\n",
    "- Only for square matrices\n",
    "- Only if the matrix is 'full rank'\n",
    " - All columns (rows) are linearly independent (not multiples of each other or addition)"
   ]
  },
  {
   "cell_type": "code",
   "execution_count": 59,
   "metadata": {
    "slideshow": {
     "slide_type": "subslide"
    }
   },
   "outputs": [
    {
     "name": "stdout",
     "output_type": "stream",
     "text": [
      "[[ 0  1  2  3  4]\n",
      " [ 5  6  7  8  9]\n",
      " [10 11 12 13 14]\n",
      " [15 16 17 18 19]\n",
      " [20 21 22 23 24]]\n",
      "\n",
      "\n"
     ]
    },
    {
     "ename": "LinAlgError",
     "evalue": "Singular matrix",
     "output_type": "error",
     "traceback": [
      "\u001b[0;31m---------------------------------------------------------------------------\u001b[0m",
      "\u001b[0;31mLinAlgError\u001b[0m                               Traceback (most recent call last)",
      "\u001b[0;32m<ipython-input-59-355e4dd12efa>\u001b[0m in \u001b[0;36m<module>\u001b[0;34m()\u001b[0m\n\u001b[1;32m      2\u001b[0m \u001b[0mprint\u001b[0m\u001b[0;34m(\u001b[0m\u001b[0mMsq\u001b[0m\u001b[0;34m)\u001b[0m\u001b[0;34m\u001b[0m\u001b[0m\n\u001b[1;32m      3\u001b[0m \u001b[0mprint\u001b[0m\u001b[0;34m(\u001b[0m\u001b[0;34m'\\n'\u001b[0m\u001b[0;34m)\u001b[0m\u001b[0;34m\u001b[0m\u001b[0m\n\u001b[0;32m----> 4\u001b[0;31m \u001b[0mMinv\u001b[0m\u001b[0;34m=\u001b[0m\u001b[0mnp\u001b[0m\u001b[0;34m.\u001b[0m\u001b[0mlinalg\u001b[0m\u001b[0;34m.\u001b[0m\u001b[0minv\u001b[0m\u001b[0;34m(\u001b[0m\u001b[0mMsq\u001b[0m\u001b[0;34m)\u001b[0m\u001b[0;34m\u001b[0m\u001b[0m\n\u001b[0m\u001b[1;32m      5\u001b[0m \u001b[0mprint\u001b[0m\u001b[0;34m(\u001b[0m\u001b[0mMinv\u001b[0m\u001b[0;34m)\u001b[0m\u001b[0;34m\u001b[0m\u001b[0m\n",
      "\u001b[0;32m~/.local/lib/python3.6/site-packages/numpy/linalg/linalg.py\u001b[0m in \u001b[0;36minv\u001b[0;34m(a)\u001b[0m\n\u001b[1;32m    526\u001b[0m     \u001b[0msignature\u001b[0m \u001b[0;34m=\u001b[0m \u001b[0;34m'D->D'\u001b[0m \u001b[0;32mif\u001b[0m \u001b[0misComplexType\u001b[0m\u001b[0;34m(\u001b[0m\u001b[0mt\u001b[0m\u001b[0;34m)\u001b[0m \u001b[0;32melse\u001b[0m \u001b[0;34m'd->d'\u001b[0m\u001b[0;34m\u001b[0m\u001b[0m\n\u001b[1;32m    527\u001b[0m     \u001b[0mextobj\u001b[0m \u001b[0;34m=\u001b[0m \u001b[0mget_linalg_error_extobj\u001b[0m\u001b[0;34m(\u001b[0m\u001b[0m_raise_linalgerror_singular\u001b[0m\u001b[0;34m)\u001b[0m\u001b[0;34m\u001b[0m\u001b[0m\n\u001b[0;32m--> 528\u001b[0;31m     \u001b[0mainv\u001b[0m \u001b[0;34m=\u001b[0m \u001b[0m_umath_linalg\u001b[0m\u001b[0;34m.\u001b[0m\u001b[0minv\u001b[0m\u001b[0;34m(\u001b[0m\u001b[0ma\u001b[0m\u001b[0;34m,\u001b[0m \u001b[0msignature\u001b[0m\u001b[0;34m=\u001b[0m\u001b[0msignature\u001b[0m\u001b[0;34m,\u001b[0m \u001b[0mextobj\u001b[0m\u001b[0;34m=\u001b[0m\u001b[0mextobj\u001b[0m\u001b[0;34m)\u001b[0m\u001b[0;34m\u001b[0m\u001b[0m\n\u001b[0m\u001b[1;32m    529\u001b[0m     \u001b[0;32mreturn\u001b[0m \u001b[0mwrap\u001b[0m\u001b[0;34m(\u001b[0m\u001b[0mainv\u001b[0m\u001b[0;34m.\u001b[0m\u001b[0mastype\u001b[0m\u001b[0;34m(\u001b[0m\u001b[0mresult_t\u001b[0m\u001b[0;34m,\u001b[0m \u001b[0mcopy\u001b[0m\u001b[0;34m=\u001b[0m\u001b[0;32mFalse\u001b[0m\u001b[0;34m)\u001b[0m\u001b[0;34m)\u001b[0m\u001b[0;34m\u001b[0m\u001b[0m\n\u001b[1;32m    530\u001b[0m \u001b[0;34m\u001b[0m\u001b[0m\n",
      "\u001b[0;32m~/.local/lib/python3.6/site-packages/numpy/linalg/linalg.py\u001b[0m in \u001b[0;36m_raise_linalgerror_singular\u001b[0;34m(err, flag)\u001b[0m\n\u001b[1;32m     87\u001b[0m \u001b[0;34m\u001b[0m\u001b[0m\n\u001b[1;32m     88\u001b[0m \u001b[0;32mdef\u001b[0m \u001b[0m_raise_linalgerror_singular\u001b[0m\u001b[0;34m(\u001b[0m\u001b[0merr\u001b[0m\u001b[0;34m,\u001b[0m \u001b[0mflag\u001b[0m\u001b[0;34m)\u001b[0m\u001b[0;34m:\u001b[0m\u001b[0;34m\u001b[0m\u001b[0m\n\u001b[0;32m---> 89\u001b[0;31m     \u001b[0;32mraise\u001b[0m \u001b[0mLinAlgError\u001b[0m\u001b[0;34m(\u001b[0m\u001b[0;34m\"Singular matrix\"\u001b[0m\u001b[0;34m)\u001b[0m\u001b[0;34m\u001b[0m\u001b[0m\n\u001b[0m\u001b[1;32m     90\u001b[0m \u001b[0;34m\u001b[0m\u001b[0m\n\u001b[1;32m     91\u001b[0m \u001b[0;32mdef\u001b[0m \u001b[0m_raise_linalgerror_nonposdef\u001b[0m\u001b[0;34m(\u001b[0m\u001b[0merr\u001b[0m\u001b[0;34m,\u001b[0m \u001b[0mflag\u001b[0m\u001b[0;34m)\u001b[0m\u001b[0;34m:\u001b[0m\u001b[0;34m\u001b[0m\u001b[0m\n",
      "\u001b[0;31mLinAlgError\u001b[0m: Singular matrix"
     ]
    }
   ],
   "source": [
    "Msq=np.arange(25).reshape(5,5)\n",
    "print(Msq)\n",
    "print('\\n')\n",
    "Minv=np.linalg.inv(Msq)\n",
    "print(Minv)"
   ]
  },
  {
   "cell_type": "markdown",
   "metadata": {
    "slideshow": {
     "slide_type": "slide"
    }
   },
   "source": [
    "# Concept check: Why didn't that work?"
   ]
  },
  {
   "cell_type": "markdown",
   "metadata": {
    "slideshow": {
     "slide_type": "subslide"
    }
   },
   "source": [
    "# The rows and columns can be derived from each other by adding 5 per row to each column wise element\n",
    "## Not full rank aka rank deficient "
   ]
  },
  {
   "cell_type": "code",
   "execution_count": 68,
   "metadata": {
    "slideshow": {
     "slide_type": "subslide"
    }
   },
   "outputs": [
    {
     "name": "stdout",
     "output_type": "stream",
     "text": [
      "[[ 4 24 13 23  3]\n",
      " [ 4  5 21  7 14]\n",
      " [ 6  2 17  3 18]\n",
      " [11 21  8 22  1]\n",
      " [ 3 21 11 18  4]]\n",
      "\n",
      "\n",
      "[[-0.34385398  0.10400949 -0.07979442  0.16383883  0.21197246]\n",
      " [-0.4902975   0.08727309 -0.10908312  0.05923632  0.53833229]\n",
      " [-0.24139294  0.22258096 -0.17741245  0.05254835  0.18723026]\n",
      " [ 0.71508582 -0.20623991  0.19813527 -0.10789708 -0.67910915]\n",
      " [ 0.27789675 -0.22020888  0.2288077  -0.09284091 -0.1941159 ]]\n"
     ]
    }
   ],
   "source": [
    "Msq=np.random.randint(25, size=(5, 5))\n",
    "print(Msq)\n",
    "print('\\n')\n",
    "Minv=np.linalg.inv(Msq)\n",
    "print(Minv)"
   ]
  },
  {
   "cell_type": "markdown",
   "metadata": {
    "slideshow": {
     "slide_type": "slide"
    }
   },
   "source": [
    "# Inverting a rectangular matrix\n",
    "- Columns _only_ are linearly independent, then the matrix X transposed matrix is invertible $(A'A)$\n",
    "    - Useful to examine if a system of linear equations has a solution(s)\n",
    "- Pseudoinverse: $(A'A)^{-1}A'$\n",
    "    - Used to calculate least squares\n",
    "    - Used to calculate Euclidian distance\n",
    "- $(A'A)^{-1}A'A=I$\n",
    "    - Gasp the identity matrix!\n",
    "    - The pseudoinverse times the matrix is the identity matrix :O"
   ]
  },
  {
   "cell_type": "markdown",
   "metadata": {
    "slideshow": {
     "slide_type": "subslide"
    }
   },
   "source": [
    "# So that was some weird fun math. How is this related to brains?\n",
    "## $Y_1 = \\beta_0 + \\beta_1X_11 +\\beta_2X_21+ \\epsilon_1 $\n",
    "## $Y_2 = \\beta_0 + \\beta_1X_12 +\\beta_2X_22+ \\epsilon_2 $\n",
    ".\n",
    ".\n",
    ".\n",
    "## $Y_n = \\beta_0 + \\beta_1X_1n +\\beta_2X_2n+ \\epsilon_n $\n",
    "\n",
    " $\\begin{bmatrix}Y_1\\\\Y_2\\\\.\\\\.\\\\.\\\\Y_n\\end{bmatrix} = \\begin{bmatrix}1 & X_11 & X_12 \\\\1 & X_21 & X_22\\\\.\\\\.\\\\.\\\\1 & X_n1 & X_n2\\end{bmatrix} \\begin{bmatrix}\\beta_0\\\\ {\\beta_1}\\\\{\\beta_3}\\end{bmatrix}+\\begin{bmatrix}\\epsilon_1\\\\{\\epsilon_2}\\\\.\\\\.\\\\.\\\\{\\epsilon_n}\\end{bmatrix}$\n",
    " \n",
    " \n",
    " \n",
    " \n",
    " \n",
    " \n",
    " "
   ]
  },
  {
   "cell_type": "markdown",
   "metadata": {
    "slideshow": {
     "slide_type": "subslide"
    }
   },
   "source": [
    "# So that was some weird fun math. How is this related to brains?\n",
    "## $Y_1 = \\beta_0 + \\beta_1X_{11} +\\beta_2X_{12}+ \\epsilon_1 $\n",
    "## $Y_2 = \\beta_0 + \\beta_1X_{21} +\\beta_2X_{22}+ \\epsilon_2 $\n",
    ".\n",
    ".\n",
    ".\n",
    "## $Y_n = \\beta_0 + \\beta_1X_{n1} +\\beta_2X_{n2}+ \\epsilon_n $\n",
    "\n",
    " $\\begin{bmatrix}Y_1\\\\Y_2\\\\.\\\\.\\\\.\\\\Y_n\\end{bmatrix} = \\begin{bmatrix}1 & X_{11} & X_{12} \\\\1 & X_{21} & X_{22}\\\\.\\\\.\\\\.\\\\1 & X_{n1} & X_{n2}\\end{bmatrix} \\begin{bmatrix}\\beta_0\\\\ {\\beta_1}\\\\{\\beta_2}\\end{bmatrix}+\\begin{bmatrix}\\epsilon_1\\\\{\\epsilon_2}\\\\.\\\\.\\\\.\\\\{\\epsilon_n}\\end{bmatrix}$\n",
    "\n",
    "$Y_{mat} = X_{mat}\\beta_{mat}+\\epsilon_{mat}$\n",
    "\n",
    "\n",
    "\n"
   ]
  },
  {
   "cell_type": "markdown",
   "metadata": {
    "slideshow": {
     "slide_type": "slide"
    }
   },
   "source": [
    "# 8. First level stats\n",
    "## - Confounds\n",
    "## - Modeling\n"
   ]
  },
  {
   "cell_type": "markdown",
   "metadata": {
    "slideshow": {
     "slide_type": "subslide"
    }
   },
   "source": [
    "# OK we now know enough to make our first level model\n",
    "- Open the full model set up in the stats window\n",
    "- EVs are our independent variables \n",
    "- Click custom (3 column format)\n",
    "\n",
    "| onset  | duration of stimuli | Parametic modulator|\n",
    "|:------:|:-------------------:| :-----------------:|\n",
    "| 1      | 2                   | 1                  |\n",
    "| 2      | 2                   | 1                  |\n",
    "| 3      | 2                   | 1                  |\n",
    "\n",
    "- Convolution = Double-Gamma HRF \n",
    "    -- Will go over why this one in a minute but we need to get these models going\n",
    "- Turn off temporal filtering"
   ]
  },
  {
   "cell_type": "markdown",
   "metadata": {
    "slideshow": {
     "slide_type": "slide"
    }
   },
   "source": [
    "# About the task\n",
    "## Double auction\n",
    "I have no idea what a double auction task is! But there are pictures and responses. So we are going to look at pictures and responses\n",
    "\n",
    "## EV1 name = Picture\n",
    "### Filename = /work/data/ds001966-1.0.1/sub-01/func/sub-01_pics.txt\n",
    "## EV2 name = Response\n",
    "### Filename = /work/data/ds001966-1.0.1/sub-01/func/sub-01_resp.txt"
   ]
  },
  {
   "cell_type": "markdown",
   "metadata": {
    "slideshow": {
     "slide_type": "slide"
    }
   },
   "source": [
    "# Contrasts and F-test\n",
    "## What are we going to compare? \n",
    "## 4 contrasts\n",
    "### 1. main effects of picture named: picture\n",
    "### 2. main effects of response named: response\n",
    "### 3. response > picture named: res > pic\n",
    "### 4. response < picture named: pic > res\n",
    "\n",
    "\n",
    "\n",
    "| Title     | EV1 | EV2|\n",
    "|:--------:|:---:|:--:|\n",
    "| picture  | 1   | 0  |\n",
    "| response | 0   | 1  |\n",
    "| res > pic| 1   | -1 |\n",
    "| pic > res| -1  | 1  |"
   ]
  },
  {
   "cell_type": "code",
   "execution_count": null,
   "metadata": {
    "slideshow": {
     "slide_type": "notes"
    }
   },
   "outputs": [],
   "source": [
    "# How I made the EV files\n",
    "import glob\n",
    "import os\n",
    "import pandas as pd\n",
    "import numpy as np\n",
    "import pdb\n",
    "basedir='/Users/gracer/Downloads/ds001966-1.0.1'\n",
    "\n",
    "sub_dict={}\n",
    "for item in glob.glob(os.path.join(basedir,'sub-*','func','sub-*_task-doubleauction_events.tsv')):\n",
    "    sub=item.split('/')[5]\n",
    "    sub_dict[sub]=item\n",
    "    \n",
    "for key, item in sub_dict.items():\n",
    "    df=pd.read_csv(item,'\\t')\n",
    "    df['onset'] = df['onset'].round(3)\n",
    "    df['duration'] = df['duration'].round(3)\n",
    "    pics=df.loc[df['Event Type'] == 'Picture']\n",
    "    pics['Event Type'].loc[pics['Event Type'] == 'Picture']= 1\n",
    "    resp=df.loc[df['Event Type'] == 'Response']\n",
    "    resp['Event Type'].loc[resp['Event Type'] == 'Response']= 1\n",
    "    savedir=os.path.join(basedir,key,'func')\n",
    "    resp.to_csv(os.path.join(savedir,'%s_resp.txt'%key), sep=' ', index=False, header=False)\n",
    "    pics.to_csv(os.path.join(savedir,'%s_pics.txt'%key), sep=' ', index=False, header=False)\n"
   ]
  },
  {
   "cell_type": "markdown",
   "metadata": {
    "slideshow": {
     "slide_type": "slide"
    }
   },
   "source": [
    "# Wrap Up: What have we learned?\n",
    "## Statistics seems straight forward (line pun!). You have taken the red pill though and entered the world of MATRIX ALGEBRA! LINES ARE SQUARES, EVERYTHING HAS HATS, YOU MAY OR MAY NOT BE ABLE TO DODGE BULLETS!\n",
    "\n",
    "\n",
    "# What does our first level model look like in matrix algebra?"
   ]
  },
  {
   "cell_type": "markdown",
   "metadata": {},
   "source": [
    "## $Y_1 = \\beta_0 + \\beta_1Picture_11 +\\beta_2Response_12+\\beta_3MotionParameter_13+ \\epsilon_1 $\n",
    "## $Y_1 = \\beta_0 + \\beta_1Picture_21 +\\beta_2Response_22+\\beta_3MotionParameter_23+ \\epsilon_2 $\n",
    ".  \n",
    ".  \n",
    ".  \n",
    "## $Y_{695} = \\beta_0 + \\beta_1Picture_{695,1} +\\beta_2Response_{695,2}+ \\epsilon_{695} $\n",
    "\n",
    "\n",
    " $\\begin{bmatrix}Y_1\\\\Y_2\\\\.\\\\.\\\\.\\\\Y_n\\end{bmatrix} = \\begin{bmatrix}1 & Picture_{11} & Response_{12} \\\\1 & Picture_{21} & Response_{22}\\\\.\\\\.\\\\.\\\\1 & Picture_{n1} & Response_{n2}\\end{bmatrix} \\begin{bmatrix}\\beta_0\\\\ {\\beta_1}\\end{bmatrix}+\\begin{bmatrix}\\epsilon_1\\\\{\\epsilon_2}\\\\.\\\\.\\\\.\\\\{\\epsilon_n}\\end{bmatrix}$\n",
    "\n",
    "$Y_{mat} = EV_{mat}\\beta_{mat}+\\epsilon_{mat}$\n",
    "\n",
    "\n"
   ]
  },
  {
   "cell_type": "markdown",
   "metadata": {
    "slideshow": {
     "slide_type": "slide"
    }
   },
   "source": [
    "# Ok one more time with more pictures!\n",
    "_from https://fsl.fmrib.ox.ac.uk/fslcourse/_"
   ]
  },
  {
   "cell_type": "markdown",
   "metadata": {
    "slideshow": {
     "slide_type": "slide"
    }
   },
   "source": [
    "![](https://github.com/grace-shearrer/fMRI_bootcamp2019/blob/wildwest/4dock/images/buildmod.png?raw=true)"
   ]
  },
  {
   "cell_type": "markdown",
   "metadata": {
    "slideshow": {
     "slide_type": "subslide"
    }
   },
   "source": [
    "![](https://github.com/grace-shearrer/fMRI_bootcamp2019/blob/wildwest/4dock/images/conv.png?raw=true)\n"
   ]
  },
  {
   "cell_type": "markdown",
   "metadata": {
    "slideshow": {
     "slide_type": "slide"
    }
   },
   "source": [
    "![](https://github.com/grace-shearrer/fMRI_bootcamp2019/blob/wildwest/4dock/images/signal.png?raw=true)"
   ]
  },
  {
   "cell_type": "markdown",
   "metadata": {
    "slideshow": {
     "slide_type": "subslide"
    }
   },
   "source": [
    "![](https://github.com/grace-shearrer/fMRI_bootcamp2019/blob/wildwest/4dock/images/fit.png?raw=true)\n"
   ]
  },
  {
   "cell_type": "markdown",
   "metadata": {
    "slideshow": {
     "slide_type": "slide"
    }
   },
   "source": [
    "![](https://github.com/grace-shearrer/fMRI_bootcamp2019/blob/wildwest/4dock/images/allvoxels.png?raw=true)\n",
    "\n"
   ]
  },
  {
   "cell_type": "markdown",
   "metadata": {
    "slideshow": {
     "slide_type": "slide"
    }
   },
   "source": [
    "![](https://github.com/grace-shearrer/fMRI_bootcamp2019/blob/wildwest/4dock/images/glm.png?raw=true)\n",
    "\n"
   ]
  },
  {
   "cell_type": "markdown",
   "metadata": {
    "slideshow": {
     "slide_type": "slide"
    }
   },
   "source": [
    "# Concept check: What are our EVs for our experiment? "
   ]
  },
  {
   "cell_type": "markdown",
   "metadata": {
    "slideshow": {
     "slide_type": "slide"
    }
   },
   "source": [
    "# The EVs in our model are pictures and responses. \n",
    "- We set the stimuli or measured them at their onset time, and how long they lasted. \n",
    "- Then we multipled the instances in time by the HRF\n",
    "- The GLM is comparing if our model is similar to any voxel activity\n",
    "- The beta will tell us how much it is related\n",
    "- Don't forget that beta is the slope! So for every increase in stimuli (pictures) activity you get a voxel response increase!"
   ]
  },
  {
   "cell_type": "markdown",
   "metadata": {
    "slideshow": {
     "slide_type": "slide"
    }
   },
   "source": [
    "# Quick note on mean centering\n",
    "- Makes the y intercept represent the parameter at the MEAN, instead of the parameter at 0\n",
    "- The slope is unchanged\n",
    "- We basically just shifted the line from 0 to the mean"
   ]
  },
  {
   "cell_type": "code",
   "execution_count": 70,
   "metadata": {
    "slideshow": {
     "slide_type": "subslide"
    }
   },
   "outputs": [
    {
     "name": "stdout",
     "output_type": "stream",
     "text": [
      "[[ 0.         -1.22474487  1.33630621]\n",
      " [ 1.22474487  0.         -0.26726124]\n",
      " [-1.22474487  1.22474487 -1.06904497]]\n"
     ]
    }
   ],
   "source": [
    "from sklearn import preprocessing\n",
    "import numpy as np\n",
    "X = np.array([[ 1., -1.,  2.],[ 2.,  0.,  0.],[ 0.,  1., -1.]])\n",
    "X_scaled = preprocessing.scale(X)\n",
    "\n",
    "print(X_scaled)                                          \n"
   ]
  },
  {
   "cell_type": "code",
   "execution_count": 71,
   "metadata": {
    "slideshow": {
     "slide_type": "subslide"
    }
   },
   "outputs": [
    {
     "name": "stdout",
     "output_type": "stream",
     "text": [
      "[0. 0. 0.]\n",
      "[1. 1. 1.]\n"
     ]
    }
   ],
   "source": [
    "# Now the data has a mean of 0 \n",
    "print(X_scaled.mean(axis=0))\n",
    "\n",
    "# And a standard unit of variance\n",
    "print(X_scaled.std(axis=0))\n"
   ]
  },
  {
   "cell_type": "markdown",
   "metadata": {
    "slideshow": {
     "slide_type": "slide"
    }
   },
   "source": [
    "# Hypothesis testing\n",
    "- Assume the null (H0) is true\n",
    "- Beta is the parameter you are testing\n",
    "- If you are me you are testing juice intake\n",
    "    - H0: βjuice ≤ 0 (juice has no effect on the brain)\n",
    "    - HA:βjuice >0 (juice has some effect on the brain other than null)\n"
   ]
  },
  {
   "cell_type": "markdown",
   "metadata": {
    "slideshow": {
     "slide_type": "slide"
    }
   },
   "source": [
    "# Contrasts\n",
    "## FSL calls contrasts COPEs = Contrast Of Parameter Estimates\n",
    "## The are a linear combination of the PEs"
   ]
  },
  {
   "cell_type": "markdown",
   "metadata": {
    "slideshow": {
     "slide_type": "slide"
    }
   },
   "source": [
    "# Concept Check: What is a PE?"
   ]
  },
  {
   "cell_type": "markdown",
   "metadata": {
    "slideshow": {
     "slide_type": "subslide"
    }
   },
   "source": [
    "# $\\beta$    AKA our slope"
   ]
  },
  {
   "cell_type": "markdown",
   "metadata": {
    "slideshow": {
     "slide_type": "slide"
    }
   },
   "source": [
    "## [1 0] :   $ COPE_1 = 1 * \\hat{\\beta_1} + 0*\\hat{\\beta_2} = \\hat{\\beta_1} $    \n",
    "Main effect of EV1\n",
    "\n",
    "## [1 -1] :   $ COPE_2 = 1 * \\hat{\\beta_1} + -1*\\hat{\\beta_2} = \\hat{\\beta_1}-\\hat{\\beta_2} $   \n",
    "Comparison of EV1 > EV2"
   ]
  },
  {
   "cell_type": "markdown",
   "metadata": {
    "slideshow": {
     "slide_type": "subslide"
    }
   },
   "source": [
    "# Test null hypothesis that $COPE_1=0$\n",
    "\n",
    "## $t statistics = \\frac{COPE_1}{std(COPE_1)}$"
   ]
  },
  {
   "cell_type": "markdown",
   "metadata": {
    "slideshow": {
     "slide_type": "slide"
    }
   },
   "source": [
    "![tstat](https://github.com/grace-shearrer/fMRI_bootcamp2019/blob/wildwest/4dock/images/tcon.png?raw=true)"
   ]
  },
  {
   "cell_type": "markdown",
   "metadata": {
    "slideshow": {
     "slide_type": "slide"
    }
   },
   "source": [
    "# How can we solve for   $\\hat{\\beta}$   ?\n",
    "## $Y = X\\hat{\\beta}$"
   ]
  },
  {
   "cell_type": "markdown",
   "metadata": {
    "slideshow": {
     "slide_type": "subslide"
    }
   },
   "source": [
    "# How can we solve for   $\\hat{\\beta}$   ?\n",
    "##   $Y = X\\hat{\\beta}$\n",
    "##   $X'Y = (X'X)\\hat{\\beta}$   transpose X to X' so we can multiple it by Y"
   ]
  },
  {
   "cell_type": "markdown",
   "metadata": {
    "slideshow": {
     "slide_type": "subslide"
    }
   },
   "source": [
    "# How can we solve for $\\hat{\\beta}$   ?\n",
    "##   $Y = X\\hat{\\beta}$\n",
    "##   $X'Y = (X'X)\\hat{\\beta}$\n",
    "##   $(X'X)^{-1}X'Y = \\hat{\\beta}$   \n",
    "Take the inverse of (X'X)"
   ]
  },
  {
   "cell_type": "markdown",
   "metadata": {
    "slideshow": {
     "slide_type": "slide"
    }
   },
   "source": [
    "# Concept check: What does (X'X) have to be to take an inverse?"
   ]
  },
  {
   "cell_type": "markdown",
   "metadata": {
    "slideshow": {
     "slide_type": "subslide"
    }
   },
   "source": [
    "# Square\n",
    "# Full rank (all columns are linearly independent)"
   ]
  },
  {
   "cell_type": "markdown",
   "metadata": {
    "slideshow": {
     "slide_type": "slide"
    }
   },
   "source": [
    "# $(X'X)^{-1}X'Y = \\hat{\\beta}$   \n",
    "# This is also the same of least squares! "
   ]
  },
  {
   "cell_type": "markdown",
   "metadata": {
    "slideshow": {
     "slide_type": "slide"
    }
   },
   "source": [
    "# Variance\n",
    "We haven't given variance much time. But it is a super important assumption!\n",
    "\n",
    "## $\\hat{\\sigma}^2 = \\frac{e'e}{N-p}$\n",
    "p=parameters\n",
    "### $ e = Y-X\\hat{\\beta}= Y-\\hat{Y} $\n",
    "#### This is the difference between the observed value (Y) and the predicted value   ( $\\hat{Y}$ )"
   ]
  },
  {
   "cell_type": "markdown",
   "metadata": {
    "slideshow": {
     "slide_type": "slide"
    }
   },
   "source": [
    "# Concept Check: Given   $\\hat{\\sigma}^2 = \\frac{e'e}{N-p}$   : What is the 'easiest' way we can decrease out variance?"
   ]
  },
  {
   "cell_type": "markdown",
   "metadata": {
    "slideshow": {
     "slide_type": "subslide"
    }
   },
   "source": [
    "# N, which is sample size!"
   ]
  },
  {
   "cell_type": "markdown",
   "metadata": {
    "slideshow": {
     "slide_type": "slide"
    }
   },
   "source": [
    "# t tests are sooo easy\n",
    "# $ t = \\frac{c\\hat{\\beta}}{\\hat{\\alpha^2}c(X'X)^{-1}c'}$\n",
    "\n",
    "# where c = contrast matrix\n",
    "Something like c = [1 -1 0]\n",
    "\n",
    "## SAME AS ABOVE just matrix'd\n"
   ]
  },
  {
   "cell_type": "markdown",
   "metadata": {
    "slideshow": {
     "slide_type": "slide"
    }
   },
   "source": [
    "# So we what do we have?\n",
    "##  $c\\hat{\\beta}$   = contrast matrix times betas\n",
    "##  $\\hat{\\sigma}^2$   = variance\n",
    "##  $c(X'X)^{-1}$   = experimental design\n",
    "##  $c'$   = transposed contrast matrix"
   ]
  },
  {
   "cell_type": "markdown",
   "metadata": {
    "slideshow": {
     "slide_type": "slide"
    }
   },
   "source": [
    "# What can we manipulate to improve our t-stat? \n",
    "## Mostly the variance term by increasing the N\n",
    "## We can maximize our experimental design and calculate the efficency \n",
    "## We can maintain degrees of freedom in the model c"
   ]
  },
  {
   "cell_type": "markdown",
   "metadata": {
    "slideshow": {
     "slide_type": "slide"
    }
   },
   "source": [
    "# No free lunch, or degrees of freedom\n",
    "Recall we want to keep our sample size much larger than our parameters in our models\n",
    "###   $\\sigma^s$ = $\\frac{\\sum_{} (Y_i-\\hat{Y}_i)^2= \\sum{}e_i^2}{N-2}$\n",
    "- Where N is the sample size\n",
    "- 2 is the number of parameters in the model"
   ]
  },
  {
   "cell_type": "markdown",
   "metadata": {
    "slideshow": {
     "slide_type": "slide"
    }
   },
   "source": [
    "# 7. FILM (FMRIB's Improved Linear Model)\n",
    "How do they come up with these names???"
   ]
  },
  {
   "cell_type": "markdown",
   "metadata": {
    "slideshow": {
     "slide_type": "subslide"
    }
   },
   "source": [
    "# FILM frustration\n",
    "FILM is easily the most confusing and least understood part of FEAT and fMRI analysis in general. According to the FSL website FILM is, \"a robust and accurate nonparametric estimation of time series autocorrelation to prewhiten each voxel's time series; this gives improved estimation efficiency compared with methods that do not pre-whiten.\" "
   ]
  },
  {
   "cell_type": "markdown",
   "metadata": {
    "slideshow": {
     "slide_type": "slide"
    }
   },
   "source": [
    "# Prewhiten? \n",
    "When we talk about noise in data (any data not just fMRI) we have 'coloured' and 'white' noises.  \n",
    "![noise](https://upload.wikimedia.org/wikipedia/commons/6/6c/The_Colors_of_Noise.png)\n",
    "_image from wikipedia_"
   ]
  },
  {
   "cell_type": "markdown",
   "metadata": {
    "slideshow": {
     "slide_type": "subslide"
    }
   },
   "source": [
    "## White noise\n",
    "Is random signal with a flat power spectra. White noise is supposed to be discrete, serially uncorrelated, with a mean of 0 and finite variance. \n",
    "![whitenoise](https://upload.wikimedia.org/wikipedia/commons/thumb/c/c1/White_noise.svg/2560px-White_noise.svg.png)"
   ]
  },
  {
   "cell_type": "markdown",
   "metadata": {
    "slideshow": {
     "slide_type": "slide"
    }
   },
   "source": [
    "## Cool, cool... what?\n",
    "Scientist needed to classify different frequencies of noise so they decided to label them with the same names as similar light (color) frequencies. \n",
    "\n",
    "## Why do we care about this noise?\n",
    "We are taking measurements across time. Therefore, each timepoint is correlated to the other timepoints! Points closer to each other in time are more correlated to each other compared to points far away in time. \n",
    "### Thought experiment\n",
    "Think about the differences between a single person when they are a  2 y old child and a 10 y old child.... They are pretty different right? But now think about when that person is a 10 y old child and a 85 y old adult... Which are more similar? "
   ]
  },
  {
   "cell_type": "markdown",
   "metadata": {
    "slideshow": {
     "slide_type": "slide"
    }
   },
   "source": [
    "# Prewhiten, not just for laundry\n",
    "So we know we have an underlying correlation in our data. This is 'coloured' noise. We can apply fancy, fancy stats to make this 'coloured' noise white. Thus the word _prewhiten_\n",
    "\n",
    "You have probably been unknowingly prewhitening data for years and not known! Commonly when modeling repeated measures!\n",
    "\n",
    "In R when generating a linear mixed model regression (nlme or lme4) you have the option:\n",
    "```\n",
    "fm1 <- lme(distance ~ age, data = Orthodont, correlation= corAR1) # random is ~ age\n",
    "fm2 <- lme(distance ~ age + Sex, data = Orthodont, random = ~ 1, correlation= corAR1)\n",
    "summary(fm1)\n",
    "summary(fm2)\n",
    "```\n",
    "The correlation flag set the correlation structure of the data. There are quite a few options:\n",
    "- corAR1 autoregressive process of order 1.\n",
    "- corARMA autoregressive moving average process, with arbitrary orders for the autoregressive and moving average components.\n",
    "- corCAR1 continuous autoregressive process (AR(1) process for a continuous time covariate).\n",
    "- corCompSymm compound symmetry structure corresponding to a constant correlation.\n",
    "- corExp exponential spatial correlation.\n",
    "- corGaus Gaussian spatial correlation.\n",
    "- corLin linear spatial correlation.\n",
    "- corRatio Rational quadratics spatial correlation.\n",
    "- corSpher spherical spatial correlation.\n",
    "- corSymm general correlation matrix, with no additional structure."
   ]
  },
  {
   "cell_type": "markdown",
   "metadata": {
    "slideshow": {
     "slide_type": "slide"
    }
   },
   "source": [
    "# Ok so which one is FILM?\n",
    "_from https://www.fmrib.ox.ac.uk/datasets/techrep/tr04ss2/tr04ss2/node3.html_\n",
    "- Applying a Tukey taper to the raw estimates (to smoothly \"roll off\" higher lags) gave the best results \n",
    "- Spatial smoothing of the resulting autocorrelation estimates was found to be important in reducing bias further. \n",
    "- The autocorrelation was found to vary considerably between matter types (with higher autocorrelation in the grey matter than in white). \n",
    "- Therefore, we apply non-linear spatial smoothing to the autocorrelation coefficients, only smoothing within matter type.\n",
    "\n",
    "## TL;DR\n",
    "FILM is pretty special. \n",
    "* Not only is it whitening noise due by removing the autocorrelation in the timeseries, it is also reducing bias from the autocorrelation in SPACE. THEY ARE CORRECTING A SPACE-TIME AUTOCORRELATION STRUCTURE! \n",
    "* Then they take it a step farther and say, \"damn, this is different between the type of SPACE\" so they make it non-linear to smooth within SPACE type! "
   ]
  },
  {
   "cell_type": "markdown",
   "metadata": {
    "slideshow": {
     "slide_type": "slide"
    }
   },
   "source": [
    "# END\n",
    "take a break"
   ]
  }
 ],
 "metadata": {
  "celltoolbar": "Slideshow",
  "kernelspec": {
   "display_name": "Python 3",
   "language": "python",
   "name": "python3"
  },
  "language_info": {
   "codemirror_mode": {
    "name": "ipython",
    "version": 3
   },
   "file_extension": ".py",
   "mimetype": "text/x-python",
   "name": "python",
   "nbconvert_exporter": "python",
   "pygments_lexer": "ipython3",
   "version": "3.6.8"
  }
 },
 "nbformat": 4,
 "nbformat_minor": 2
}
