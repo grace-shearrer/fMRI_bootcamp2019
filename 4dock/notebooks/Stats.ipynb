{
 "cells": [
  {
   "cell_type": "markdown",
   "metadata": {},
   "source": [
    "# 6. Stats overview"
   ]
  },
  {
   "cell_type": "markdown",
   "metadata": {},
   "source": [
    "# Concept Check: What is the equation for a line?"
   ]
  },
  {
   "cell_type": "markdown",
   "metadata": {},
   "source": [
    "# Y=mX+b\n",
    "## Y -> dependent variable\n",
    "## X -> independent variable\n",
    "## m -> slope (relationship between X and Y)\n",
    "## b -> Y intercept, where Y is 0 in a coordinate place (baseline)"
   ]
  },
  {
   "cell_type": "markdown",
   "metadata": {},
   "source": [
    "# ALL GLMs are based on this equation \n",
    "- Regression\n",
    "- ANOVA\n",
    "- rmANOVA\n",
    "- ANCOVA\n",
    "- Correlations\n",
    "- T Test"
   ]
  },
  {
   "cell_type": "markdown",
   "metadata": {},
   "source": [
    "# Easy enough I think I learned this in like 4th Grade\n",
    "\n",
    "## Hold Up: We are still talking about 4D data\n",
    "\n",
    "### Yi -> response at each voxel, the linear combination of one or more predictors\n",
    "### Xi -> design matrix of predictors\n",
    "### $\\beta_i$ -> Model parameters\n",
    "### $\\epsilon_i$ -> random error between observations and the population"
   ]
  },
  {
   "cell_type": "markdown",
   "metadata": {},
   "source": [
    "# $Y_i = \\beta_0 + \\beta_1X_i + \\epsilon_i $"
   ]
  },
  {
   "cell_type": "markdown",
   "metadata": {},
   "source": [
    "# Concept Check: In the equation presented which is b and m?\n",
    "# $Y_i = \\beta_0 + \\beta_1X_i + \\epsilon_i $"
   ]
  },
  {
   "cell_type": "markdown",
   "metadata": {},
   "source": [
    "- $Y_i$ What we observe for a single voxel for a single run for a single person RANDOM\n",
    "- $\\beta_0$ Y intercept, what is the value of Y_i at X=0\n",
    "- $\\beta_1$ This is our slope (m)\n",
    "- $X_i$ This is our independent variable (NOT RANDOM) it is our experiment  \n",
    "- $e_i $ Random error, how the observation deviates from the mean"
   ]
  },
  {
   "cell_type": "markdown",
   "metadata": {},
   "source": [
    "# Let's start with a non imaging example to get comfortable"
   ]
  },
  {
   "cell_type": "code",
   "execution_count": 31,
   "metadata": {},
   "outputs": [],
   "source": [
    "import pandas as pd  \n",
    "import numpy as np  \n",
    "import matplotlib.pyplot as plt  \n",
    "import seaborn as seabornInstance \n",
    "import statsmodels.api as sm\n",
    "%matplotlib inline\n",
    "from sklearn import datasets ## imports datasets from scikit-learn\n",
    "data = sm.datasets.statecrime.load_pandas().data\n",
    "murder = data['murder']\n",
    "X = data[['poverty', 'hs_grad']]"
   ]
  },
  {
   "cell_type": "code",
   "execution_count": 32,
   "metadata": {},
   "outputs": [
    {
     "name": "stderr",
     "output_type": "stream",
     "text": [
      "/anaconda2/envs/py36/lib/python3.6/site-packages/ipykernel_launcher.py:1: SettingWithCopyWarning: \n",
      "A value is trying to be set on a copy of a slice from a DataFrame.\n",
      "Try using .loc[row_indexer,col_indexer] = value instead\n",
      "\n",
      "See the caveats in the documentation: http://pandas.pydata.org/pandas-docs/stable/indexing.html#indexing-view-versus-copy\n",
      "  \"\"\"Entry point for launching an IPython kernel.\n"
     ]
    },
    {
     "data": {
      "text/html": [
       "<table class=\"simpletable\">\n",
       "<caption>OLS Regression Results</caption>\n",
       "<tr>\n",
       "  <th>Dep. Variable:</th>         <td>murder</td>      <th>  R-squared:         </th> <td>   0.300</td>\n",
       "</tr>\n",
       "<tr>\n",
       "  <th>Model:</th>                   <td>OLS</td>       <th>  Adj. R-squared:    </th> <td>   0.271</td>\n",
       "</tr>\n",
       "<tr>\n",
       "  <th>Method:</th>             <td>Least Squares</td>  <th>  F-statistic:       </th> <td>   10.31</td>\n",
       "</tr>\n",
       "<tr>\n",
       "  <th>Date:</th>             <td>Thu, 17 Oct 2019</td> <th>  Prob (F-statistic):</th> <td>0.000189</td>\n",
       "</tr>\n",
       "<tr>\n",
       "  <th>Time:</th>                 <td>11:31:49</td>     <th>  Log-Likelihood:    </th> <td> -128.73</td>\n",
       "</tr>\n",
       "<tr>\n",
       "  <th>No. Observations:</th>      <td>    51</td>      <th>  AIC:               </th> <td>   263.5</td>\n",
       "</tr>\n",
       "<tr>\n",
       "  <th>Df Residuals:</th>          <td>    48</td>      <th>  BIC:               </th> <td>   269.2</td>\n",
       "</tr>\n",
       "<tr>\n",
       "  <th>Df Model:</th>              <td>     2</td>      <th>                     </th>     <td> </td>   \n",
       "</tr>\n",
       "<tr>\n",
       "  <th>Covariance Type:</th>      <td>nonrobust</td>    <th>                     </th>     <td> </td>   \n",
       "</tr>\n",
       "</table>\n",
       "<table class=\"simpletable\">\n",
       "<tr>\n",
       "      <td></td>        <th>coef</th>     <th>std err</th>      <th>t</th>      <th>P>|t|</th>  <th>[0.025</th>    <th>0.975]</th>  \n",
       "</tr>\n",
       "<tr>\n",
       "  <th>poverty</th>  <td>    0.5271</td> <td>    0.211</td> <td>    2.495</td> <td> 0.016</td> <td>    0.102</td> <td>    0.952</td>\n",
       "</tr>\n",
       "<tr>\n",
       "  <th>hs_grad</th>  <td>   -0.1339</td> <td>    0.195</td> <td>   -0.688</td> <td> 0.495</td> <td>   -0.525</td> <td>    0.257</td>\n",
       "</tr>\n",
       "<tr>\n",
       "  <th>constant</th> <td>    9.2268</td> <td>   19.182</td> <td>    0.481</td> <td> 0.633</td> <td>  -29.342</td> <td>   47.795</td>\n",
       "</tr>\n",
       "</table>\n",
       "<table class=\"simpletable\">\n",
       "<tr>\n",
       "  <th>Omnibus:</th>       <td>69.675</td> <th>  Durbin-Watson:     </th> <td>   2.099</td> \n",
       "</tr>\n",
       "<tr>\n",
       "  <th>Prob(Omnibus):</th> <td> 0.000</td> <th>  Jarque-Bera (JB):  </th> <td> 719.152</td> \n",
       "</tr>\n",
       "<tr>\n",
       "  <th>Skew:</th>          <td> 3.564</td> <th>  Prob(JB):          </th> <td>6.89e-157</td>\n",
       "</tr>\n",
       "<tr>\n",
       "  <th>Kurtosis:</th>      <td>19.960</td> <th>  Cond. No.          </th> <td>3.87e+03</td> \n",
       "</tr>\n",
       "</table><br/><br/>Warnings:<br/>[1] Standard Errors assume that the covariance matrix of the errors is correctly specified.<br/>[2] The condition number is large, 3.87e+03. This might indicate that there are<br/>strong multicollinearity or other numerical problems."
      ],
      "text/plain": [
       "<class 'statsmodels.iolib.summary.Summary'>\n",
       "\"\"\"\n",
       "                            OLS Regression Results                            \n",
       "==============================================================================\n",
       "Dep. Variable:                 murder   R-squared:                       0.300\n",
       "Model:                            OLS   Adj. R-squared:                  0.271\n",
       "Method:                 Least Squares   F-statistic:                     10.31\n",
       "Date:                Thu, 17 Oct 2019   Prob (F-statistic):           0.000189\n",
       "Time:                        11:31:49   Log-Likelihood:                -128.73\n",
       "No. Observations:                  51   AIC:                             263.5\n",
       "Df Residuals:                      48   BIC:                             269.2\n",
       "Df Model:                           2                                         \n",
       "Covariance Type:            nonrobust                                         \n",
       "==============================================================================\n",
       "                 coef    std err          t      P>|t|      [0.025      0.975]\n",
       "------------------------------------------------------------------------------\n",
       "poverty        0.5271      0.211      2.495      0.016       0.102       0.952\n",
       "hs_grad       -0.1339      0.195     -0.688      0.495      -0.525       0.257\n",
       "constant       9.2268     19.182      0.481      0.633     -29.342      47.795\n",
       "==============================================================================\n",
       "Omnibus:                       69.675   Durbin-Watson:                   2.099\n",
       "Prob(Omnibus):                  0.000   Jarque-Bera (JB):              719.152\n",
       "Skew:                           3.564   Prob(JB):                    6.89e-157\n",
       "Kurtosis:                      19.960   Cond. No.                     3.87e+03\n",
       "==============================================================================\n",
       "\n",
       "Warnings:\n",
       "[1] Standard Errors assume that the covariance matrix of the errors is correctly specified.\n",
       "[2] The condition number is large, 3.87e+03. This might indicate that there are\n",
       "strong multicollinearity or other numerical problems.\n",
       "\"\"\""
      ]
     },
     "execution_count": 32,
     "metadata": {},
     "output_type": "execute_result"
    }
   ],
   "source": [
    "X[\"constant\"] = 1\n",
    "y = murder\n",
    "model = sm.OLS(y, X)\n",
    "results = model.fit()\n",
    "predictions = results.predict(X)\n",
    "\n",
    "# Print out the statistics\n",
    "results.summary()\n"
   ]
  },
  {
   "cell_type": "markdown",
   "metadata": {},
   "source": [
    "# Concept check: Which is which?\n",
    "- ## $Y_i$ \n",
    "- ## $\\beta_0$ \n",
    "- ## $\\beta_1$ \n",
    "- ## $\\beta_2$\n",
    "- ## $X_1$\n",
    "- ## $X_2$"
   ]
  },
  {
   "cell_type": "markdown",
   "metadata": {},
   "source": [
    "- ## $Y_i$  -> murder\n",
    "- ## $\\beta_0$ -> 9.2268\t\n",
    "- ## $\\beta_1$ -> -0.1339\n",
    "- ## $\\beta_2$ -> 0.5271\n",
    "- ## $X_1$ -> poverty\n",
    "- ## $X_2$ -> hs_grad"
   ]
  },
  {
   "cell_type": "code",
   "execution_count": 34,
   "metadata": {
    "scrolled": true
   },
   "outputs": [
    {
     "data": {
      "text/plain": [
       "Text(0.5,1,'Linear Regression of Poverty related to murder controlling for education (high school)')"
      ]
     },
     "execution_count": 34,
     "metadata": {},
     "output_type": "execute_result"
    },
    {
     "data": {
      "image/png": "[encoded data removed]",
      "text/plain": [
       "<Figure size 432x288 with 1 Axes>"
      ]
     },
     "metadata": {},
     "output_type": "display_data"
    }
   ],
   "source": [
    "fig, ax = plt.subplots()\n",
    "fig = sm.graphics.plot_fit(results, 0, ax=ax)\n",
    "ax.set_ylabel(\"murder\")\n",
    "ax.set_xlabel(\"Poverty\")\n",
    "ax.set_title(\"Linear Regression of Poverty related to murder controlling for education (high school)\")\n",
    "# The plot_fit function plots the fitted values versus a chosen independent variable. It includes prediction confidence intervals and optionally plots the true dependent variable."
   ]
  },
  {
   "cell_type": "markdown",
   "metadata": {},
   "source": [
    "# Wait what about $\\epsilon_i $ ???"
   ]
  },
  {
   "cell_type": "markdown",
   "metadata": {},
   "source": [
    "# $\\epsilon_i $ is the error between our observation and the _true_ (unknowable) population value\n",
    "\n",
    "Great! So if this is essentially unknowable what are we doing here?\n",
    "\n",
    "# We can at least measure the error of our fitted values (modeled) and the observed values (data points) aka RESIDUALS\n",
    "\n",
    "## So our data points are from a sample which we assume is from the population of interest.\n",
    "## We also assume our sample is represenatative of the population of interest."
   ]
  },
  {
   "cell_type": "markdown",
   "metadata": {},
   "source": [
    "# Concept Check: What is an example in which a sample is not representative of the population?"
   ]
  },
  {
   "cell_type": "markdown",
   "metadata": {},
   "source": [
    "## There are probably thousands of examples. One off the top of my head would be measuring PMS symptoms in college aged men. \n",
    "\n",
    "This is a real problem though! Think about marginalized groups in research. If we don't equally and randomly sample them then our model is not representative of them, and our conclusions may be invalid."
   ]
  },
  {
   "cell_type": "markdown",
   "metadata": {},
   "source": [
    "# Residuals and sample size\n",
    "\n",
    "So we can never know the true value of the population. Unfortunate. BUT! As our sample size gets bigger we are closer to the true population value! Therefore, if our sample size is large enough our residuals will be more representative of $e_i$"
   ]
  },
  {
   "cell_type": "code",
   "execution_count": 37,
   "metadata": {},
   "outputs": [
    {
     "data": {
      "image/png": "[encoded data removed]",
      "text/plain": [
       "<Figure size 864x576 with 1 Axes>"
      ]
     },
     "metadata": {},
     "output_type": "display_data"
    }
   ],
   "source": [
    "# Influence plots show the (externally) studentized residuals vs. the leverage of each observation as measured by the hat matrix.\n",
    "fig, ax = plt.subplots(figsize=(12,8))\n",
    "fig = sm.graphics.influence_plot(results, ax=ax, criterion=\"cooks\")"
   ]
  },
  {
   "cell_type": "markdown",
   "metadata": {},
   "source": [
    "# Concept check: Looking at the above graph: How good is our model (the effect of poverty and high school education) at predicting the murder rate in DC?"
   ]
  },
  {
   "cell_type": "markdown",
   "metadata": {},
   "source": [
    "# Not great... compared to the other data points. In fact, it is influencing the overall model. We should probably model DC seperately "
   ]
  },
  {
   "cell_type": "code",
   "execution_count": 39,
   "metadata": {
    "slideshow": {
     "slide_type": "notes"
    }
   },
   "outputs": [
    {
     "data": {
      "text/plain": [
       "array([-0.36111661,  1.46445599, -1.15286553, -1.80622646, -0.5223856 ,\n",
       "       -0.8724741 ,  0.67877653,  1.38015334, 16.93380001, -0.16220289,\n",
       "       -0.69302559, -0.80739383, -3.43093724,  3.72845975,  0.07538936,\n",
       "       -2.03199012,  0.41750729, -3.79450712,  4.95769621, -1.63571552,\n",
       "        5.483369  , -0.04209436,  0.30058102, -1.27641872, -3.10806531,\n",
       "        1.29673659, -1.83136135, -1.18926226,  1.36821025, -0.58536535,\n",
       "        1.21813631,  2.36902484, -1.37353151, -1.13405271, -1.33282379,\n",
       "       -0.51244834,  0.19268726, -2.53723044,  1.35096458, -0.95027864,\n",
       "       -0.34946406, -1.07742389,  0.28360251, -2.19748448, -1.7872376 ,\n",
       "       -1.75420442,  1.53119907, -0.90264895, -2.57283596, -1.14197533,\n",
       "       -0.10370183])"
      ]
     },
     "execution_count": 39,
     "metadata": {},
     "output_type": "execute_result"
    }
   ],
   "source": [
    "sm.regression.linear_model.RegressionResults.resid(results)"
   ]
  },
  {
   "cell_type": "markdown",
   "metadata": {},
   "source": [
    "# Fixed effects or Random effects\n",
    "## AKA. Hipsters on fixed gears Vs. Manic Pixie Dream Girls\n",
    "\n",
    "# $Y_i = \\beta_0 + \\beta_1X_i + \\epsilon_i $"
   ]
  },
  {
   "cell_type": "markdown",
   "metadata": {},
   "source": [
    "## RANDOM: $ \\epsilon_i $\n",
    "\n",
    "Like many manic pixie dream girls, we can make some assumptions about $ e_i $  \n",
    "- It has an population mean of 0 (normally distrubuted; aka secretly a normie) \n",
    "- The variance (what makes it so manic) is actually the same as the population variance $ \\sigma^2 $\n",
    "- The covariance of the error is 0 (there is no relationship between the manic pixie dream girls, they just happen to be very similar)\n",
    "\n",
    "![mpdg](https://www.worshipthefandom.com/images/fc_thecoolgirl/image1.jpg)"
   ]
  },
  {
   "cell_type": "markdown",
   "metadata": {},
   "source": [
    "## FIXED: $ \\beta_0 + \\beta_1X_i$\n",
    "- ## Mean of $Y_i $ and some error term $e_i$ (not the same as $\\epsilon$)\n",
    "\n",
    "### $e_i=Y_i-(\\hat{\\beta}_0+\\hat{\\beta_1}X_i)$\n",
    "- The hat = estimated  \n",
    "\n",
    "### AKA:  fixie hipster is wearing a silly hat\n",
    "![hat](https://mir-s3-cdn-cf.behance.net/project_modules/max_1200/225ee422480663.563135483ddbd.jpg)"
   ]
  },
  {
   "cell_type": "markdown",
   "metadata": {},
   "source": [
    "# Concept check: What is another name for $e_i$ that we have used earlier? "
   ]
  },
  {
   "cell_type": "markdown",
   "metadata": {},
   "source": [
    "# Residuals"
   ]
  },
  {
   "cell_type": "markdown",
   "metadata": {},
   "source": [
    "# Ah! So $e_i$ = residuals! And so we can make assumptions about the fixed gear hipster error term too!\n",
    "## These are for Ordinary Least Squared residuals (there are many ways to model the residual, but this is probably most common)\n",
    "## Assumptions\n",
    "- Mean is 0 (normally distributed, aka. also secretely a normie)\n",
    "- Not correlated (none of these hipsters is related to anyother and they are operating independently aka. no tandem bikes)\n",
    "- Variance is the same (yeah they all seem weird and unique, but they are just as weird and unique as the population... psh posers) "
   ]
  },
  {
   "cell_type": "markdown",
   "metadata": {},
   "source": [
    "# Variance $\\sigma^s$\n",
    "## Can we know just how unique all the fixie hipster are??\n",
    "\n",
    "## Sum Squared Error = $\\sum_{} (Y_i-\\hat{Y}_i)^2= \\sum{}e_i^2$\n",
    "- Add up all the residuals and square them\n",
    "- Measure of the difference between the model we made and the data\n",
    "\n",
    "## Divide by degrees of freedom to get $\\sigma^s$\n",
    "### $\\sigma^s$ = $\\frac{\\sum_{} (Y_i-\\hat{Y}_i)^2= \\sum{}e_i^2}{N-2}$\n",
    "- Where N is the sample size\n",
    "- 2 is the number of parameters in the model"
   ]
  },
  {
   "cell_type": "markdown",
   "metadata": {},
   "source": [
    "# Degrees of Freedom\n",
    "## FREEDOM ISN'T FREE! \n",
    "### It depends on your sample size and how many parameters you want to model\n",
    "\n",
    "The bigger the N the better!   \n",
    "If you have a small N keep the model parameter estimates small"
   ]
  },
  {
   "cell_type": "markdown",
   "metadata": {},
   "source": [
    "# Parameter estimates (the meaty bits)\n",
    "# $Y_i = \\hat{\\beta}_0 + \\hat{\\beta}_1X_i + \\epsilon_i $"
   ]
  },
  {
   "cell_type": "markdown",
   "metadata": {},
   "source": [
    "# Concept Check: What does the hat mean?"
   ]
  },
  {
   "cell_type": "markdown",
   "metadata": {},
   "source": [
    "# This is an estimate! "
   ]
  },
  {
   "cell_type": "markdown",
   "metadata": {},
   "source": [
    "![matrix](https://cdn.onebauer.media/one/empire-images/articles/5cd5741b133d503e3a49a5c9/matrix-reloaded.jpg?quality=50&width=1800&ratio=16-9&resizeStyle=aspectfill&format=jpg)"
   ]
  },
  {
   "cell_type": "markdown",
   "metadata": {},
   "source": [
    "# Matrix Alegbra\n",
    "MAT is a matrix, specifically a 4x5\n",
    "\n",
    "MAT = [${x_i}_j$]\n",
    "\n",
    "i= rows\n",
    "j= columns"
   ]
  },
  {
   "cell_type": "code",
   "execution_count": 5,
   "metadata": {},
   "outputs": [
    {
     "name": "stdout",
     "output_type": "stream",
     "text": [
      "[[0.71989551 0.5035917  0.82445149 0.01217401 0.67959818]\n",
      " [0.66551124 0.10918429 0.52770415 0.9923416  0.11600012]\n",
      " [0.13413437 0.52034446 0.82736144 0.61690372 0.05414466]\n",
      " [0.30331068 0.129417   0.47244733 0.96635205 0.92062799]]\n",
      "(4, 5)\n"
     ]
    }
   ],
   "source": [
    "import numpy as np\n",
    "MAT = np.random.rand(4,5)\n",
    "print(MAT)\n",
    "print(MAT.shape)"
   ]
  },
  {
   "cell_type": "markdown",
   "metadata": {},
   "source": [
    "# Square Matrix\n",
    "rows = columns"
   ]
  },
  {
   "cell_type": "code",
   "execution_count": 6,
   "metadata": {},
   "outputs": [
    {
     "name": "stdout",
     "output_type": "stream",
     "text": [
      "[[0.73103614 0.58526437 0.05678031 0.37351083 0.38534293]\n",
      " [0.09928659 0.91739898 0.05364078 0.42289441 0.74405429]\n",
      " [0.92077041 0.23820908 0.66976995 0.81420073 0.89012961]\n",
      " [0.54356453 0.04621174 0.65323801 0.25193816 0.8473424 ]\n",
      " [0.47605292 0.63804036 0.34303342 0.53371748 0.8894169 ]]\n",
      "(5, 5)\n"
     ]
    }
   ],
   "source": [
    "MATsq = np.random.rand(5,5)\n",
    "print(MATsq)\n",
    "print(MATsq.shape)"
   ]
  },
  {
   "cell_type": "markdown",
   "metadata": {},
   "source": [
    "# Vector is a column or a row"
   ]
  },
  {
   "cell_type": "code",
   "execution_count": 14,
   "metadata": {},
   "outputs": [
    {
     "name": "stdout",
     "output_type": "stream",
     "text": [
      "[0.92077041 0.23820908 0.66976995 0.81420073 0.89012961]\n",
      "[0.05678031 0.05364078 0.66976995 0.65323801 0.34303342]\n"
     ]
    }
   ],
   "source": [
    "V3i=MATsq[2]\n",
    "print(V3i) #this is the 3rd row, weird python thing it starts counting at 0\n",
    "Vi3=MATsq[:,2]\n",
    "print(Vi3) #this is the 3rd column, the : just means all rows"
   ]
  },
  {
   "cell_type": "markdown",
   "metadata": {},
   "source": [
    "# Special Matrices\n",
    "\n",
    "## Diagonal\n",
    "## Identity "
   ]
  },
  {
   "cell_type": "markdown",
   "metadata": {},
   "source": [
    "# Special Matrices\n",
    "\n",
    "## Diagonal\n",
    "- All entries off the diagonal are 0\n",
    "- All identity matrices are diagonal, not all diagonal are identity matrices though\n",
    "- These matrices are important when calculating eigenvalues\n",
    "- These also are important for linear transformations in two-dimensional space\n"
   ]
  },
  {
   "cell_type": "code",
   "execution_count": 19,
   "metadata": {},
   "outputs": [
    {
     "name": "stdout",
     "output_type": "stream",
     "text": [
      "this is our non-diagonal matrix\n",
      "[[ 0  1  2  3  4]\n",
      " [ 5  6  7  8  9]\n",
      " [10 11 12 13 14]\n",
      " [15 16 17 18 19]\n",
      " [20 21 22 23 24]]\n",
      "this is our diagonal matrix\n",
      "[[ 0  0  0  0  0]\n",
      " [ 0  6  0  0  0]\n",
      " [ 0  0 12  0  0]\n",
      " [ 0  0  0 18  0]\n",
      " [ 0  0  0  0 24]]\n"
     ]
    }
   ],
   "source": [
    "# Diagonal\n",
    "x = np.arange(25).reshape((5,5))\n",
    "print('this is our non-diagonal matrix')\n",
    "print(x)\n",
    "print('this is our diagonal matrix')\n",
    "print(np.diag(np.diag(x)))\n"
   ]
  },
  {
   "cell_type": "code",
   "execution_count": 20,
   "metadata": {},
   "outputs": [
    {
     "data": {
      "text/plain": [
       "array([[1., 0., 0., 0., 0.],\n",
       "       [0., 1., 0., 0., 0.],\n",
       "       [0., 0., 1., 0., 0.],\n",
       "       [0., 0., 0., 1., 0.],\n",
       "       [0., 0., 0., 0., 1.]])"
      ]
     },
     "execution_count": 20,
     "metadata": {},
     "output_type": "execute_result"
    }
   ],
   "source": [
    "# Identity matrix\n",
    "np.identity(5)"
   ]
  },
  {
   "cell_type": "markdown",
   "metadata": {},
   "source": [
    "# 7. FILM (FMRIB's Improved Linear Model)\n",
    "How do they come up with these names???"
   ]
  },
  {
   "cell_type": "markdown",
   "metadata": {},
   "source": [
    "# FILM frustration\n",
    "FILM is easily the most confusing and least understood part of FEAT and fMRI analysis in general. According to the FSL website FILM is, \"a robust and accurate nonparametric estimation of time series autocorrelation to prewhiten each voxel's time series; this gives improved estimation efficiency compared with methods that do not pre-whiten.\" "
   ]
  },
  {
   "cell_type": "markdown",
   "metadata": {},
   "source": [
    "# Prewhiten? \n",
    "When we talk about noise in data (any data not just fMRI) we have 'coloured' and 'white' noises.  \n",
    "![noise](https://upload.wikimedia.org/wikipedia/commons/6/6c/The_Colors_of_Noise.png)\n",
    "_image from wikipedia_"
   ]
  },
  {
   "cell_type": "markdown",
   "metadata": {},
   "source": [
    "## White noise\n",
    "Is random signal with a flat power spectra. White noise is supposed to be discrete, serially uncorrelated, with a mean of 0 and finite variance. \n",
    "![whitenoise](https://upload.wikimedia.org/wikipedia/commons/thumb/c/c1/White_noise.svg/2560px-White_noise.svg.png)"
   ]
  },
  {
   "cell_type": "markdown",
   "metadata": {},
   "source": [
    "## Cool, cool... what?\n",
    "Scientist needed to classify different frequencies of noise so they decided to label them with the same names as similar light (color) frequencies. \n",
    "\n",
    "## Why do we care about this noise?\n",
    "We are taking measurements across time. Therefore, each timepoint is correlated to the other timepoints! Points closer to each other in time are more correlated to each other compared to points far away in time. \n",
    "### Thought experiment\n",
    "Think about the differences between a single person when they are a  2 y old child and a 10 y old child.... They are pretty different right? But now think about when that person is a 10 y old child and a 85 y old adult... Which are more similar? "
   ]
  },
  {
   "cell_type": "markdown",
   "metadata": {},
   "source": [
    "# Prewhiten, not just for laundry\n",
    "So we know we have an underlying correlation in our data. This is 'coloured' noise. We can apply fancy, fancy stats to make this 'coloured' noise white. Thus the word _prewhiten_\n",
    "\n",
    "You have probably been unknowingly prewhitening data for years and not known! Commonly when modeling repeated measures!\n",
    "\n",
    "In R when generating a linear mixed model regression (nlme or lme4) you have the option:\n",
    "```\n",
    "fm1 <- lme(distance ~ age, data = Orthodont, correlation= corAR1) # random is ~ age\n",
    "fm2 <- lme(distance ~ age + Sex, data = Orthodont, random = ~ 1, correlation= corAR1)\n",
    "summary(fm1)\n",
    "summary(fm2)\n",
    "```\n",
    "The correlation flag set the correlation structure of the data. There are quite a few options:\n",
    "- corAR1 autoregressive process of order 1.\n",
    "- corARMA autoregressive moving average process, with arbitrary orders for the autoregressive and moving average components.\n",
    "- corCAR1 continuous autoregressive process (AR(1) process for a continuous time covariate).\n",
    "- corCompSymm compound symmetry structure corresponding to a constant correlation.\n",
    "- corExp exponential spatial correlation.\n",
    "- corGaus Gaussian spatial correlation.\n",
    "- corLin linear spatial correlation.\n",
    "- corRatio Rational quadratics spatial correlation.\n",
    "- corSpher spherical spatial correlation.\n",
    "- corSymm general correlation matrix, with no additional structure."
   ]
  },
  {
   "cell_type": "markdown",
   "metadata": {},
   "source": [
    "# Ok so which one is FILM?\n",
    "_from https://www.fmrib.ox.ac.uk/datasets/techrep/tr04ss2/tr04ss2/node3.html_\n",
    "- Applying a Tukey taper to the raw estimates (to smoothly \"roll off\" higher lags) gave the best results \n",
    "- Spatial smoothing of the resulting autocorrelation estimates was found to be important in reducing bias further. \n",
    "- The autocorrelation was found to vary considerably between matter types (with higher autocorrelation in the grey matter than in white). \n",
    "- Therefore, we apply non-linear spatial smoothing to the autocorrelation coefficients, only smoothing within matter type.\n",
    "\n",
    "## TL;DR\n",
    "FILM is pretty special. \n",
    "* Not only is it whitening noise due by removing the autocorrelation in the timeseries, it is also reducing bias from the autocorrelation in SPACE. THEY ARE CORRECTING A SPACE-TIME AUTOCORRELATION STRUCTURE! \n",
    "* Then they take it a step farther and say, \"damn, this is different between the type of SPACE\" so they make it non-linear to smooth within SPACE type! "
   ]
  },
  {
   "cell_type": "markdown",
   "metadata": {},
   "source": [
    "# 8. First level stats\n",
    "## - Confounds\n",
    "## - Modeling\n"
   ]
  },
  {
   "cell_type": "code",
   "execution_count": null,
   "metadata": {},
   "outputs": [],
   "source": []
  }
 ],
 "metadata": {
  "celltoolbar": "Slideshow",
  "kernelspec": {
   "display_name": "Python 3",
   "language": "python",
   "name": "python3"
  },
  "language_info": {
   "codemirror_mode": {
    "name": "ipython",
    "version": 3
   },
   "file_extension": ".py",
   "mimetype": "text/x-python",
   "name": "python",
   "nbconvert_exporter": "python",
   "pygments_lexer": "ipython3",
   "version": "3.6.5"
  }
 },
 "nbformat": 4,
 "nbformat_minor": 2
}
